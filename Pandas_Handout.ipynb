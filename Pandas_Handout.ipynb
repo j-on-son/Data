{
  "nbformat": 4,
  "nbformat_minor": 0,
  "metadata": {
    "kernelspec": {
      "display_name": "Python 3",
      "language": "python",
      "name": "python3"
    },
    "language_info": {
      "codemirror_mode": {
        "name": "ipython",
        "version": 3
      },
      "file_extension": ".py",
      "mimetype": "text/x-python",
      "name": "python",
      "nbconvert_exporter": "python",
      "pygments_lexer": "ipython3",
      "version": "3.7.4"
    },
    "colab": {
      "name": "Pandas_Handout.ipynb",
      "provenance": [],
      "collapsed_sections": [],
      "include_colab_link": true
    }
  },
  "cells": [
    {
      "cell_type": "markdown",
      "metadata": {
        "id": "view-in-github",
        "colab_type": "text"
      },
      "source": [
        "<a href=\"https://colab.research.google.com/github/j-on-son/Data/blob/master/Pandas_Handout.ipynb\" target=\"_parent\"><img src=\"https://colab.research.google.com/assets/colab-badge.svg\" alt=\"Open In Colab\"/></a>"
      ]
    },
    {
      "cell_type": "code",
      "metadata": {
        "id": "55xSlT5yWoji",
        "colab_type": "code",
        "colab": {}
      },
      "source": [
        "import pandas as pd\n",
        "import numpy as np"
      ],
      "execution_count": 0,
      "outputs": []
    },
    {
      "cell_type": "code",
      "metadata": {
        "id": "asqacaeYWojr",
        "colab_type": "code",
        "outputId": "036e2f33-4935-4f5e-c603-9d4063cdadf4",
        "colab": {
          "base_uri": "https://localhost:8080/",
          "height": 103
        }
      },
      "source": [
        "# creating a Series from a list\n",
        "\n",
        "a_list = [1, 2, 3, 4]\n",
        "a_series = pd.Series(a_list)\n",
        "a_series"
      ],
      "execution_count": 14,
      "outputs": [
        {
          "output_type": "execute_result",
          "data": {
            "text/plain": [
              "0    1\n",
              "1    2\n",
              "2    3\n",
              "3    4\n",
              "dtype: int64"
            ]
          },
          "metadata": {
            "tags": []
          },
          "execution_count": 14
        }
      ]
    },
    {
      "cell_type": "code",
      "metadata": {
        "id": "Z7l2fvqXWojw",
        "colab_type": "code",
        "outputId": "6cc71705-966a-4d71-aaba-4e1d61c71e78",
        "colab": {
          "base_uri": "https://localhost:8080/",
          "height": 34
        }
      },
      "source": [
        "type(a_series)"
      ],
      "execution_count": 15,
      "outputs": [
        {
          "output_type": "execute_result",
          "data": {
            "text/plain": [
              "pandas.core.series.Series"
            ]
          },
          "metadata": {
            "tags": []
          },
          "execution_count": 15
        }
      ]
    },
    {
      "cell_type": "code",
      "metadata": {
        "id": "qC-jrtxbWoj3",
        "colab_type": "code",
        "outputId": "420b713f-a42d-40d1-f9b2-84106fe5d6a8",
        "colab": {
          "base_uri": "https://localhost:8080/",
          "height": 34
        }
      },
      "source": [
        "# returns a RangeIndex object with the start, stop, and step endpoints (stop is exclusive)\n",
        "\n",
        "a_series.index"
      ],
      "execution_count": 16,
      "outputs": [
        {
          "output_type": "execute_result",
          "data": {
            "text/plain": [
              "RangeIndex(start=0, stop=4, step=1)"
            ]
          },
          "metadata": {
            "tags": []
          },
          "execution_count": 16
        }
      ]
    },
    {
      "cell_type": "code",
      "metadata": {
        "id": "ehaosAuLWoj7",
        "colab_type": "code",
        "outputId": "27b9fc2c-3b39-496e-af2d-a667da542fcd",
        "colab": {
          "base_uri": "https://localhost:8080/",
          "height": 34
        }
      },
      "source": [
        "# returns a np.array containing all of the values from the Series\n",
        "\n",
        "a_series.values"
      ],
      "execution_count": 17,
      "outputs": [
        {
          "output_type": "execute_result",
          "data": {
            "text/plain": [
              "array([1, 2, 3, 4])"
            ]
          },
          "metadata": {
            "tags": []
          },
          "execution_count": 17
        }
      ]
    },
    {
      "cell_type": "code",
      "metadata": {
        "id": "tEZC4v5MWoj_",
        "colab_type": "code",
        "outputId": "012177f7-9371-445f-9e31-cf5ff2db6230",
        "colab": {
          "base_uri": "https://localhost:8080/",
          "height": 103
        }
      },
      "source": [
        "# setting non-numeric indices to a Series\n",
        "\n",
        "dates = [\"2020-04-08\", \"2020-04-09\", \"2020-04-10\", \"2020-04-11\"]\n",
        "a_series = pd.Series(a_list, index = dates)\n",
        "a_series"
      ],
      "execution_count": 18,
      "outputs": [
        {
          "output_type": "execute_result",
          "data": {
            "text/plain": [
              "2020-04-08    1\n",
              "2020-04-09    2\n",
              "2020-04-10    3\n",
              "2020-04-11    4\n",
              "dtype: int64"
            ]
          },
          "metadata": {
            "tags": []
          },
          "execution_count": 18
        }
      ]
    },
    {
      "cell_type": "code",
      "metadata": {
        "id": "2ggj6HHKWokE",
        "colab_type": "code",
        "outputId": "afaa2805-9f17-4148-82af-b636afdf0874",
        "colab": {
          "base_uri": "https://localhost:8080/",
          "height": 121
        }
      },
      "source": [
        "# creating a Series using a dictionary\n",
        "\n",
        "a_dict = dict(zip(dates, a_list))\n",
        "print(\"Date dictionary: \", a_dict)\n",
        "a_series = pd.Series(a_dict)\n",
        "a_series"
      ],
      "execution_count": 19,
      "outputs": [
        {
          "output_type": "stream",
          "text": [
            "Date dictionary:  {'2020-04-08': 1, '2020-04-09': 2, '2020-04-10': 3, '2020-04-11': 4}\n"
          ],
          "name": "stdout"
        },
        {
          "output_type": "execute_result",
          "data": {
            "text/plain": [
              "2020-04-08    1\n",
              "2020-04-09    2\n",
              "2020-04-10    3\n",
              "2020-04-11    4\n",
              "dtype: int64"
            ]
          },
          "metadata": {
            "tags": []
          },
          "execution_count": 19
        }
      ]
    },
    {
      "cell_type": "code",
      "metadata": {
        "id": "aJAB76sHWokI",
        "colab_type": "code",
        "outputId": "873f7525-4e40-418b-bd7f-47bf1789d399",
        "colab": {
          "base_uri": "https://localhost:8080/",
          "height": 121
        }
      },
      "source": [
        "# show the first 5 rows of the Series (default)\n",
        "\n",
        "a_series = pd.Series({i : i ** 2 for i in range(100)})\n",
        "a_series.head()"
      ],
      "execution_count": 20,
      "outputs": [
        {
          "output_type": "execute_result",
          "data": {
            "text/plain": [
              "0     0\n",
              "1     1\n",
              "2     4\n",
              "3     9\n",
              "4    16\n",
              "dtype: int64"
            ]
          },
          "metadata": {
            "tags": []
          },
          "execution_count": 20
        }
      ]
    },
    {
      "cell_type": "code",
      "metadata": {
        "id": "U_C1KC6TWokK",
        "colab_type": "code",
        "outputId": "a3eccf5b-e074-4ed5-dcc3-5c481af6cbab",
        "colab": {
          "base_uri": "https://localhost:8080/",
          "height": 121
        }
      },
      "source": [
        "# show the last 5 rows of the Series (default)\n",
        "\n",
        "a_series.tail()"
      ],
      "execution_count": 21,
      "outputs": [
        {
          "output_type": "execute_result",
          "data": {
            "text/plain": [
              "95    9025\n",
              "96    9216\n",
              "97    9409\n",
              "98    9604\n",
              "99    9801\n",
              "dtype: int64"
            ]
          },
          "metadata": {
            "tags": []
          },
          "execution_count": 21
        }
      ]
    },
    {
      "cell_type": "code",
      "metadata": {
        "id": "lVIFsWNTWokO",
        "colab_type": "code",
        "outputId": "52deaaa6-9ec9-4000-db5b-4ba788d501c5",
        "colab": {
          "base_uri": "https://localhost:8080/",
          "height": 207
        }
      },
      "source": [
        "# show the first 10 rows of the Series\n",
        "\n",
        "a_series.head(10)"
      ],
      "execution_count": 22,
      "outputs": [
        {
          "output_type": "execute_result",
          "data": {
            "text/plain": [
              "0     0\n",
              "1     1\n",
              "2     4\n",
              "3     9\n",
              "4    16\n",
              "5    25\n",
              "6    36\n",
              "7    49\n",
              "8    64\n",
              "9    81\n",
              "dtype: int64"
            ]
          },
          "metadata": {
            "tags": []
          },
          "execution_count": 22
        }
      ]
    },
    {
      "cell_type": "code",
      "metadata": {
        "id": "H7rggzEuWokQ",
        "colab_type": "code",
        "outputId": "f46bab8d-1b8b-4e0a-eb07-87f6301c5da8",
        "colab": {
          "base_uri": "https://localhost:8080/",
          "height": 34
        }
      },
      "source": [
        "# returns number of elements in a Series\n",
        "\n",
        "a_series.size"
      ],
      "execution_count": 23,
      "outputs": [
        {
          "output_type": "execute_result",
          "data": {
            "text/plain": [
              "100"
            ]
          },
          "metadata": {
            "tags": []
          },
          "execution_count": 23
        }
      ]
    },
    {
      "cell_type": "code",
      "metadata": {
        "id": "NAIoyaVKWokS",
        "colab_type": "code",
        "outputId": "b14e1be9-2936-4e7b-e70a-47bcab0de68f",
        "colab": {
          "base_uri": "https://localhost:8080/",
          "height": 34
        }
      },
      "source": [
        "# returns the dtype of the elements in a Series\n",
        "\n",
        "a_series.dtype"
      ],
      "execution_count": 24,
      "outputs": [
        {
          "output_type": "execute_result",
          "data": {
            "text/plain": [
              "dtype('int64')"
            ]
          },
          "metadata": {
            "tags": []
          },
          "execution_count": 24
        }
      ]
    },
    {
      "cell_type": "code",
      "metadata": {
        "id": "FJRIQTVJWokU",
        "colab_type": "code",
        "outputId": "3971d570-1545-4654-e6ab-3bbbe2ebeeb0",
        "colab": {
          "base_uri": "https://localhost:8080/",
          "height": 34
        }
      },
      "source": [
        "# selecting specific values using labels from a Series\n",
        "\n",
        "a_series = pd.Series(data = [1, 2, 3, 4], index = dates)\n",
        "a_series.loc['2020-04-08']"
      ],
      "execution_count": 25,
      "outputs": [
        {
          "output_type": "execute_result",
          "data": {
            "text/plain": [
              "1"
            ]
          },
          "metadata": {
            "tags": []
          },
          "execution_count": 25
        }
      ]
    },
    {
      "cell_type": "code",
      "metadata": {
        "id": "oo6OyQ4OWokX",
        "colab_type": "code",
        "outputId": "500ac2bd-f9cc-42bf-c04f-ef940dcc6745",
        "colab": {
          "base_uri": "https://localhost:8080/",
          "height": 34
        }
      },
      "source": [
        "# selecting specific values using position from a Series\n",
        "\n",
        "a_series.iloc[-1]"
      ],
      "execution_count": 26,
      "outputs": [
        {
          "output_type": "execute_result",
          "data": {
            "text/plain": [
              "4"
            ]
          },
          "metadata": {
            "tags": []
          },
          "execution_count": 26
        }
      ]
    },
    {
      "cell_type": "code",
      "metadata": {
        "id": "cMuljv3OWoka",
        "colab_type": "code",
        "outputId": "667ed726-33f8-4e78-c19c-09ba5fc11e21",
        "colab": {
          "base_uri": "https://localhost:8080/",
          "height": 51
        }
      },
      "source": [
        "# selecting values without using .loc or .iloc from a Series (DOES NOT WORK FOR DATAFRAMES)\n",
        "\n",
        "print(\"The value at position 0:\", a_series[0])\n",
        "a_series['2020-04-11']"
      ],
      "execution_count": 27,
      "outputs": [
        {
          "output_type": "stream",
          "text": [
            "The value at position 0: 1\n"
          ],
          "name": "stdout"
        },
        {
          "output_type": "execute_result",
          "data": {
            "text/plain": [
              "4"
            ]
          },
          "metadata": {
            "tags": []
          },
          "execution_count": 27
        }
      ]
    },
    {
      "cell_type": "code",
      "metadata": {
        "id": "ThkRX6S3Wokd",
        "colab_type": "code",
        "outputId": "2b031671-c379-484f-e0b3-9cf1c65b5d14",
        "colab": {
          "base_uri": "https://localhost:8080/",
          "height": 69
        }
      },
      "source": [
        "# slicing a Series with position\n",
        "\n",
        "a_series.iloc[:2]"
      ],
      "execution_count": 28,
      "outputs": [
        {
          "output_type": "execute_result",
          "data": {
            "text/plain": [
              "2020-04-08    1\n",
              "2020-04-09    2\n",
              "dtype: int64"
            ]
          },
          "metadata": {
            "tags": []
          },
          "execution_count": 28
        }
      ]
    },
    {
      "cell_type": "code",
      "metadata": {
        "id": "-k0sWFzjWokg",
        "colab_type": "code",
        "outputId": "4b007a26-c8eb-48d2-b113-c33d2d9e878c",
        "colab": {
          "base_uri": "https://localhost:8080/",
          "height": 86
        }
      },
      "source": [
        "# slicing a Series with label\n",
        "\n",
        "a_series.loc['2020-04-08':'2020-04-10']"
      ],
      "execution_count": 29,
      "outputs": [
        {
          "output_type": "execute_result",
          "data": {
            "text/plain": [
              "2020-04-08    1\n",
              "2020-04-09    2\n",
              "2020-04-10    3\n",
              "dtype: int64"
            ]
          },
          "metadata": {
            "tags": []
          },
          "execution_count": 29
        }
      ]
    },
    {
      "cell_type": "code",
      "metadata": {
        "id": "9g1OhxfzWokh",
        "colab_type": "code",
        "outputId": "028f2701-14b6-4695-921d-2325ccbede15",
        "colab": {
          "base_uri": "https://localhost:8080/",
          "height": 69
        }
      },
      "source": [
        "# finding subset of Series with value less than 3\n",
        "\n",
        "a_series[a_series < 3]"
      ],
      "execution_count": 30,
      "outputs": [
        {
          "output_type": "execute_result",
          "data": {
            "text/plain": [
              "2020-04-08    1\n",
              "2020-04-09    2\n",
              "dtype: int64"
            ]
          },
          "metadata": {
            "tags": []
          },
          "execution_count": 30
        }
      ]
    },
    {
      "cell_type": "code",
      "metadata": {
        "id": "m8q2ylXKWokj",
        "colab_type": "code",
        "outputId": "d6a47486-f335-4bc1-ed38-b87eb0e1afd4",
        "colab": {
          "base_uri": "https://localhost:8080/",
          "height": 103
        }
      },
      "source": [
        "# mutating values from a Series\n",
        "\n",
        "a_series.loc[\"2020-04-08\"] = -1 \n",
        "a_series.iloc[1] = -2\n",
        "a_series"
      ],
      "execution_count": 31,
      "outputs": [
        {
          "output_type": "execute_result",
          "data": {
            "text/plain": [
              "2020-04-08   -1\n",
              "2020-04-09   -2\n",
              "2020-04-10    3\n",
              "2020-04-11    4\n",
              "dtype: int64"
            ]
          },
          "metadata": {
            "tags": []
          },
          "execution_count": 31
        }
      ]
    },
    {
      "cell_type": "code",
      "metadata": {
        "id": "qXL-YJ4lWokl",
        "colab_type": "code",
        "outputId": "6a4e7e57-3e0c-4b6d-da4a-620db1699419",
        "colab": {
          "base_uri": "https://localhost:8080/",
          "height": 121
        }
      },
      "source": [
        "# appending new values to Series\n",
        "\n",
        "a_series.loc[\"2020-04-12\"] = 5 \n",
        "a_series"
      ],
      "execution_count": 32,
      "outputs": [
        {
          "output_type": "execute_result",
          "data": {
            "text/plain": [
              "2020-04-08   -1\n",
              "2020-04-09   -2\n",
              "2020-04-10    3\n",
              "2020-04-11    4\n",
              "2020-04-12    5\n",
              "dtype: int64"
            ]
          },
          "metadata": {
            "tags": []
          },
          "execution_count": 32
        }
      ]
    },
    {
      "cell_type": "code",
      "metadata": {
        "id": "y9d-uMavWokn",
        "colab_type": "code",
        "outputId": "7912c4e8-8849-4a48-e1c1-b3d4983f864a",
        "colab": {
          "base_uri": "https://localhost:8080/",
          "height": 121
        }
      },
      "source": [
        "# vectorized operations on Series\n",
        "\n",
        "a_series = a_series * 2 \n",
        "a_series"
      ],
      "execution_count": 33,
      "outputs": [
        {
          "output_type": "execute_result",
          "data": {
            "text/plain": [
              "2020-04-08    -2\n",
              "2020-04-09    -4\n",
              "2020-04-10     6\n",
              "2020-04-11     8\n",
              "2020-04-12    10\n",
              "dtype: int64"
            ]
          },
          "metadata": {
            "tags": []
          },
          "execution_count": 33
        }
      ]
    },
    {
      "cell_type": "code",
      "metadata": {
        "id": "voFQnOE9Wokp",
        "colab_type": "code",
        "outputId": "e84423ae-7831-4ff7-94e0-ad7a6dd9fb33",
        "colab": {
          "base_uri": "https://localhost:8080/",
          "height": 138
        }
      },
      "source": [
        "# replacing conditional values with np.where\n",
        "\n",
        "print(\"array(\",np.where(a_series < 0, 0, a_series), \")\")\n",
        "\n",
        "a_series.iloc[0::] = np.where(a_series < 0, 0, a_series) \n",
        "a_series"
      ],
      "execution_count": 34,
      "outputs": [
        {
          "output_type": "stream",
          "text": [
            "array( [ 0  0  6  8 10] )\n"
          ],
          "name": "stdout"
        },
        {
          "output_type": "execute_result",
          "data": {
            "text/plain": [
              "2020-04-08     0\n",
              "2020-04-09     0\n",
              "2020-04-10     6\n",
              "2020-04-11     8\n",
              "2020-04-12    10\n",
              "dtype: int64"
            ]
          },
          "metadata": {
            "tags": []
          },
          "execution_count": 34
        }
      ]
    },
    {
      "cell_type": "code",
      "metadata": {
        "id": "CIdFvUeBWokr",
        "colab_type": "code",
        "outputId": "1a6cc17e-e2a8-42f5-ffaa-27c665b9ec66",
        "colab": {
          "base_uri": "https://localhost:8080/",
          "height": 121
        }
      },
      "source": [
        "# sorting a Series\n",
        "\n",
        "a_series.sort_values(ascending = False)"
      ],
      "execution_count": 35,
      "outputs": [
        {
          "output_type": "execute_result",
          "data": {
            "text/plain": [
              "2020-04-12    10\n",
              "2020-04-11     8\n",
              "2020-04-10     6\n",
              "2020-04-09     0\n",
              "2020-04-08     0\n",
              "dtype: int64"
            ]
          },
          "metadata": {
            "tags": []
          },
          "execution_count": 35
        }
      ]
    },
    {
      "cell_type": "code",
      "metadata": {
        "id": "lqPuH2MXWoks",
        "colab_type": "code",
        "outputId": "6de9046a-7048-4365-beb1-55afca091aae",
        "colab": {
          "base_uri": "https://localhost:8080/",
          "height": 103
        }
      },
      "source": [
        "# removing a value from a Series\n",
        "\n",
        "a_series.drop('2020-04-08')"
      ],
      "execution_count": 36,
      "outputs": [
        {
          "output_type": "execute_result",
          "data": {
            "text/plain": [
              "2020-04-09     0\n",
              "2020-04-10     6\n",
              "2020-04-11     8\n",
              "2020-04-12    10\n",
              "dtype: int64"
            ]
          },
          "metadata": {
            "tags": []
          },
          "execution_count": 36
        }
      ]
    },
    {
      "cell_type": "code",
      "metadata": {
        "id": "i7GSXpSEWoku",
        "colab_type": "code",
        "outputId": "00cf6205-dce2-478a-8826-a184abfd064c",
        "colab": {
          "base_uri": "https://localhost:8080/",
          "height": 171
        }
      },
      "source": [
        "# creating a DataFrame\n",
        "\n",
        "grades = np.array([[\"Exam 1\", \"Exam 2\", \"Exam 3\"], \n",
        "                   [      90,       87,       96], \n",
        "                   [      79,      100,       92], \n",
        "                   [      98,       60,       74]])\n",
        "df = pd.DataFrame(data = grades)\n",
        "df"
      ],
      "execution_count": 37,
      "outputs": [
        {
          "output_type": "execute_result",
          "data": {
            "text/html": [
              "<div>\n",
              "<style scoped>\n",
              "    .dataframe tbody tr th:only-of-type {\n",
              "        vertical-align: middle;\n",
              "    }\n",
              "\n",
              "    .dataframe tbody tr th {\n",
              "        vertical-align: top;\n",
              "    }\n",
              "\n",
              "    .dataframe thead th {\n",
              "        text-align: right;\n",
              "    }\n",
              "</style>\n",
              "<table border=\"1\" class=\"dataframe\">\n",
              "  <thead>\n",
              "    <tr style=\"text-align: right;\">\n",
              "      <th></th>\n",
              "      <th>0</th>\n",
              "      <th>1</th>\n",
              "      <th>2</th>\n",
              "    </tr>\n",
              "  </thead>\n",
              "  <tbody>\n",
              "    <tr>\n",
              "      <th>0</th>\n",
              "      <td>Exam 1</td>\n",
              "      <td>Exam 2</td>\n",
              "      <td>Exam 3</td>\n",
              "    </tr>\n",
              "    <tr>\n",
              "      <th>1</th>\n",
              "      <td>90</td>\n",
              "      <td>87</td>\n",
              "      <td>96</td>\n",
              "    </tr>\n",
              "    <tr>\n",
              "      <th>2</th>\n",
              "      <td>79</td>\n",
              "      <td>100</td>\n",
              "      <td>92</td>\n",
              "    </tr>\n",
              "    <tr>\n",
              "      <th>3</th>\n",
              "      <td>98</td>\n",
              "      <td>60</td>\n",
              "      <td>74</td>\n",
              "    </tr>\n",
              "  </tbody>\n",
              "</table>\n",
              "</div>"
            ],
            "text/plain": [
              "        0       1       2\n",
              "0  Exam 1  Exam 2  Exam 3\n",
              "1      90      87      96\n",
              "2      79     100      92\n",
              "3      98      60      74"
            ]
          },
          "metadata": {
            "tags": []
          },
          "execution_count": 37
        }
      ]
    },
    {
      "cell_type": "code",
      "metadata": {
        "id": "GHv3FrfoWokw",
        "colab_type": "code",
        "outputId": "86ef6f1e-72f9-4357-d6a2-37b5c1cc5222",
        "colab": {
          "base_uri": "https://localhost:8080/",
          "height": 140
        }
      },
      "source": [
        "# assigning index and columns to a DataFrame\n",
        "\n",
        "df = pd.DataFrame(data = grades[1:], columns = grades[0])\n",
        "df"
      ],
      "execution_count": 38,
      "outputs": [
        {
          "output_type": "execute_result",
          "data": {
            "text/html": [
              "<div>\n",
              "<style scoped>\n",
              "    .dataframe tbody tr th:only-of-type {\n",
              "        vertical-align: middle;\n",
              "    }\n",
              "\n",
              "    .dataframe tbody tr th {\n",
              "        vertical-align: top;\n",
              "    }\n",
              "\n",
              "    .dataframe thead th {\n",
              "        text-align: right;\n",
              "    }\n",
              "</style>\n",
              "<table border=\"1\" class=\"dataframe\">\n",
              "  <thead>\n",
              "    <tr style=\"text-align: right;\">\n",
              "      <th></th>\n",
              "      <th>Exam 1</th>\n",
              "      <th>Exam 2</th>\n",
              "      <th>Exam 3</th>\n",
              "    </tr>\n",
              "  </thead>\n",
              "  <tbody>\n",
              "    <tr>\n",
              "      <th>0</th>\n",
              "      <td>90</td>\n",
              "      <td>87</td>\n",
              "      <td>96</td>\n",
              "    </tr>\n",
              "    <tr>\n",
              "      <th>1</th>\n",
              "      <td>79</td>\n",
              "      <td>100</td>\n",
              "      <td>92</td>\n",
              "    </tr>\n",
              "    <tr>\n",
              "      <th>2</th>\n",
              "      <td>98</td>\n",
              "      <td>60</td>\n",
              "      <td>74</td>\n",
              "    </tr>\n",
              "  </tbody>\n",
              "</table>\n",
              "</div>"
            ],
            "text/plain": [
              "  Exam 1 Exam 2 Exam 3\n",
              "0     90     87     96\n",
              "1     79    100     92\n",
              "2     98     60     74"
            ]
          },
          "metadata": {
            "tags": []
          },
          "execution_count": 38
        }
      ]
    },
    {
      "cell_type": "code",
      "metadata": {
        "id": "UVUR0-qcWokx",
        "colab_type": "code",
        "outputId": "59ea1887-28fc-4a37-b771-04c6e22c72e3",
        "colab": {
          "base_uri": "https://localhost:8080/",
          "height": 140
        }
      },
      "source": [
        "# changing the index values of a DataFrame\n",
        "\n",
        "names = [\"George B.\", \"Calvin J.\", \"Chris P.\"]\n",
        "df.index = names\n",
        "df"
      ],
      "execution_count": 39,
      "outputs": [
        {
          "output_type": "execute_result",
          "data": {
            "text/html": [
              "<div>\n",
              "<style scoped>\n",
              "    .dataframe tbody tr th:only-of-type {\n",
              "        vertical-align: middle;\n",
              "    }\n",
              "\n",
              "    .dataframe tbody tr th {\n",
              "        vertical-align: top;\n",
              "    }\n",
              "\n",
              "    .dataframe thead th {\n",
              "        text-align: right;\n",
              "    }\n",
              "</style>\n",
              "<table border=\"1\" class=\"dataframe\">\n",
              "  <thead>\n",
              "    <tr style=\"text-align: right;\">\n",
              "      <th></th>\n",
              "      <th>Exam 1</th>\n",
              "      <th>Exam 2</th>\n",
              "      <th>Exam 3</th>\n",
              "    </tr>\n",
              "  </thead>\n",
              "  <tbody>\n",
              "    <tr>\n",
              "      <th>George B.</th>\n",
              "      <td>90</td>\n",
              "      <td>87</td>\n",
              "      <td>96</td>\n",
              "    </tr>\n",
              "    <tr>\n",
              "      <th>Calvin J.</th>\n",
              "      <td>79</td>\n",
              "      <td>100</td>\n",
              "      <td>92</td>\n",
              "    </tr>\n",
              "    <tr>\n",
              "      <th>Chris P.</th>\n",
              "      <td>98</td>\n",
              "      <td>60</td>\n",
              "      <td>74</td>\n",
              "    </tr>\n",
              "  </tbody>\n",
              "</table>\n",
              "</div>"
            ],
            "text/plain": [
              "          Exam 1 Exam 2 Exam 3\n",
              "George B.     90     87     96\n",
              "Calvin J.     79    100     92\n",
              "Chris P.      98     60     74"
            ]
          },
          "metadata": {
            "tags": []
          },
          "execution_count": 39
        }
      ]
    },
    {
      "cell_type": "code",
      "metadata": {
        "id": "Au5gKbh_Woky",
        "colab_type": "code",
        "outputId": "5ed16f65-4097-4a38-a8b6-f0c5ded5047c",
        "colab": {
          "base_uri": "https://localhost:8080/",
          "height": 140
        }
      },
      "source": [
        "# alternative way of changing the index values of a Dataframe\n",
        "\n",
        "pd.DataFrame(data = grades[1:], columns = grades[0], index = names)"
      ],
      "execution_count": 40,
      "outputs": [
        {
          "output_type": "execute_result",
          "data": {
            "text/html": [
              "<div>\n",
              "<style scoped>\n",
              "    .dataframe tbody tr th:only-of-type {\n",
              "        vertical-align: middle;\n",
              "    }\n",
              "\n",
              "    .dataframe tbody tr th {\n",
              "        vertical-align: top;\n",
              "    }\n",
              "\n",
              "    .dataframe thead th {\n",
              "        text-align: right;\n",
              "    }\n",
              "</style>\n",
              "<table border=\"1\" class=\"dataframe\">\n",
              "  <thead>\n",
              "    <tr style=\"text-align: right;\">\n",
              "      <th></th>\n",
              "      <th>Exam 1</th>\n",
              "      <th>Exam 2</th>\n",
              "      <th>Exam 3</th>\n",
              "    </tr>\n",
              "  </thead>\n",
              "  <tbody>\n",
              "    <tr>\n",
              "      <th>George B.</th>\n",
              "      <td>90</td>\n",
              "      <td>87</td>\n",
              "      <td>96</td>\n",
              "    </tr>\n",
              "    <tr>\n",
              "      <th>Calvin J.</th>\n",
              "      <td>79</td>\n",
              "      <td>100</td>\n",
              "      <td>92</td>\n",
              "    </tr>\n",
              "    <tr>\n",
              "      <th>Chris P.</th>\n",
              "      <td>98</td>\n",
              "      <td>60</td>\n",
              "      <td>74</td>\n",
              "    </tr>\n",
              "  </tbody>\n",
              "</table>\n",
              "</div>"
            ],
            "text/plain": [
              "          Exam 1 Exam 2 Exam 3\n",
              "George B.     90     87     96\n",
              "Calvin J.     79    100     92\n",
              "Chris P.      98     60     74"
            ]
          },
          "metadata": {
            "tags": []
          },
          "execution_count": 40
        }
      ]
    },
    {
      "cell_type": "code",
      "metadata": {
        "id": "UYFEagnlWok0",
        "colab_type": "code",
        "outputId": "570b3b6d-1055-484b-a5fd-06fa9e5e2ec3",
        "colab": {
          "base_uri": "https://localhost:8080/",
          "height": 140
        }
      },
      "source": [
        "# creating a DataFrame from iterables and dictionaries\n",
        "\n",
        "names = [\"George B.\", \"Calvin J.\", \"Chris P.\"]\n",
        "grades = {'Exam 1': [90, 79, 98],\n",
        "          'Exam 2': [87, 100, 60],\n",
        "          'Exam 3': [96, 92, 74]}\n",
        "pd.DataFrame(data = grades, index = names)"
      ],
      "execution_count": 41,
      "outputs": [
        {
          "output_type": "execute_result",
          "data": {
            "text/html": [
              "<div>\n",
              "<style scoped>\n",
              "    .dataframe tbody tr th:only-of-type {\n",
              "        vertical-align: middle;\n",
              "    }\n",
              "\n",
              "    .dataframe tbody tr th {\n",
              "        vertical-align: top;\n",
              "    }\n",
              "\n",
              "    .dataframe thead th {\n",
              "        text-align: right;\n",
              "    }\n",
              "</style>\n",
              "<table border=\"1\" class=\"dataframe\">\n",
              "  <thead>\n",
              "    <tr style=\"text-align: right;\">\n",
              "      <th></th>\n",
              "      <th>Exam 1</th>\n",
              "      <th>Exam 2</th>\n",
              "      <th>Exam 3</th>\n",
              "    </tr>\n",
              "  </thead>\n",
              "  <tbody>\n",
              "    <tr>\n",
              "      <th>George B.</th>\n",
              "      <td>90</td>\n",
              "      <td>87</td>\n",
              "      <td>96</td>\n",
              "    </tr>\n",
              "    <tr>\n",
              "      <th>Calvin J.</th>\n",
              "      <td>79</td>\n",
              "      <td>100</td>\n",
              "      <td>92</td>\n",
              "    </tr>\n",
              "    <tr>\n",
              "      <th>Chris P.</th>\n",
              "      <td>98</td>\n",
              "      <td>60</td>\n",
              "      <td>74</td>\n",
              "    </tr>\n",
              "  </tbody>\n",
              "</table>\n",
              "</div>"
            ],
            "text/plain": [
              "           Exam 1  Exam 2  Exam 3\n",
              "George B.      90      87      96\n",
              "Calvin J.      79     100      92\n",
              "Chris P.       98      60      74"
            ]
          },
          "metadata": {
            "tags": []
          },
          "execution_count": 41
        }
      ]
    },
    {
      "cell_type": "code",
      "metadata": {
        "id": "ra0xez3RWok1",
        "colab_type": "code",
        "outputId": "36d9d3e2-9207-4da2-be63-597eb753b6eb",
        "colab": {
          "base_uri": "https://localhost:8080/",
          "height": 140
        }
      },
      "source": [
        "# creating a DataFrame from nested dictionaries\n",
        "\n",
        "grades = {'Exam 1':\n",
        "                  {'George B.': 90, 'Calvin J.': 79, 'Chris P.': 98},\n",
        "              'Exam 2': \n",
        "                 {'George B.': 87, 'Calvin J.': 100, 'Chris P.': 60},\n",
        "              'Exam 3': \n",
        "                  {'George B.': 96, 'Calvin J.': 92, 'Chris P.': 74},\n",
        "             }\n",
        "df = pd.DataFrame(data = grades)\n",
        "df"
      ],
      "execution_count": 42,
      "outputs": [
        {
          "output_type": "execute_result",
          "data": {
            "text/html": [
              "<div>\n",
              "<style scoped>\n",
              "    .dataframe tbody tr th:only-of-type {\n",
              "        vertical-align: middle;\n",
              "    }\n",
              "\n",
              "    .dataframe tbody tr th {\n",
              "        vertical-align: top;\n",
              "    }\n",
              "\n",
              "    .dataframe thead th {\n",
              "        text-align: right;\n",
              "    }\n",
              "</style>\n",
              "<table border=\"1\" class=\"dataframe\">\n",
              "  <thead>\n",
              "    <tr style=\"text-align: right;\">\n",
              "      <th></th>\n",
              "      <th>Exam 1</th>\n",
              "      <th>Exam 2</th>\n",
              "      <th>Exam 3</th>\n",
              "    </tr>\n",
              "  </thead>\n",
              "  <tbody>\n",
              "    <tr>\n",
              "      <th>George B.</th>\n",
              "      <td>90</td>\n",
              "      <td>87</td>\n",
              "      <td>96</td>\n",
              "    </tr>\n",
              "    <tr>\n",
              "      <th>Calvin J.</th>\n",
              "      <td>79</td>\n",
              "      <td>100</td>\n",
              "      <td>92</td>\n",
              "    </tr>\n",
              "    <tr>\n",
              "      <th>Chris P.</th>\n",
              "      <td>98</td>\n",
              "      <td>60</td>\n",
              "      <td>74</td>\n",
              "    </tr>\n",
              "  </tbody>\n",
              "</table>\n",
              "</div>"
            ],
            "text/plain": [
              "           Exam 1  Exam 2  Exam 3\n",
              "George B.      90      87      96\n",
              "Calvin J.      79     100      92\n",
              "Chris P.       98      60      74"
            ]
          },
          "metadata": {
            "tags": []
          },
          "execution_count": 42
        }
      ]
    },
    {
      "cell_type": "code",
      "metadata": {
        "id": "zw1cpnYnWok2",
        "colab_type": "code",
        "outputId": "13869c39-7426-484d-e9e0-0786cf9ec428",
        "colab": {
          "base_uri": "https://localhost:8080/",
          "height": 202
        }
      },
      "source": [
        "# showing the top 5 sections of a DataFrame\n",
        "\n",
        "df = pd.DataFrame([[i**2, i**3] for i in range(100)], columns = ['x**2', 'x**3'])\n",
        "df.head()"
      ],
      "execution_count": 43,
      "outputs": [
        {
          "output_type": "execute_result",
          "data": {
            "text/html": [
              "<div>\n",
              "<style scoped>\n",
              "    .dataframe tbody tr th:only-of-type {\n",
              "        vertical-align: middle;\n",
              "    }\n",
              "\n",
              "    .dataframe tbody tr th {\n",
              "        vertical-align: top;\n",
              "    }\n",
              "\n",
              "    .dataframe thead th {\n",
              "        text-align: right;\n",
              "    }\n",
              "</style>\n",
              "<table border=\"1\" class=\"dataframe\">\n",
              "  <thead>\n",
              "    <tr style=\"text-align: right;\">\n",
              "      <th></th>\n",
              "      <th>x**2</th>\n",
              "      <th>x**3</th>\n",
              "    </tr>\n",
              "  </thead>\n",
              "  <tbody>\n",
              "    <tr>\n",
              "      <th>0</th>\n",
              "      <td>0</td>\n",
              "      <td>0</td>\n",
              "    </tr>\n",
              "    <tr>\n",
              "      <th>1</th>\n",
              "      <td>1</td>\n",
              "      <td>1</td>\n",
              "    </tr>\n",
              "    <tr>\n",
              "      <th>2</th>\n",
              "      <td>4</td>\n",
              "      <td>8</td>\n",
              "    </tr>\n",
              "    <tr>\n",
              "      <th>3</th>\n",
              "      <td>9</td>\n",
              "      <td>27</td>\n",
              "    </tr>\n",
              "    <tr>\n",
              "      <th>4</th>\n",
              "      <td>16</td>\n",
              "      <td>64</td>\n",
              "    </tr>\n",
              "  </tbody>\n",
              "</table>\n",
              "</div>"
            ],
            "text/plain": [
              "   x**2  x**3\n",
              "0     0     0\n",
              "1     1     1\n",
              "2     4     8\n",
              "3     9    27\n",
              "4    16    64"
            ]
          },
          "metadata": {
            "tags": []
          },
          "execution_count": 43
        }
      ]
    },
    {
      "cell_type": "code",
      "metadata": {
        "id": "TP5OcDEJWok5",
        "colab_type": "code",
        "outputId": "95c7cac9-76cb-4989-f86d-7b476aff28b7",
        "colab": {
          "base_uri": "https://localhost:8080/",
          "height": 355
        }
      },
      "source": [
        "# showing the last 10 sections of a DataFrame\n",
        "\n",
        "df.tail(10)"
      ],
      "execution_count": 44,
      "outputs": [
        {
          "output_type": "execute_result",
          "data": {
            "text/html": [
              "<div>\n",
              "<style scoped>\n",
              "    .dataframe tbody tr th:only-of-type {\n",
              "        vertical-align: middle;\n",
              "    }\n",
              "\n",
              "    .dataframe tbody tr th {\n",
              "        vertical-align: top;\n",
              "    }\n",
              "\n",
              "    .dataframe thead th {\n",
              "        text-align: right;\n",
              "    }\n",
              "</style>\n",
              "<table border=\"1\" class=\"dataframe\">\n",
              "  <thead>\n",
              "    <tr style=\"text-align: right;\">\n",
              "      <th></th>\n",
              "      <th>x**2</th>\n",
              "      <th>x**3</th>\n",
              "    </tr>\n",
              "  </thead>\n",
              "  <tbody>\n",
              "    <tr>\n",
              "      <th>90</th>\n",
              "      <td>8100</td>\n",
              "      <td>729000</td>\n",
              "    </tr>\n",
              "    <tr>\n",
              "      <th>91</th>\n",
              "      <td>8281</td>\n",
              "      <td>753571</td>\n",
              "    </tr>\n",
              "    <tr>\n",
              "      <th>92</th>\n",
              "      <td>8464</td>\n",
              "      <td>778688</td>\n",
              "    </tr>\n",
              "    <tr>\n",
              "      <th>93</th>\n",
              "      <td>8649</td>\n",
              "      <td>804357</td>\n",
              "    </tr>\n",
              "    <tr>\n",
              "      <th>94</th>\n",
              "      <td>8836</td>\n",
              "      <td>830584</td>\n",
              "    </tr>\n",
              "    <tr>\n",
              "      <th>95</th>\n",
              "      <td>9025</td>\n",
              "      <td>857375</td>\n",
              "    </tr>\n",
              "    <tr>\n",
              "      <th>96</th>\n",
              "      <td>9216</td>\n",
              "      <td>884736</td>\n",
              "    </tr>\n",
              "    <tr>\n",
              "      <th>97</th>\n",
              "      <td>9409</td>\n",
              "      <td>912673</td>\n",
              "    </tr>\n",
              "    <tr>\n",
              "      <th>98</th>\n",
              "      <td>9604</td>\n",
              "      <td>941192</td>\n",
              "    </tr>\n",
              "    <tr>\n",
              "      <th>99</th>\n",
              "      <td>9801</td>\n",
              "      <td>970299</td>\n",
              "    </tr>\n",
              "  </tbody>\n",
              "</table>\n",
              "</div>"
            ],
            "text/plain": [
              "    x**2    x**3\n",
              "90  8100  729000\n",
              "91  8281  753571\n",
              "92  8464  778688\n",
              "93  8649  804357\n",
              "94  8836  830584\n",
              "95  9025  857375\n",
              "96  9216  884736\n",
              "97  9409  912673\n",
              "98  9604  941192\n",
              "99  9801  970299"
            ]
          },
          "metadata": {
            "tags": []
          },
          "execution_count": 44
        }
      ]
    },
    {
      "cell_type": "code",
      "metadata": {
        "id": "aSGj8WfcWok7",
        "colab_type": "code",
        "outputId": "f0d0d904-ab1a-4561-cea2-30bde1b418c4",
        "colab": {
          "base_uri": "https://localhost:8080/",
          "height": 34
        }
      },
      "source": [
        "# finding the shape of a DataFrame\n",
        "\n",
        "df.shape"
      ],
      "execution_count": 45,
      "outputs": [
        {
          "output_type": "execute_result",
          "data": {
            "text/plain": [
              "(100, 2)"
            ]
          },
          "metadata": {
            "tags": []
          },
          "execution_count": 45
        }
      ]
    },
    {
      "cell_type": "code",
      "metadata": {
        "id": "ISDoaoJ_Wok9",
        "colab_type": "code",
        "outputId": "79c246d0-6020-4116-ee50-581b75246eee",
        "colab": {
          "base_uri": "https://localhost:8080/",
          "height": 34
        }
      },
      "source": [
        "# finding the size of a DataFrame\n",
        "\n",
        "df.size"
      ],
      "execution_count": 46,
      "outputs": [
        {
          "output_type": "execute_result",
          "data": {
            "text/plain": [
              "200"
            ]
          },
          "metadata": {
            "tags": []
          },
          "execution_count": 46
        }
      ]
    },
    {
      "cell_type": "code",
      "metadata": {
        "id": "XiZhrHH8Wok-",
        "colab_type": "code",
        "outputId": "6bc51e2c-dd93-4f67-d3cd-e957c9834567",
        "colab": {
          "base_uri": "https://localhost:8080/",
          "height": 69
        }
      },
      "source": [
        "# showing the dtypes of values from each column of a DataFrame\n",
        "\n",
        "df.dtypes"
      ],
      "execution_count": 47,
      "outputs": [
        {
          "output_type": "execute_result",
          "data": {
            "text/plain": [
              "x**2    int64\n",
              "x**3    int64\n",
              "dtype: object"
            ]
          },
          "metadata": {
            "tags": []
          },
          "execution_count": 47
        }
      ]
    },
    {
      "cell_type": "code",
      "metadata": {
        "id": "s4cxyxJSWolA",
        "colab_type": "code",
        "outputId": "fc517603-2cf4-49fe-df67-ab78c95186a2",
        "colab": {
          "base_uri": "https://localhost:8080/",
          "height": 294
        }
      },
      "source": [
        "# displaying summary statistics of a DataFrame\n",
        "\n",
        "df.describe()"
      ],
      "execution_count": 48,
      "outputs": [
        {
          "output_type": "execute_result",
          "data": {
            "text/html": [
              "<div>\n",
              "<style scoped>\n",
              "    .dataframe tbody tr th:only-of-type {\n",
              "        vertical-align: middle;\n",
              "    }\n",
              "\n",
              "    .dataframe tbody tr th {\n",
              "        vertical-align: top;\n",
              "    }\n",
              "\n",
              "    .dataframe thead th {\n",
              "        text-align: right;\n",
              "    }\n",
              "</style>\n",
              "<table border=\"1\" class=\"dataframe\">\n",
              "  <thead>\n",
              "    <tr style=\"text-align: right;\">\n",
              "      <th></th>\n",
              "      <th>x**2</th>\n",
              "      <th>x**3</th>\n",
              "    </tr>\n",
              "  </thead>\n",
              "  <tbody>\n",
              "    <tr>\n",
              "      <th>count</th>\n",
              "      <td>100.000000</td>\n",
              "      <td>100.000000</td>\n",
              "    </tr>\n",
              "    <tr>\n",
              "      <th>mean</th>\n",
              "      <td>3283.500000</td>\n",
              "      <td>245025.000000</td>\n",
              "    </tr>\n",
              "    <tr>\n",
              "      <th>std</th>\n",
              "      <td>2968.174804</td>\n",
              "      <td>280457.581671</td>\n",
              "    </tr>\n",
              "    <tr>\n",
              "      <th>min</th>\n",
              "      <td>0.000000</td>\n",
              "      <td>0.000000</td>\n",
              "    </tr>\n",
              "    <tr>\n",
              "      <th>25%</th>\n",
              "      <td>612.750000</td>\n",
              "      <td>15174.750000</td>\n",
              "    </tr>\n",
              "    <tr>\n",
              "      <th>50%</th>\n",
              "      <td>2450.500000</td>\n",
              "      <td>121324.500000</td>\n",
              "    </tr>\n",
              "    <tr>\n",
              "      <th>75%</th>\n",
              "      <td>5513.250000</td>\n",
              "      <td>409386.750000</td>\n",
              "    </tr>\n",
              "    <tr>\n",
              "      <th>max</th>\n",
              "      <td>9801.000000</td>\n",
              "      <td>970299.000000</td>\n",
              "    </tr>\n",
              "  </tbody>\n",
              "</table>\n",
              "</div>"
            ],
            "text/plain": [
              "              x**2           x**3\n",
              "count   100.000000     100.000000\n",
              "mean   3283.500000  245025.000000\n",
              "std    2968.174804  280457.581671\n",
              "min       0.000000       0.000000\n",
              "25%     612.750000   15174.750000\n",
              "50%    2450.500000  121324.500000\n",
              "75%    5513.250000  409386.750000\n",
              "max    9801.000000  970299.000000"
            ]
          },
          "metadata": {
            "tags": []
          },
          "execution_count": 48
        }
      ]
    },
    {
      "cell_type": "code",
      "metadata": {
        "id": "06Q5hKW8WolB",
        "colab_type": "code",
        "outputId": "456d330c-3079-4337-a0a8-b2ccdaf33078",
        "colab": {
          "base_uri": "https://localhost:8080/",
          "height": 202
        }
      },
      "source": [
        "# selecting specific data from a DataFrame\n",
        "\n",
        "df = pd.DataFrame(data = [[\"CS2316\", 150, 3.15],\n",
        "                          [\"CS1331\", 900, 2.91],                    \n",
        "                          [\"ISyE2027\",200,2.86],\n",
        "                          [\"ISyE2028\",200, 3.11],\n",
        "                          [\"MATH2603\", 150, 3.17]],\n",
        "                  columns = [\"Course\", \"Enrollment\", \"Avg_GPA\"])\n",
        "df"
      ],
      "execution_count": 49,
      "outputs": [
        {
          "output_type": "execute_result",
          "data": {
            "text/html": [
              "<div>\n",
              "<style scoped>\n",
              "    .dataframe tbody tr th:only-of-type {\n",
              "        vertical-align: middle;\n",
              "    }\n",
              "\n",
              "    .dataframe tbody tr th {\n",
              "        vertical-align: top;\n",
              "    }\n",
              "\n",
              "    .dataframe thead th {\n",
              "        text-align: right;\n",
              "    }\n",
              "</style>\n",
              "<table border=\"1\" class=\"dataframe\">\n",
              "  <thead>\n",
              "    <tr style=\"text-align: right;\">\n",
              "      <th></th>\n",
              "      <th>Course</th>\n",
              "      <th>Enrollment</th>\n",
              "      <th>Avg_GPA</th>\n",
              "    </tr>\n",
              "  </thead>\n",
              "  <tbody>\n",
              "    <tr>\n",
              "      <th>0</th>\n",
              "      <td>CS2316</td>\n",
              "      <td>150</td>\n",
              "      <td>3.15</td>\n",
              "    </tr>\n",
              "    <tr>\n",
              "      <th>1</th>\n",
              "      <td>CS1331</td>\n",
              "      <td>900</td>\n",
              "      <td>2.91</td>\n",
              "    </tr>\n",
              "    <tr>\n",
              "      <th>2</th>\n",
              "      <td>ISyE2027</td>\n",
              "      <td>200</td>\n",
              "      <td>2.86</td>\n",
              "    </tr>\n",
              "    <tr>\n",
              "      <th>3</th>\n",
              "      <td>ISyE2028</td>\n",
              "      <td>200</td>\n",
              "      <td>3.11</td>\n",
              "    </tr>\n",
              "    <tr>\n",
              "      <th>4</th>\n",
              "      <td>MATH2603</td>\n",
              "      <td>150</td>\n",
              "      <td>3.17</td>\n",
              "    </tr>\n",
              "  </tbody>\n",
              "</table>\n",
              "</div>"
            ],
            "text/plain": [
              "     Course  Enrollment  Avg_GPA\n",
              "0    CS2316         150     3.15\n",
              "1    CS1331         900     2.91\n",
              "2  ISyE2027         200     2.86\n",
              "3  ISyE2028         200     3.11\n",
              "4  MATH2603         150     3.17"
            ]
          },
          "metadata": {
            "tags": []
          },
          "execution_count": 49
        }
      ]
    },
    {
      "cell_type": "code",
      "metadata": {
        "id": "ZOWqlnHyWolE",
        "colab_type": "code",
        "outputId": "94277d67-bdba-4c41-b38a-5bfb2d992f0f",
        "colab": {
          "base_uri": "https://localhost:8080/",
          "height": 121
        }
      },
      "source": [
        "# selecting a single column (returns a Series)\n",
        "\n",
        "df[\"Course\"]"
      ],
      "execution_count": 50,
      "outputs": [
        {
          "output_type": "execute_result",
          "data": {
            "text/plain": [
              "0      CS2316\n",
              "1      CS1331\n",
              "2    ISyE2027\n",
              "3    ISyE2028\n",
              "4    MATH2603\n",
              "Name: Course, dtype: object"
            ]
          },
          "metadata": {
            "tags": []
          },
          "execution_count": 50
        }
      ]
    },
    {
      "cell_type": "code",
      "metadata": {
        "id": "5QLA34nuWolF",
        "colab_type": "code",
        "outputId": "c3dc68b2-4499-4442-80ae-a810ada6937b",
        "colab": {
          "base_uri": "https://localhost:8080/",
          "height": 34
        }
      },
      "source": [
        "type(df[\"Course\"])"
      ],
      "execution_count": 51,
      "outputs": [
        {
          "output_type": "execute_result",
          "data": {
            "text/plain": [
              "pandas.core.series.Series"
            ]
          },
          "metadata": {
            "tags": []
          },
          "execution_count": 51
        }
      ]
    },
    {
      "cell_type": "code",
      "metadata": {
        "id": "ibmPQEDaWolH",
        "colab_type": "code",
        "outputId": "7b4b1dad-242c-4e57-e455-9d083387448b",
        "colab": {
          "base_uri": "https://localhost:8080/",
          "height": 202
        }
      },
      "source": [
        "# selecting multiple columns (returns a DataFrame)\n",
        "\n",
        "df[[\"Course\", \"Avg_GPA\"]]"
      ],
      "execution_count": 52,
      "outputs": [
        {
          "output_type": "execute_result",
          "data": {
            "text/html": [
              "<div>\n",
              "<style scoped>\n",
              "    .dataframe tbody tr th:only-of-type {\n",
              "        vertical-align: middle;\n",
              "    }\n",
              "\n",
              "    .dataframe tbody tr th {\n",
              "        vertical-align: top;\n",
              "    }\n",
              "\n",
              "    .dataframe thead th {\n",
              "        text-align: right;\n",
              "    }\n",
              "</style>\n",
              "<table border=\"1\" class=\"dataframe\">\n",
              "  <thead>\n",
              "    <tr style=\"text-align: right;\">\n",
              "      <th></th>\n",
              "      <th>Course</th>\n",
              "      <th>Avg_GPA</th>\n",
              "    </tr>\n",
              "  </thead>\n",
              "  <tbody>\n",
              "    <tr>\n",
              "      <th>0</th>\n",
              "      <td>CS2316</td>\n",
              "      <td>3.15</td>\n",
              "    </tr>\n",
              "    <tr>\n",
              "      <th>1</th>\n",
              "      <td>CS1331</td>\n",
              "      <td>2.91</td>\n",
              "    </tr>\n",
              "    <tr>\n",
              "      <th>2</th>\n",
              "      <td>ISyE2027</td>\n",
              "      <td>2.86</td>\n",
              "    </tr>\n",
              "    <tr>\n",
              "      <th>3</th>\n",
              "      <td>ISyE2028</td>\n",
              "      <td>3.11</td>\n",
              "    </tr>\n",
              "    <tr>\n",
              "      <th>4</th>\n",
              "      <td>MATH2603</td>\n",
              "      <td>3.17</td>\n",
              "    </tr>\n",
              "  </tbody>\n",
              "</table>\n",
              "</div>"
            ],
            "text/plain": [
              "     Course  Avg_GPA\n",
              "0    CS2316     3.15\n",
              "1    CS1331     2.91\n",
              "2  ISyE2027     2.86\n",
              "3  ISyE2028     3.11\n",
              "4  MATH2603     3.17"
            ]
          },
          "metadata": {
            "tags": []
          },
          "execution_count": 52
        }
      ]
    },
    {
      "cell_type": "code",
      "metadata": {
        "id": "W7tHoZFZWolJ",
        "colab_type": "code",
        "outputId": "2ba79fde-4d4a-4b12-f87a-b7d7df384c07",
        "colab": {
          "base_uri": "https://localhost:8080/",
          "height": 34
        }
      },
      "source": [
        "type(df[[\"Course\", \"Avg_GPA\"]])"
      ],
      "execution_count": 53,
      "outputs": [
        {
          "output_type": "execute_result",
          "data": {
            "text/plain": [
              "pandas.core.frame.DataFrame"
            ]
          },
          "metadata": {
            "tags": []
          },
          "execution_count": 53
        }
      ]
    },
    {
      "cell_type": "code",
      "metadata": {
        "id": "r2GlMAQYWolL",
        "colab_type": "code",
        "outputId": "77be312d-1db8-49ae-aab1-4c08c7e925ab",
        "colab": {
          "base_uri": "https://localhost:8080/",
          "height": 232
        }
      },
      "source": [
        "# setting a column as the index for a DataFrame\n",
        "\n",
        "df.set_index(\"Course\", inplace = True)\n",
        "df"
      ],
      "execution_count": 54,
      "outputs": [
        {
          "output_type": "execute_result",
          "data": {
            "text/html": [
              "<div>\n",
              "<style scoped>\n",
              "    .dataframe tbody tr th:only-of-type {\n",
              "        vertical-align: middle;\n",
              "    }\n",
              "\n",
              "    .dataframe tbody tr th {\n",
              "        vertical-align: top;\n",
              "    }\n",
              "\n",
              "    .dataframe thead th {\n",
              "        text-align: right;\n",
              "    }\n",
              "</style>\n",
              "<table border=\"1\" class=\"dataframe\">\n",
              "  <thead>\n",
              "    <tr style=\"text-align: right;\">\n",
              "      <th></th>\n",
              "      <th>Enrollment</th>\n",
              "      <th>Avg_GPA</th>\n",
              "    </tr>\n",
              "    <tr>\n",
              "      <th>Course</th>\n",
              "      <th></th>\n",
              "      <th></th>\n",
              "    </tr>\n",
              "  </thead>\n",
              "  <tbody>\n",
              "    <tr>\n",
              "      <th>CS2316</th>\n",
              "      <td>150</td>\n",
              "      <td>3.15</td>\n",
              "    </tr>\n",
              "    <tr>\n",
              "      <th>CS1331</th>\n",
              "      <td>900</td>\n",
              "      <td>2.91</td>\n",
              "    </tr>\n",
              "    <tr>\n",
              "      <th>ISyE2027</th>\n",
              "      <td>200</td>\n",
              "      <td>2.86</td>\n",
              "    </tr>\n",
              "    <tr>\n",
              "      <th>ISyE2028</th>\n",
              "      <td>200</td>\n",
              "      <td>3.11</td>\n",
              "    </tr>\n",
              "    <tr>\n",
              "      <th>MATH2603</th>\n",
              "      <td>150</td>\n",
              "      <td>3.17</td>\n",
              "    </tr>\n",
              "  </tbody>\n",
              "</table>\n",
              "</div>"
            ],
            "text/plain": [
              "          Enrollment  Avg_GPA\n",
              "Course                       \n",
              "CS2316           150     3.15\n",
              "CS1331           900     2.91\n",
              "ISyE2027         200     2.86\n",
              "ISyE2028         200     3.11\n",
              "MATH2603         150     3.17"
            ]
          },
          "metadata": {
            "tags": []
          },
          "execution_count": 54
        }
      ]
    },
    {
      "cell_type": "code",
      "metadata": {
        "id": "RaUpsv6uWolM",
        "colab_type": "code",
        "outputId": "8a627559-0e15-4b30-8aee-5d1517bb846d",
        "colab": {
          "base_uri": "https://localhost:8080/",
          "height": 69
        }
      },
      "source": [
        "# selecting specific row from DataFrame with .loc\n",
        "\n",
        "df.loc[\"ISyE2027\"]"
      ],
      "execution_count": 55,
      "outputs": [
        {
          "output_type": "execute_result",
          "data": {
            "text/plain": [
              "Enrollment    200.00\n",
              "Avg_GPA         2.86\n",
              "Name: ISyE2027, dtype: float64"
            ]
          },
          "metadata": {
            "tags": []
          },
          "execution_count": 55
        }
      ]
    },
    {
      "cell_type": "code",
      "metadata": {
        "id": "NE2GQtazWolO",
        "colab_type": "code",
        "outputId": "9b5df162-875f-419e-f6df-f5b8c7b5c579",
        "colab": {
          "base_uri": "https://localhost:8080/",
          "height": 140
        }
      },
      "source": [
        "# selecting specific row from DataFrame with .iloc\n",
        "\n",
        "df.iloc[2:4, :]"
      ],
      "execution_count": 56,
      "outputs": [
        {
          "output_type": "execute_result",
          "data": {
            "text/html": [
              "<div>\n",
              "<style scoped>\n",
              "    .dataframe tbody tr th:only-of-type {\n",
              "        vertical-align: middle;\n",
              "    }\n",
              "\n",
              "    .dataframe tbody tr th {\n",
              "        vertical-align: top;\n",
              "    }\n",
              "\n",
              "    .dataframe thead th {\n",
              "        text-align: right;\n",
              "    }\n",
              "</style>\n",
              "<table border=\"1\" class=\"dataframe\">\n",
              "  <thead>\n",
              "    <tr style=\"text-align: right;\">\n",
              "      <th></th>\n",
              "      <th>Enrollment</th>\n",
              "      <th>Avg_GPA</th>\n",
              "    </tr>\n",
              "    <tr>\n",
              "      <th>Course</th>\n",
              "      <th></th>\n",
              "      <th></th>\n",
              "    </tr>\n",
              "  </thead>\n",
              "  <tbody>\n",
              "    <tr>\n",
              "      <th>ISyE2027</th>\n",
              "      <td>200</td>\n",
              "      <td>2.86</td>\n",
              "    </tr>\n",
              "    <tr>\n",
              "      <th>ISyE2028</th>\n",
              "      <td>200</td>\n",
              "      <td>3.11</td>\n",
              "    </tr>\n",
              "  </tbody>\n",
              "</table>\n",
              "</div>"
            ],
            "text/plain": [
              "          Enrollment  Avg_GPA\n",
              "Course                       \n",
              "ISyE2027         200     2.86\n",
              "ISyE2028         200     3.11"
            ]
          },
          "metadata": {
            "tags": []
          },
          "execution_count": 56
        }
      ]
    },
    {
      "cell_type": "code",
      "metadata": {
        "id": "bJVCQETfWolP",
        "colab_type": "code",
        "outputId": "580e74a7-c5af-439c-b5d6-f8b48cf2d017",
        "colab": {
          "base_uri": "https://localhost:8080/",
          "height": 34
        }
      },
      "source": [
        "# selecting specific value from DataFrame with .loc\n",
        "\n",
        "df.loc[\"ISyE2027\", \"Avg_GPA\"]"
      ],
      "execution_count": 57,
      "outputs": [
        {
          "output_type": "execute_result",
          "data": {
            "text/plain": [
              "2.86"
            ]
          },
          "metadata": {
            "tags": []
          },
          "execution_count": 57
        }
      ]
    },
    {
      "cell_type": "code",
      "metadata": {
        "id": "fnYVkXNaWolQ",
        "colab_type": "code",
        "outputId": "fbb02e02-14d6-40fa-c98a-f337ee394c2e",
        "colab": {
          "base_uri": "https://localhost:8080/",
          "height": 34
        }
      },
      "source": [
        "# selecting specific value from DataFrame with .iloc\n",
        "\n",
        "df.iloc[2, -1]"
      ],
      "execution_count": 58,
      "outputs": [
        {
          "output_type": "execute_result",
          "data": {
            "text/plain": [
              "2.86"
            ]
          },
          "metadata": {
            "tags": []
          },
          "execution_count": 58
        }
      ]
    },
    {
      "cell_type": "code",
      "metadata": {
        "id": "0TM8PBzoWolR",
        "colab_type": "code",
        "outputId": "b2255676-50b9-4808-9bd2-44b001bd5087",
        "colab": {
          "base_uri": "https://localhost:8080/",
          "height": 86
        }
      },
      "source": [
        "# selecting specific rows and values from Dataframe with .loc\n",
        "\n",
        "df.loc[\"ISyE2027\":\"ISyE2028\", \"Enrollment\"]\n"
      ],
      "execution_count": 59,
      "outputs": [
        {
          "output_type": "execute_result",
          "data": {
            "text/plain": [
              "Course\n",
              "ISyE2027    200\n",
              "ISyE2028    200\n",
              "Name: Enrollment, dtype: int64"
            ]
          },
          "metadata": {
            "tags": []
          },
          "execution_count": 59
        }
      ]
    },
    {
      "cell_type": "code",
      "metadata": {
        "id": "4XIzwlyNWolS",
        "colab_type": "code",
        "outputId": "286423e0-424e-4a90-93e8-1d3f3cedaf0d",
        "colab": {
          "base_uri": "https://localhost:8080/",
          "height": 171
        }
      },
      "source": [
        "# masking to find enrollment greater than 150 and avg GPA less than 3\n",
        "\n",
        "df[df[\"Enrollment\"] > 150]"
      ],
      "execution_count": 60,
      "outputs": [
        {
          "output_type": "execute_result",
          "data": {
            "text/html": [
              "<div>\n",
              "<style scoped>\n",
              "    .dataframe tbody tr th:only-of-type {\n",
              "        vertical-align: middle;\n",
              "    }\n",
              "\n",
              "    .dataframe tbody tr th {\n",
              "        vertical-align: top;\n",
              "    }\n",
              "\n",
              "    .dataframe thead th {\n",
              "        text-align: right;\n",
              "    }\n",
              "</style>\n",
              "<table border=\"1\" class=\"dataframe\">\n",
              "  <thead>\n",
              "    <tr style=\"text-align: right;\">\n",
              "      <th></th>\n",
              "      <th>Enrollment</th>\n",
              "      <th>Avg_GPA</th>\n",
              "    </tr>\n",
              "    <tr>\n",
              "      <th>Course</th>\n",
              "      <th></th>\n",
              "      <th></th>\n",
              "    </tr>\n",
              "  </thead>\n",
              "  <tbody>\n",
              "    <tr>\n",
              "      <th>CS1331</th>\n",
              "      <td>900</td>\n",
              "      <td>2.91</td>\n",
              "    </tr>\n",
              "    <tr>\n",
              "      <th>ISyE2027</th>\n",
              "      <td>200</td>\n",
              "      <td>2.86</td>\n",
              "    </tr>\n",
              "    <tr>\n",
              "      <th>ISyE2028</th>\n",
              "      <td>200</td>\n",
              "      <td>3.11</td>\n",
              "    </tr>\n",
              "  </tbody>\n",
              "</table>\n",
              "</div>"
            ],
            "text/plain": [
              "          Enrollment  Avg_GPA\n",
              "Course                       \n",
              "CS1331           900     2.91\n",
              "ISyE2027         200     2.86\n",
              "ISyE2028         200     3.11"
            ]
          },
          "metadata": {
            "tags": []
          },
          "execution_count": 60
        }
      ]
    },
    {
      "cell_type": "code",
      "metadata": {
        "id": "5TSbo1f_WolT",
        "colab_type": "code",
        "outputId": "64b3a390-e63f-4306-ae3d-e7d09607cc5c",
        "colab": {
          "base_uri": "https://localhost:8080/",
          "height": 140
        }
      },
      "source": [
        "df[df[\"Avg_GPA\"] < 3]"
      ],
      "execution_count": 61,
      "outputs": [
        {
          "output_type": "execute_result",
          "data": {
            "text/html": [
              "<div>\n",
              "<style scoped>\n",
              "    .dataframe tbody tr th:only-of-type {\n",
              "        vertical-align: middle;\n",
              "    }\n",
              "\n",
              "    .dataframe tbody tr th {\n",
              "        vertical-align: top;\n",
              "    }\n",
              "\n",
              "    .dataframe thead th {\n",
              "        text-align: right;\n",
              "    }\n",
              "</style>\n",
              "<table border=\"1\" class=\"dataframe\">\n",
              "  <thead>\n",
              "    <tr style=\"text-align: right;\">\n",
              "      <th></th>\n",
              "      <th>Enrollment</th>\n",
              "      <th>Avg_GPA</th>\n",
              "    </tr>\n",
              "    <tr>\n",
              "      <th>Course</th>\n",
              "      <th></th>\n",
              "      <th></th>\n",
              "    </tr>\n",
              "  </thead>\n",
              "  <tbody>\n",
              "    <tr>\n",
              "      <th>CS1331</th>\n",
              "      <td>900</td>\n",
              "      <td>2.91</td>\n",
              "    </tr>\n",
              "    <tr>\n",
              "      <th>ISyE2027</th>\n",
              "      <td>200</td>\n",
              "      <td>2.86</td>\n",
              "    </tr>\n",
              "  </tbody>\n",
              "</table>\n",
              "</div>"
            ],
            "text/plain": [
              "          Enrollment  Avg_GPA\n",
              "Course                       \n",
              "CS1331           900     2.91\n",
              "ISyE2027         200     2.86"
            ]
          },
          "metadata": {
            "tags": []
          },
          "execution_count": 61
        }
      ]
    },
    {
      "cell_type": "code",
      "metadata": {
        "id": "3fQyRnggWolU",
        "colab_type": "code",
        "outputId": "915f7c9c-fb7b-43f2-b76c-ff31cdc86e20",
        "colab": {
          "base_uri": "https://localhost:8080/",
          "height": 140
        }
      },
      "source": [
        "# result\n",
        "\n",
        "df[(df[\"Enrollment\"] > 150) & (df[\"Avg_GPA\"] < 3)]"
      ],
      "execution_count": 62,
      "outputs": [
        {
          "output_type": "execute_result",
          "data": {
            "text/html": [
              "<div>\n",
              "<style scoped>\n",
              "    .dataframe tbody tr th:only-of-type {\n",
              "        vertical-align: middle;\n",
              "    }\n",
              "\n",
              "    .dataframe tbody tr th {\n",
              "        vertical-align: top;\n",
              "    }\n",
              "\n",
              "    .dataframe thead th {\n",
              "        text-align: right;\n",
              "    }\n",
              "</style>\n",
              "<table border=\"1\" class=\"dataframe\">\n",
              "  <thead>\n",
              "    <tr style=\"text-align: right;\">\n",
              "      <th></th>\n",
              "      <th>Enrollment</th>\n",
              "      <th>Avg_GPA</th>\n",
              "    </tr>\n",
              "    <tr>\n",
              "      <th>Course</th>\n",
              "      <th></th>\n",
              "      <th></th>\n",
              "    </tr>\n",
              "  </thead>\n",
              "  <tbody>\n",
              "    <tr>\n",
              "      <th>CS1331</th>\n",
              "      <td>900</td>\n",
              "      <td>2.91</td>\n",
              "    </tr>\n",
              "    <tr>\n",
              "      <th>ISyE2027</th>\n",
              "      <td>200</td>\n",
              "      <td>2.86</td>\n",
              "    </tr>\n",
              "  </tbody>\n",
              "</table>\n",
              "</div>"
            ],
            "text/plain": [
              "          Enrollment  Avg_GPA\n",
              "Course                       \n",
              "CS1331           900     2.91\n",
              "ISyE2027         200     2.86"
            ]
          },
          "metadata": {
            "tags": []
          },
          "execution_count": 62
        }
      ]
    },
    {
      "cell_type": "code",
      "metadata": {
        "id": "tObfVQcFWolW",
        "colab_type": "code",
        "outputId": "c1371a48-1add-469f-e507-172d74b76385",
        "colab": {
          "base_uri": "https://localhost:8080/",
          "height": 140
        }
      },
      "source": [
        "# using .isin to find specific rows with DataFrame\n",
        "\n",
        "df[df.index.isin([\"ISyE2027\", \"ISyE2028\"])]"
      ],
      "execution_count": 63,
      "outputs": [
        {
          "output_type": "execute_result",
          "data": {
            "text/html": [
              "<div>\n",
              "<style scoped>\n",
              "    .dataframe tbody tr th:only-of-type {\n",
              "        vertical-align: middle;\n",
              "    }\n",
              "\n",
              "    .dataframe tbody tr th {\n",
              "        vertical-align: top;\n",
              "    }\n",
              "\n",
              "    .dataframe thead th {\n",
              "        text-align: right;\n",
              "    }\n",
              "</style>\n",
              "<table border=\"1\" class=\"dataframe\">\n",
              "  <thead>\n",
              "    <tr style=\"text-align: right;\">\n",
              "      <th></th>\n",
              "      <th>Enrollment</th>\n",
              "      <th>Avg_GPA</th>\n",
              "    </tr>\n",
              "    <tr>\n",
              "      <th>Course</th>\n",
              "      <th></th>\n",
              "      <th></th>\n",
              "    </tr>\n",
              "  </thead>\n",
              "  <tbody>\n",
              "    <tr>\n",
              "      <th>ISyE2027</th>\n",
              "      <td>200</td>\n",
              "      <td>2.86</td>\n",
              "    </tr>\n",
              "    <tr>\n",
              "      <th>ISyE2028</th>\n",
              "      <td>200</td>\n",
              "      <td>3.11</td>\n",
              "    </tr>\n",
              "  </tbody>\n",
              "</table>\n",
              "</div>"
            ],
            "text/plain": [
              "          Enrollment  Avg_GPA\n",
              "Course                       \n",
              "ISyE2027         200     2.86\n",
              "ISyE2028         200     3.11"
            ]
          },
          "metadata": {
            "tags": []
          },
          "execution_count": 63
        }
      ]
    },
    {
      "cell_type": "code",
      "metadata": {
        "id": "izb-6CggWolX",
        "colab_type": "code",
        "outputId": "3e4d3171-a0af-459c-8c01-399b1d481399",
        "colab": {
          "base_uri": "https://localhost:8080/",
          "height": 232
        }
      },
      "source": [
        "# mutating values in a DataFrame\n",
        "\n",
        "df.loc[\"CS1331\", \"Enrollment\"] = 850\n",
        "df"
      ],
      "execution_count": 64,
      "outputs": [
        {
          "output_type": "execute_result",
          "data": {
            "text/html": [
              "<div>\n",
              "<style scoped>\n",
              "    .dataframe tbody tr th:only-of-type {\n",
              "        vertical-align: middle;\n",
              "    }\n",
              "\n",
              "    .dataframe tbody tr th {\n",
              "        vertical-align: top;\n",
              "    }\n",
              "\n",
              "    .dataframe thead th {\n",
              "        text-align: right;\n",
              "    }\n",
              "</style>\n",
              "<table border=\"1\" class=\"dataframe\">\n",
              "  <thead>\n",
              "    <tr style=\"text-align: right;\">\n",
              "      <th></th>\n",
              "      <th>Enrollment</th>\n",
              "      <th>Avg_GPA</th>\n",
              "    </tr>\n",
              "    <tr>\n",
              "      <th>Course</th>\n",
              "      <th></th>\n",
              "      <th></th>\n",
              "    </tr>\n",
              "  </thead>\n",
              "  <tbody>\n",
              "    <tr>\n",
              "      <th>CS2316</th>\n",
              "      <td>150</td>\n",
              "      <td>3.15</td>\n",
              "    </tr>\n",
              "    <tr>\n",
              "      <th>CS1331</th>\n",
              "      <td>850</td>\n",
              "      <td>2.91</td>\n",
              "    </tr>\n",
              "    <tr>\n",
              "      <th>ISyE2027</th>\n",
              "      <td>200</td>\n",
              "      <td>2.86</td>\n",
              "    </tr>\n",
              "    <tr>\n",
              "      <th>ISyE2028</th>\n",
              "      <td>200</td>\n",
              "      <td>3.11</td>\n",
              "    </tr>\n",
              "    <tr>\n",
              "      <th>MATH2603</th>\n",
              "      <td>150</td>\n",
              "      <td>3.17</td>\n",
              "    </tr>\n",
              "  </tbody>\n",
              "</table>\n",
              "</div>"
            ],
            "text/plain": [
              "          Enrollment  Avg_GPA\n",
              "Course                       \n",
              "CS2316           150     3.15\n",
              "CS1331           850     2.91\n",
              "ISyE2027         200     2.86\n",
              "ISyE2028         200     3.11\n",
              "MATH2603         150     3.17"
            ]
          },
          "metadata": {
            "tags": []
          },
          "execution_count": 64
        }
      ]
    },
    {
      "cell_type": "code",
      "metadata": {
        "id": "vmNNuEylWolY",
        "colab_type": "code",
        "outputId": "d5dd5016-c391-4f98-d007-0aba1d504733",
        "colab": {
          "base_uri": "https://localhost:8080/",
          "height": 232
        }
      },
      "source": [
        "# changing all the values within the \"MATH2603\" row\n",
        "\n",
        "df.iloc[-1, :] = [100, 3.15]\n",
        "df"
      ],
      "execution_count": 65,
      "outputs": [
        {
          "output_type": "execute_result",
          "data": {
            "text/html": [
              "<div>\n",
              "<style scoped>\n",
              "    .dataframe tbody tr th:only-of-type {\n",
              "        vertical-align: middle;\n",
              "    }\n",
              "\n",
              "    .dataframe tbody tr th {\n",
              "        vertical-align: top;\n",
              "    }\n",
              "\n",
              "    .dataframe thead th {\n",
              "        text-align: right;\n",
              "    }\n",
              "</style>\n",
              "<table border=\"1\" class=\"dataframe\">\n",
              "  <thead>\n",
              "    <tr style=\"text-align: right;\">\n",
              "      <th></th>\n",
              "      <th>Enrollment</th>\n",
              "      <th>Avg_GPA</th>\n",
              "    </tr>\n",
              "    <tr>\n",
              "      <th>Course</th>\n",
              "      <th></th>\n",
              "      <th></th>\n",
              "    </tr>\n",
              "  </thead>\n",
              "  <tbody>\n",
              "    <tr>\n",
              "      <th>CS2316</th>\n",
              "      <td>150</td>\n",
              "      <td>3.15</td>\n",
              "    </tr>\n",
              "    <tr>\n",
              "      <th>CS1331</th>\n",
              "      <td>850</td>\n",
              "      <td>2.91</td>\n",
              "    </tr>\n",
              "    <tr>\n",
              "      <th>ISyE2027</th>\n",
              "      <td>200</td>\n",
              "      <td>2.86</td>\n",
              "    </tr>\n",
              "    <tr>\n",
              "      <th>ISyE2028</th>\n",
              "      <td>200</td>\n",
              "      <td>3.11</td>\n",
              "    </tr>\n",
              "    <tr>\n",
              "      <th>MATH2603</th>\n",
              "      <td>100</td>\n",
              "      <td>3.15</td>\n",
              "    </tr>\n",
              "  </tbody>\n",
              "</table>\n",
              "</div>"
            ],
            "text/plain": [
              "          Enrollment  Avg_GPA\n",
              "Course                       \n",
              "CS2316           150     3.15\n",
              "CS1331           850     2.91\n",
              "ISyE2027         200     2.86\n",
              "ISyE2028         200     3.11\n",
              "MATH2603         100     3.15"
            ]
          },
          "metadata": {
            "tags": []
          },
          "execution_count": 65
        }
      ]
    },
    {
      "cell_type": "code",
      "metadata": {
        "id": "NsIfOUQjWolZ",
        "colab_type": "code",
        "outputId": "fea9b2c8-b31d-4368-c6c3-fa215b115c2d",
        "colab": {
          "base_uri": "https://localhost:8080/",
          "height": 232
        }
      },
      "source": [
        "# creating a new column of True and False\n",
        "\n",
        "df[\"Large\"] = df[\"Enrollment\"] >= 200\n",
        "df"
      ],
      "execution_count": 66,
      "outputs": [
        {
          "output_type": "execute_result",
          "data": {
            "text/html": [
              "<div>\n",
              "<style scoped>\n",
              "    .dataframe tbody tr th:only-of-type {\n",
              "        vertical-align: middle;\n",
              "    }\n",
              "\n",
              "    .dataframe tbody tr th {\n",
              "        vertical-align: top;\n",
              "    }\n",
              "\n",
              "    .dataframe thead th {\n",
              "        text-align: right;\n",
              "    }\n",
              "</style>\n",
              "<table border=\"1\" class=\"dataframe\">\n",
              "  <thead>\n",
              "    <tr style=\"text-align: right;\">\n",
              "      <th></th>\n",
              "      <th>Enrollment</th>\n",
              "      <th>Avg_GPA</th>\n",
              "      <th>Large</th>\n",
              "    </tr>\n",
              "    <tr>\n",
              "      <th>Course</th>\n",
              "      <th></th>\n",
              "      <th></th>\n",
              "      <th></th>\n",
              "    </tr>\n",
              "  </thead>\n",
              "  <tbody>\n",
              "    <tr>\n",
              "      <th>CS2316</th>\n",
              "      <td>150</td>\n",
              "      <td>3.15</td>\n",
              "      <td>False</td>\n",
              "    </tr>\n",
              "    <tr>\n",
              "      <th>CS1331</th>\n",
              "      <td>850</td>\n",
              "      <td>2.91</td>\n",
              "      <td>True</td>\n",
              "    </tr>\n",
              "    <tr>\n",
              "      <th>ISyE2027</th>\n",
              "      <td>200</td>\n",
              "      <td>2.86</td>\n",
              "      <td>True</td>\n",
              "    </tr>\n",
              "    <tr>\n",
              "      <th>ISyE2028</th>\n",
              "      <td>200</td>\n",
              "      <td>3.11</td>\n",
              "      <td>True</td>\n",
              "    </tr>\n",
              "    <tr>\n",
              "      <th>MATH2603</th>\n",
              "      <td>100</td>\n",
              "      <td>3.15</td>\n",
              "      <td>False</td>\n",
              "    </tr>\n",
              "  </tbody>\n",
              "</table>\n",
              "</div>"
            ],
            "text/plain": [
              "          Enrollment  Avg_GPA  Large\n",
              "Course                              \n",
              "CS2316           150     3.15  False\n",
              "CS1331           850     2.91   True\n",
              "ISyE2027         200     2.86   True\n",
              "ISyE2028         200     3.11   True\n",
              "MATH2603         100     3.15  False"
            ]
          },
          "metadata": {
            "tags": []
          },
          "execution_count": 66
        }
      ]
    },
    {
      "cell_type": "code",
      "metadata": {
        "id": "F02Xyp0mWola",
        "colab_type": "code",
        "outputId": "1e9cc433-018c-426a-ef3e-383e42a662db",
        "colab": {
          "base_uri": "https://localhost:8080/",
          "height": 232
        }
      },
      "source": [
        "# converting value types\n",
        "\n",
        "df[\"Large\"] = df[\"Large\"].astype(int)\n",
        "df"
      ],
      "execution_count": 67,
      "outputs": [
        {
          "output_type": "execute_result",
          "data": {
            "text/html": [
              "<div>\n",
              "<style scoped>\n",
              "    .dataframe tbody tr th:only-of-type {\n",
              "        vertical-align: middle;\n",
              "    }\n",
              "\n",
              "    .dataframe tbody tr th {\n",
              "        vertical-align: top;\n",
              "    }\n",
              "\n",
              "    .dataframe thead th {\n",
              "        text-align: right;\n",
              "    }\n",
              "</style>\n",
              "<table border=\"1\" class=\"dataframe\">\n",
              "  <thead>\n",
              "    <tr style=\"text-align: right;\">\n",
              "      <th></th>\n",
              "      <th>Enrollment</th>\n",
              "      <th>Avg_GPA</th>\n",
              "      <th>Large</th>\n",
              "    </tr>\n",
              "    <tr>\n",
              "      <th>Course</th>\n",
              "      <th></th>\n",
              "      <th></th>\n",
              "      <th></th>\n",
              "    </tr>\n",
              "  </thead>\n",
              "  <tbody>\n",
              "    <tr>\n",
              "      <th>CS2316</th>\n",
              "      <td>150</td>\n",
              "      <td>3.15</td>\n",
              "      <td>0</td>\n",
              "    </tr>\n",
              "    <tr>\n",
              "      <th>CS1331</th>\n",
              "      <td>850</td>\n",
              "      <td>2.91</td>\n",
              "      <td>1</td>\n",
              "    </tr>\n",
              "    <tr>\n",
              "      <th>ISyE2027</th>\n",
              "      <td>200</td>\n",
              "      <td>2.86</td>\n",
              "      <td>1</td>\n",
              "    </tr>\n",
              "    <tr>\n",
              "      <th>ISyE2028</th>\n",
              "      <td>200</td>\n",
              "      <td>3.11</td>\n",
              "      <td>1</td>\n",
              "    </tr>\n",
              "    <tr>\n",
              "      <th>MATH2603</th>\n",
              "      <td>100</td>\n",
              "      <td>3.15</td>\n",
              "      <td>0</td>\n",
              "    </tr>\n",
              "  </tbody>\n",
              "</table>\n",
              "</div>"
            ],
            "text/plain": [
              "          Enrollment  Avg_GPA  Large\n",
              "Course                              \n",
              "CS2316           150     3.15      0\n",
              "CS1331           850     2.91      1\n",
              "ISyE2027         200     2.86      1\n",
              "ISyE2028         200     3.11      1\n",
              "MATH2603         100     3.15      0"
            ]
          },
          "metadata": {
            "tags": []
          },
          "execution_count": 67
        }
      ]
    },
    {
      "cell_type": "code",
      "metadata": {
        "id": "2deDThF8Wolc",
        "colab_type": "code",
        "outputId": "342bc7fe-b681-4ee5-a3c8-34cda769e75d",
        "colab": {
          "base_uri": "https://localhost:8080/",
          "height": 232
        }
      },
      "source": [
        "# sorting a DataFrame by \"Avg_GPA\"\n",
        "\n",
        "df.sort_values(by = \"Avg_GPA\", ascending = False)\n",
        "df"
      ],
      "execution_count": 68,
      "outputs": [
        {
          "output_type": "execute_result",
          "data": {
            "text/html": [
              "<div>\n",
              "<style scoped>\n",
              "    .dataframe tbody tr th:only-of-type {\n",
              "        vertical-align: middle;\n",
              "    }\n",
              "\n",
              "    .dataframe tbody tr th {\n",
              "        vertical-align: top;\n",
              "    }\n",
              "\n",
              "    .dataframe thead th {\n",
              "        text-align: right;\n",
              "    }\n",
              "</style>\n",
              "<table border=\"1\" class=\"dataframe\">\n",
              "  <thead>\n",
              "    <tr style=\"text-align: right;\">\n",
              "      <th></th>\n",
              "      <th>Enrollment</th>\n",
              "      <th>Avg_GPA</th>\n",
              "      <th>Large</th>\n",
              "    </tr>\n",
              "    <tr>\n",
              "      <th>Course</th>\n",
              "      <th></th>\n",
              "      <th></th>\n",
              "      <th></th>\n",
              "    </tr>\n",
              "  </thead>\n",
              "  <tbody>\n",
              "    <tr>\n",
              "      <th>CS2316</th>\n",
              "      <td>150</td>\n",
              "      <td>3.15</td>\n",
              "      <td>0</td>\n",
              "    </tr>\n",
              "    <tr>\n",
              "      <th>CS1331</th>\n",
              "      <td>850</td>\n",
              "      <td>2.91</td>\n",
              "      <td>1</td>\n",
              "    </tr>\n",
              "    <tr>\n",
              "      <th>ISyE2027</th>\n",
              "      <td>200</td>\n",
              "      <td>2.86</td>\n",
              "      <td>1</td>\n",
              "    </tr>\n",
              "    <tr>\n",
              "      <th>ISyE2028</th>\n",
              "      <td>200</td>\n",
              "      <td>3.11</td>\n",
              "      <td>1</td>\n",
              "    </tr>\n",
              "    <tr>\n",
              "      <th>MATH2603</th>\n",
              "      <td>100</td>\n",
              "      <td>3.15</td>\n",
              "      <td>0</td>\n",
              "    </tr>\n",
              "  </tbody>\n",
              "</table>\n",
              "</div>"
            ],
            "text/plain": [
              "          Enrollment  Avg_GPA  Large\n",
              "Course                              \n",
              "CS2316           150     3.15      0\n",
              "CS1331           850     2.91      1\n",
              "ISyE2027         200     2.86      1\n",
              "ISyE2028         200     3.11      1\n",
              "MATH2603         100     3.15      0"
            ]
          },
          "metadata": {
            "tags": []
          },
          "execution_count": 68
        }
      ]
    },
    {
      "cell_type": "code",
      "metadata": {
        "id": "YUYMMH1eWole",
        "colab_type": "code",
        "outputId": "1038eb56-2ca7-4dfd-9c92-f170a88b8154",
        "colab": {
          "base_uri": "https://localhost:8080/",
          "height": 232
        }
      },
      "source": [
        "# removing the \"Large\" column\n",
        "\n",
        "df.drop([\"Large\"], axis = 1)"
      ],
      "execution_count": 69,
      "outputs": [
        {
          "output_type": "execute_result",
          "data": {
            "text/html": [
              "<div>\n",
              "<style scoped>\n",
              "    .dataframe tbody tr th:only-of-type {\n",
              "        vertical-align: middle;\n",
              "    }\n",
              "\n",
              "    .dataframe tbody tr th {\n",
              "        vertical-align: top;\n",
              "    }\n",
              "\n",
              "    .dataframe thead th {\n",
              "        text-align: right;\n",
              "    }\n",
              "</style>\n",
              "<table border=\"1\" class=\"dataframe\">\n",
              "  <thead>\n",
              "    <tr style=\"text-align: right;\">\n",
              "      <th></th>\n",
              "      <th>Enrollment</th>\n",
              "      <th>Avg_GPA</th>\n",
              "    </tr>\n",
              "    <tr>\n",
              "      <th>Course</th>\n",
              "      <th></th>\n",
              "      <th></th>\n",
              "    </tr>\n",
              "  </thead>\n",
              "  <tbody>\n",
              "    <tr>\n",
              "      <th>CS2316</th>\n",
              "      <td>150</td>\n",
              "      <td>3.15</td>\n",
              "    </tr>\n",
              "    <tr>\n",
              "      <th>CS1331</th>\n",
              "      <td>850</td>\n",
              "      <td>2.91</td>\n",
              "    </tr>\n",
              "    <tr>\n",
              "      <th>ISyE2027</th>\n",
              "      <td>200</td>\n",
              "      <td>2.86</td>\n",
              "    </tr>\n",
              "    <tr>\n",
              "      <th>ISyE2028</th>\n",
              "      <td>200</td>\n",
              "      <td>3.11</td>\n",
              "    </tr>\n",
              "    <tr>\n",
              "      <th>MATH2603</th>\n",
              "      <td>100</td>\n",
              "      <td>3.15</td>\n",
              "    </tr>\n",
              "  </tbody>\n",
              "</table>\n",
              "</div>"
            ],
            "text/plain": [
              "          Enrollment  Avg_GPA\n",
              "Course                       \n",
              "CS2316           150     3.15\n",
              "CS1331           850     2.91\n",
              "ISyE2027         200     2.86\n",
              "ISyE2028         200     3.11\n",
              "MATH2603         100     3.15"
            ]
          },
          "metadata": {
            "tags": []
          },
          "execution_count": 69
        }
      ]
    },
    {
      "cell_type": "code",
      "metadata": {
        "id": "kH83AAExWolf",
        "colab_type": "code",
        "outputId": "5fa903df-04d3-42e1-af9b-4375e0498565",
        "colab": {
          "base_uri": "https://localhost:8080/",
          "height": 171
        }
      },
      "source": [
        "# removing \"CS2316\" and \"CS1331\" rows\n",
        "\n",
        "df.drop([\"CS2316\", \"CS1331\"], axis = 0)"
      ],
      "execution_count": 70,
      "outputs": [
        {
          "output_type": "execute_result",
          "data": {
            "text/html": [
              "<div>\n",
              "<style scoped>\n",
              "    .dataframe tbody tr th:only-of-type {\n",
              "        vertical-align: middle;\n",
              "    }\n",
              "\n",
              "    .dataframe tbody tr th {\n",
              "        vertical-align: top;\n",
              "    }\n",
              "\n",
              "    .dataframe thead th {\n",
              "        text-align: right;\n",
              "    }\n",
              "</style>\n",
              "<table border=\"1\" class=\"dataframe\">\n",
              "  <thead>\n",
              "    <tr style=\"text-align: right;\">\n",
              "      <th></th>\n",
              "      <th>Enrollment</th>\n",
              "      <th>Avg_GPA</th>\n",
              "      <th>Large</th>\n",
              "    </tr>\n",
              "    <tr>\n",
              "      <th>Course</th>\n",
              "      <th></th>\n",
              "      <th></th>\n",
              "      <th></th>\n",
              "    </tr>\n",
              "  </thead>\n",
              "  <tbody>\n",
              "    <tr>\n",
              "      <th>ISyE2027</th>\n",
              "      <td>200</td>\n",
              "      <td>2.86</td>\n",
              "      <td>1</td>\n",
              "    </tr>\n",
              "    <tr>\n",
              "      <th>ISyE2028</th>\n",
              "      <td>200</td>\n",
              "      <td>3.11</td>\n",
              "      <td>1</td>\n",
              "    </tr>\n",
              "    <tr>\n",
              "      <th>MATH2603</th>\n",
              "      <td>100</td>\n",
              "      <td>3.15</td>\n",
              "      <td>0</td>\n",
              "    </tr>\n",
              "  </tbody>\n",
              "</table>\n",
              "</div>"
            ],
            "text/plain": [
              "          Enrollment  Avg_GPA  Large\n",
              "Course                              \n",
              "ISyE2027         200     2.86      1\n",
              "ISyE2028         200     3.11      1\n",
              "MATH2603         100     3.15      0"
            ]
          },
          "metadata": {
            "tags": []
          },
          "execution_count": 70
        }
      ]
    },
    {
      "cell_type": "code",
      "metadata": {
        "id": "433nOTQ1Wolg",
        "colab_type": "code",
        "outputId": "4f3eec67-d642-4357-ac49-0a79a999eeda",
        "colab": {
          "base_uri": "https://localhost:8080/",
          "height": 294
        }
      },
      "source": [
        "# Creating a DataFrame with missing data\n",
        "\n",
        "df.loc[\"CS2803\"] = [50, np.nan, 0]\n",
        "df.loc[\"ISyE3803\"] = [50, np.nan, 0]\n",
        "df"
      ],
      "execution_count": 71,
      "outputs": [
        {
          "output_type": "execute_result",
          "data": {
            "text/html": [
              "<div>\n",
              "<style scoped>\n",
              "    .dataframe tbody tr th:only-of-type {\n",
              "        vertical-align: middle;\n",
              "    }\n",
              "\n",
              "    .dataframe tbody tr th {\n",
              "        vertical-align: top;\n",
              "    }\n",
              "\n",
              "    .dataframe thead th {\n",
              "        text-align: right;\n",
              "    }\n",
              "</style>\n",
              "<table border=\"1\" class=\"dataframe\">\n",
              "  <thead>\n",
              "    <tr style=\"text-align: right;\">\n",
              "      <th></th>\n",
              "      <th>Enrollment</th>\n",
              "      <th>Avg_GPA</th>\n",
              "      <th>Large</th>\n",
              "    </tr>\n",
              "    <tr>\n",
              "      <th>Course</th>\n",
              "      <th></th>\n",
              "      <th></th>\n",
              "      <th></th>\n",
              "    </tr>\n",
              "  </thead>\n",
              "  <tbody>\n",
              "    <tr>\n",
              "      <th>CS2316</th>\n",
              "      <td>150.0</td>\n",
              "      <td>3.15</td>\n",
              "      <td>0.0</td>\n",
              "    </tr>\n",
              "    <tr>\n",
              "      <th>CS1331</th>\n",
              "      <td>850.0</td>\n",
              "      <td>2.91</td>\n",
              "      <td>1.0</td>\n",
              "    </tr>\n",
              "    <tr>\n",
              "      <th>ISyE2027</th>\n",
              "      <td>200.0</td>\n",
              "      <td>2.86</td>\n",
              "      <td>1.0</td>\n",
              "    </tr>\n",
              "    <tr>\n",
              "      <th>ISyE2028</th>\n",
              "      <td>200.0</td>\n",
              "      <td>3.11</td>\n",
              "      <td>1.0</td>\n",
              "    </tr>\n",
              "    <tr>\n",
              "      <th>MATH2603</th>\n",
              "      <td>100.0</td>\n",
              "      <td>3.15</td>\n",
              "      <td>0.0</td>\n",
              "    </tr>\n",
              "    <tr>\n",
              "      <th>CS2803</th>\n",
              "      <td>50.0</td>\n",
              "      <td>NaN</td>\n",
              "      <td>0.0</td>\n",
              "    </tr>\n",
              "    <tr>\n",
              "      <th>ISyE3803</th>\n",
              "      <td>50.0</td>\n",
              "      <td>NaN</td>\n",
              "      <td>0.0</td>\n",
              "    </tr>\n",
              "  </tbody>\n",
              "</table>\n",
              "</div>"
            ],
            "text/plain": [
              "          Enrollment  Avg_GPA  Large\n",
              "Course                              \n",
              "CS2316         150.0     3.15    0.0\n",
              "CS1331         850.0     2.91    1.0\n",
              "ISyE2027       200.0     2.86    1.0\n",
              "ISyE2028       200.0     3.11    1.0\n",
              "MATH2603       100.0     3.15    0.0\n",
              "CS2803          50.0      NaN    0.0\n",
              "ISyE3803        50.0      NaN    0.0"
            ]
          },
          "metadata": {
            "tags": []
          },
          "execution_count": 71
        }
      ]
    },
    {
      "cell_type": "code",
      "metadata": {
        "id": "O5iEsmluWolh",
        "colab_type": "code",
        "outputId": "4502bcfa-9d90-4728-a5b2-4dcd0506a8e2",
        "colab": {
          "base_uri": "https://localhost:8080/",
          "height": 232
        }
      },
      "source": [
        "# removing all the rows that contain NaN\n",
        "\n",
        "df.dropna()"
      ],
      "execution_count": 72,
      "outputs": [
        {
          "output_type": "execute_result",
          "data": {
            "text/html": [
              "<div>\n",
              "<style scoped>\n",
              "    .dataframe tbody tr th:only-of-type {\n",
              "        vertical-align: middle;\n",
              "    }\n",
              "\n",
              "    .dataframe tbody tr th {\n",
              "        vertical-align: top;\n",
              "    }\n",
              "\n",
              "    .dataframe thead th {\n",
              "        text-align: right;\n",
              "    }\n",
              "</style>\n",
              "<table border=\"1\" class=\"dataframe\">\n",
              "  <thead>\n",
              "    <tr style=\"text-align: right;\">\n",
              "      <th></th>\n",
              "      <th>Enrollment</th>\n",
              "      <th>Avg_GPA</th>\n",
              "      <th>Large</th>\n",
              "    </tr>\n",
              "    <tr>\n",
              "      <th>Course</th>\n",
              "      <th></th>\n",
              "      <th></th>\n",
              "      <th></th>\n",
              "    </tr>\n",
              "  </thead>\n",
              "  <tbody>\n",
              "    <tr>\n",
              "      <th>CS2316</th>\n",
              "      <td>150.0</td>\n",
              "      <td>3.15</td>\n",
              "      <td>0.0</td>\n",
              "    </tr>\n",
              "    <tr>\n",
              "      <th>CS1331</th>\n",
              "      <td>850.0</td>\n",
              "      <td>2.91</td>\n",
              "      <td>1.0</td>\n",
              "    </tr>\n",
              "    <tr>\n",
              "      <th>ISyE2027</th>\n",
              "      <td>200.0</td>\n",
              "      <td>2.86</td>\n",
              "      <td>1.0</td>\n",
              "    </tr>\n",
              "    <tr>\n",
              "      <th>ISyE2028</th>\n",
              "      <td>200.0</td>\n",
              "      <td>3.11</td>\n",
              "      <td>1.0</td>\n",
              "    </tr>\n",
              "    <tr>\n",
              "      <th>MATH2603</th>\n",
              "      <td>100.0</td>\n",
              "      <td>3.15</td>\n",
              "      <td>0.0</td>\n",
              "    </tr>\n",
              "  </tbody>\n",
              "</table>\n",
              "</div>"
            ],
            "text/plain": [
              "          Enrollment  Avg_GPA  Large\n",
              "Course                              \n",
              "CS2316         150.0     3.15    0.0\n",
              "CS1331         850.0     2.91    1.0\n",
              "ISyE2027       200.0     2.86    1.0\n",
              "ISyE2028       200.0     3.11    1.0\n",
              "MATH2603       100.0     3.15    0.0"
            ]
          },
          "metadata": {
            "tags": []
          },
          "execution_count": 72
        }
      ]
    },
    {
      "cell_type": "code",
      "metadata": {
        "id": "CbAy7OKeWoli",
        "colab_type": "code",
        "outputId": "533e0536-3276-42f4-dd97-33a7967d93bb",
        "colab": {
          "base_uri": "https://localhost:8080/",
          "height": 294
        }
      },
      "source": [
        "# replacing all NaN values with 0\n",
        "\n",
        "df.fillna(0)"
      ],
      "execution_count": 73,
      "outputs": [
        {
          "output_type": "execute_result",
          "data": {
            "text/html": [
              "<div>\n",
              "<style scoped>\n",
              "    .dataframe tbody tr th:only-of-type {\n",
              "        vertical-align: middle;\n",
              "    }\n",
              "\n",
              "    .dataframe tbody tr th {\n",
              "        vertical-align: top;\n",
              "    }\n",
              "\n",
              "    .dataframe thead th {\n",
              "        text-align: right;\n",
              "    }\n",
              "</style>\n",
              "<table border=\"1\" class=\"dataframe\">\n",
              "  <thead>\n",
              "    <tr style=\"text-align: right;\">\n",
              "      <th></th>\n",
              "      <th>Enrollment</th>\n",
              "      <th>Avg_GPA</th>\n",
              "      <th>Large</th>\n",
              "    </tr>\n",
              "    <tr>\n",
              "      <th>Course</th>\n",
              "      <th></th>\n",
              "      <th></th>\n",
              "      <th></th>\n",
              "    </tr>\n",
              "  </thead>\n",
              "  <tbody>\n",
              "    <tr>\n",
              "      <th>CS2316</th>\n",
              "      <td>150.0</td>\n",
              "      <td>3.15</td>\n",
              "      <td>0.0</td>\n",
              "    </tr>\n",
              "    <tr>\n",
              "      <th>CS1331</th>\n",
              "      <td>850.0</td>\n",
              "      <td>2.91</td>\n",
              "      <td>1.0</td>\n",
              "    </tr>\n",
              "    <tr>\n",
              "      <th>ISyE2027</th>\n",
              "      <td>200.0</td>\n",
              "      <td>2.86</td>\n",
              "      <td>1.0</td>\n",
              "    </tr>\n",
              "    <tr>\n",
              "      <th>ISyE2028</th>\n",
              "      <td>200.0</td>\n",
              "      <td>3.11</td>\n",
              "      <td>1.0</td>\n",
              "    </tr>\n",
              "    <tr>\n",
              "      <th>MATH2603</th>\n",
              "      <td>100.0</td>\n",
              "      <td>3.15</td>\n",
              "      <td>0.0</td>\n",
              "    </tr>\n",
              "    <tr>\n",
              "      <th>CS2803</th>\n",
              "      <td>50.0</td>\n",
              "      <td>0.00</td>\n",
              "      <td>0.0</td>\n",
              "    </tr>\n",
              "    <tr>\n",
              "      <th>ISyE3803</th>\n",
              "      <td>50.0</td>\n",
              "      <td>0.00</td>\n",
              "      <td>0.0</td>\n",
              "    </tr>\n",
              "  </tbody>\n",
              "</table>\n",
              "</div>"
            ],
            "text/plain": [
              "          Enrollment  Avg_GPA  Large\n",
              "Course                              \n",
              "CS2316         150.0     3.15    0.0\n",
              "CS1331         850.0     2.91    1.0\n",
              "ISyE2027       200.0     2.86    1.0\n",
              "ISyE2028       200.0     3.11    1.0\n",
              "MATH2603       100.0     3.15    0.0\n",
              "CS2803          50.0     0.00    0.0\n",
              "ISyE3803        50.0     0.00    0.0"
            ]
          },
          "metadata": {
            "tags": []
          },
          "execution_count": 73
        }
      ]
    },
    {
      "cell_type": "code",
      "metadata": {
        "id": "KRsPBF3HWolk",
        "colab_type": "code",
        "outputId": "a630cd00-d0b8-4035-f764-b8fa54a910d0",
        "colab": {
          "base_uri": "https://localhost:8080/",
          "height": 294
        }
      },
      "source": [
        "# check if values are NaN\n",
        "\n",
        "pd.isna(df)"
      ],
      "execution_count": 74,
      "outputs": [
        {
          "output_type": "execute_result",
          "data": {
            "text/html": [
              "<div>\n",
              "<style scoped>\n",
              "    .dataframe tbody tr th:only-of-type {\n",
              "        vertical-align: middle;\n",
              "    }\n",
              "\n",
              "    .dataframe tbody tr th {\n",
              "        vertical-align: top;\n",
              "    }\n",
              "\n",
              "    .dataframe thead th {\n",
              "        text-align: right;\n",
              "    }\n",
              "</style>\n",
              "<table border=\"1\" class=\"dataframe\">\n",
              "  <thead>\n",
              "    <tr style=\"text-align: right;\">\n",
              "      <th></th>\n",
              "      <th>Enrollment</th>\n",
              "      <th>Avg_GPA</th>\n",
              "      <th>Large</th>\n",
              "    </tr>\n",
              "    <tr>\n",
              "      <th>Course</th>\n",
              "      <th></th>\n",
              "      <th></th>\n",
              "      <th></th>\n",
              "    </tr>\n",
              "  </thead>\n",
              "  <tbody>\n",
              "    <tr>\n",
              "      <th>CS2316</th>\n",
              "      <td>False</td>\n",
              "      <td>False</td>\n",
              "      <td>False</td>\n",
              "    </tr>\n",
              "    <tr>\n",
              "      <th>CS1331</th>\n",
              "      <td>False</td>\n",
              "      <td>False</td>\n",
              "      <td>False</td>\n",
              "    </tr>\n",
              "    <tr>\n",
              "      <th>ISyE2027</th>\n",
              "      <td>False</td>\n",
              "      <td>False</td>\n",
              "      <td>False</td>\n",
              "    </tr>\n",
              "    <tr>\n",
              "      <th>ISyE2028</th>\n",
              "      <td>False</td>\n",
              "      <td>False</td>\n",
              "      <td>False</td>\n",
              "    </tr>\n",
              "    <tr>\n",
              "      <th>MATH2603</th>\n",
              "      <td>False</td>\n",
              "      <td>False</td>\n",
              "      <td>False</td>\n",
              "    </tr>\n",
              "    <tr>\n",
              "      <th>CS2803</th>\n",
              "      <td>False</td>\n",
              "      <td>True</td>\n",
              "      <td>False</td>\n",
              "    </tr>\n",
              "    <tr>\n",
              "      <th>ISyE3803</th>\n",
              "      <td>False</td>\n",
              "      <td>True</td>\n",
              "      <td>False</td>\n",
              "    </tr>\n",
              "  </tbody>\n",
              "</table>\n",
              "</div>"
            ],
            "text/plain": [
              "          Enrollment  Avg_GPA  Large\n",
              "Course                              \n",
              "CS2316         False    False  False\n",
              "CS1331         False    False  False\n",
              "ISyE2027       False    False  False\n",
              "ISyE2028       False    False  False\n",
              "MATH2603       False    False  False\n",
              "CS2803         False     True  False\n",
              "ISyE3803       False     True  False"
            ]
          },
          "metadata": {
            "tags": []
          },
          "execution_count": 74
        }
      ]
    },
    {
      "cell_type": "code",
      "metadata": {
        "id": "vpZwQcCTZsui",
        "colab_type": "code",
        "outputId": "46f14912-178e-4cfe-c2c6-18ac1b87a047",
        "colab": {
          "base_uri": "https://localhost:8080/",
          "height": 294
        }
      },
      "source": [
        "# reading data from a CSV to Pandas\n",
        "\n",
        "# reading courses.csv\n",
        "\n",
        "course_url = 'https://raw.githubusercontent.com/j-on-son/Data/master/CS2316_Fall2019/courses.csv'\n",
        "\n",
        "courses = pd.read_csv(course_url, delimiter = ',', index_col = 0)\n",
        "courses"
      ],
      "execution_count": 75,
      "outputs": [
        {
          "output_type": "execute_result",
          "data": {
            "text/html": [
              "<div>\n",
              "<style scoped>\n",
              "    .dataframe tbody tr th:only-of-type {\n",
              "        vertical-align: middle;\n",
              "    }\n",
              "\n",
              "    .dataframe tbody tr th {\n",
              "        vertical-align: top;\n",
              "    }\n",
              "\n",
              "    .dataframe thead th {\n",
              "        text-align: right;\n",
              "    }\n",
              "</style>\n",
              "<table border=\"1\" class=\"dataframe\">\n",
              "  <thead>\n",
              "    <tr style=\"text-align: right;\">\n",
              "      <th></th>\n",
              "      <th>Enrollment</th>\n",
              "      <th>Avg_GPA</th>\n",
              "      <th>Large</th>\n",
              "    </tr>\n",
              "    <tr>\n",
              "      <th>Course</th>\n",
              "      <th></th>\n",
              "      <th></th>\n",
              "      <th></th>\n",
              "    </tr>\n",
              "  </thead>\n",
              "  <tbody>\n",
              "    <tr>\n",
              "      <th>CS2316</th>\n",
              "      <td>150.0</td>\n",
              "      <td>3.15</td>\n",
              "      <td>0.0</td>\n",
              "    </tr>\n",
              "    <tr>\n",
              "      <th>CS1331</th>\n",
              "      <td>850.0</td>\n",
              "      <td>2.91</td>\n",
              "      <td>1.0</td>\n",
              "    </tr>\n",
              "    <tr>\n",
              "      <th>ISyE2027</th>\n",
              "      <td>200.0</td>\n",
              "      <td>2.86</td>\n",
              "      <td>1.0</td>\n",
              "    </tr>\n",
              "    <tr>\n",
              "      <th>ISyE2028</th>\n",
              "      <td>200.0</td>\n",
              "      <td>3.11</td>\n",
              "      <td>1.0</td>\n",
              "    </tr>\n",
              "    <tr>\n",
              "      <th>MATH2603</th>\n",
              "      <td>100.0</td>\n",
              "      <td>3.15</td>\n",
              "      <td>0.0</td>\n",
              "    </tr>\n",
              "    <tr>\n",
              "      <th>CS2803</th>\n",
              "      <td>50.0</td>\n",
              "      <td>NaN</td>\n",
              "      <td>0.0</td>\n",
              "    </tr>\n",
              "    <tr>\n",
              "      <th>ISyE3803</th>\n",
              "      <td>50.0</td>\n",
              "      <td>NaN</td>\n",
              "      <td>0.0</td>\n",
              "    </tr>\n",
              "  </tbody>\n",
              "</table>\n",
              "</div>"
            ],
            "text/plain": [
              "          Enrollment  Avg_GPA  Large\n",
              "Course                              \n",
              "CS2316         150.0     3.15    0.0\n",
              "CS1331         850.0     2.91    1.0\n",
              "ISyE2027       200.0     2.86    1.0\n",
              "ISyE2028       200.0     3.11    1.0\n",
              "MATH2603       100.0     3.15    0.0\n",
              "CS2803          50.0      NaN    0.0\n",
              "ISyE3803        50.0      NaN    0.0"
            ]
          },
          "metadata": {
            "tags": []
          },
          "execution_count": 75
        }
      ]
    },
    {
      "cell_type": "code",
      "metadata": {
        "id": "HsJJKX6vbHDZ",
        "colab_type": "code",
        "outputId": "1028f44c-9f28-40a6-a346-1b34ecef2487",
        "colab": {
          "base_uri": "https://localhost:8080/",
          "height": 202
        }
      },
      "source": [
        "# reading an excel file with pd.read_excel\n",
        "\n",
        "url = 'https://github.com/j-on-son/Data/blob/master/CS2316_Fall2019/HW10/olympics.xlsx?raw=true'\n",
        "\n",
        "countries = pd.read_excel(url, sheet_name = 'dictionary')\n",
        "countries.head()"
      ],
      "execution_count": 76,
      "outputs": [
        {
          "output_type": "execute_result",
          "data": {
            "text/html": [
              "<div>\n",
              "<style scoped>\n",
              "    .dataframe tbody tr th:only-of-type {\n",
              "        vertical-align: middle;\n",
              "    }\n",
              "\n",
              "    .dataframe tbody tr th {\n",
              "        vertical-align: top;\n",
              "    }\n",
              "\n",
              "    .dataframe thead th {\n",
              "        text-align: right;\n",
              "    }\n",
              "</style>\n",
              "<table border=\"1\" class=\"dataframe\">\n",
              "  <thead>\n",
              "    <tr style=\"text-align: right;\">\n",
              "      <th></th>\n",
              "      <th>Country</th>\n",
              "      <th>Code</th>\n",
              "      <th>Population</th>\n",
              "      <th>GDP</th>\n",
              "    </tr>\n",
              "  </thead>\n",
              "  <tbody>\n",
              "    <tr>\n",
              "      <th>0</th>\n",
              "      <td>Afghanistan</td>\n",
              "      <td>AFG</td>\n",
              "      <td>32526562.0</td>\n",
              "      <td>1.933129e+10</td>\n",
              "    </tr>\n",
              "    <tr>\n",
              "      <th>1</th>\n",
              "      <td>Albania</td>\n",
              "      <td>ALB</td>\n",
              "      <td>2889167.0</td>\n",
              "      <td>1.139839e+10</td>\n",
              "    </tr>\n",
              "    <tr>\n",
              "      <th>2</th>\n",
              "      <td>Algeria</td>\n",
              "      <td>ALG</td>\n",
              "      <td>39666519.0</td>\n",
              "      <td>1.668386e+11</td>\n",
              "    </tr>\n",
              "    <tr>\n",
              "      <th>3</th>\n",
              "      <td>American Samoa*</td>\n",
              "      <td>ASA</td>\n",
              "      <td>55538.0</td>\n",
              "      <td>NaN</td>\n",
              "    </tr>\n",
              "    <tr>\n",
              "      <th>4</th>\n",
              "      <td>Andorra</td>\n",
              "      <td>AND</td>\n",
              "      <td>70473.0</td>\n",
              "      <td>NaN</td>\n",
              "    </tr>\n",
              "  </tbody>\n",
              "</table>\n",
              "</div>"
            ],
            "text/plain": [
              "           Country Code  Population           GDP\n",
              "0      Afghanistan  AFG  32526562.0  1.933129e+10\n",
              "1          Albania  ALB   2889167.0  1.139839e+10\n",
              "2          Algeria  ALG  39666519.0  1.668386e+11\n",
              "3  American Samoa*  ASA     55538.0           NaN\n",
              "4          Andorra  AND     70473.0           NaN"
            ]
          },
          "metadata": {
            "tags": []
          },
          "execution_count": 76
        }
      ]
    },
    {
      "cell_type": "code",
      "metadata": {
        "id": "xZKeq9e9bcxe",
        "colab_type": "code",
        "outputId": "df17ae6a-784a-4cea-fe2d-27f1c99724c7",
        "colab": {
          "base_uri": "https://localhost:8080/",
          "height": 202
        }
      },
      "source": [
        "summer = pd.read_excel(url, sheet_name = 'summer', header = 1)\n",
        "summer.head()"
      ],
      "execution_count": 77,
      "outputs": [
        {
          "output_type": "execute_result",
          "data": {
            "text/html": [
              "<div>\n",
              "<style scoped>\n",
              "    .dataframe tbody tr th:only-of-type {\n",
              "        vertical-align: middle;\n",
              "    }\n",
              "\n",
              "    .dataframe tbody tr th {\n",
              "        vertical-align: top;\n",
              "    }\n",
              "\n",
              "    .dataframe thead th {\n",
              "        text-align: right;\n",
              "    }\n",
              "</style>\n",
              "<table border=\"1\" class=\"dataframe\">\n",
              "  <thead>\n",
              "    <tr style=\"text-align: right;\">\n",
              "      <th></th>\n",
              "      <th>Year</th>\n",
              "      <th>City</th>\n",
              "      <th>Sport</th>\n",
              "      <th>Discipline</th>\n",
              "      <th>Athlete</th>\n",
              "      <th>Country</th>\n",
              "      <th>Gender</th>\n",
              "      <th>Event</th>\n",
              "      <th>Medal</th>\n",
              "    </tr>\n",
              "  </thead>\n",
              "  <tbody>\n",
              "    <tr>\n",
              "      <th>0</th>\n",
              "      <td>1896</td>\n",
              "      <td>Athens</td>\n",
              "      <td>Aquatics</td>\n",
              "      <td>Swimming</td>\n",
              "      <td>HAJOS, Alfred</td>\n",
              "      <td>HUN</td>\n",
              "      <td>Men</td>\n",
              "      <td>100M Freestyle</td>\n",
              "      <td>Gold</td>\n",
              "    </tr>\n",
              "    <tr>\n",
              "      <th>1</th>\n",
              "      <td>1896</td>\n",
              "      <td>Athens</td>\n",
              "      <td>Aquatics</td>\n",
              "      <td>Swimming</td>\n",
              "      <td>HERSCHMANN, Otto</td>\n",
              "      <td>AUT</td>\n",
              "      <td>Men</td>\n",
              "      <td>100M Freestyle</td>\n",
              "      <td>Silver</td>\n",
              "    </tr>\n",
              "    <tr>\n",
              "      <th>2</th>\n",
              "      <td>1896</td>\n",
              "      <td>Athens</td>\n",
              "      <td>Aquatics</td>\n",
              "      <td>Swimming</td>\n",
              "      <td>DRIVAS, Dimitrios</td>\n",
              "      <td>GRE</td>\n",
              "      <td>Men</td>\n",
              "      <td>100M Freestyle For Sailors</td>\n",
              "      <td>Bronze</td>\n",
              "    </tr>\n",
              "    <tr>\n",
              "      <th>3</th>\n",
              "      <td>1896</td>\n",
              "      <td>Athens</td>\n",
              "      <td>Aquatics</td>\n",
              "      <td>Swimming</td>\n",
              "      <td>MALOKINIS, Ioannis</td>\n",
              "      <td>GRE</td>\n",
              "      <td>Men</td>\n",
              "      <td>100M Freestyle For Sailors</td>\n",
              "      <td>Gold</td>\n",
              "    </tr>\n",
              "    <tr>\n",
              "      <th>4</th>\n",
              "      <td>1896</td>\n",
              "      <td>Athens</td>\n",
              "      <td>Aquatics</td>\n",
              "      <td>Swimming</td>\n",
              "      <td>CHASAPIS, Spiridon</td>\n",
              "      <td>GRE</td>\n",
              "      <td>Men</td>\n",
              "      <td>100M Freestyle For Sailors</td>\n",
              "      <td>Silver</td>\n",
              "    </tr>\n",
              "  </tbody>\n",
              "</table>\n",
              "</div>"
            ],
            "text/plain": [
              "   Year    City     Sport  ... Gender                       Event   Medal\n",
              "0  1896  Athens  Aquatics  ...    Men              100M Freestyle    Gold\n",
              "1  1896  Athens  Aquatics  ...    Men              100M Freestyle  Silver\n",
              "2  1896  Athens  Aquatics  ...    Men  100M Freestyle For Sailors  Bronze\n",
              "3  1896  Athens  Aquatics  ...    Men  100M Freestyle For Sailors    Gold\n",
              "4  1896  Athens  Aquatics  ...    Men  100M Freestyle For Sailors  Silver\n",
              "\n",
              "[5 rows x 9 columns]"
            ]
          },
          "metadata": {
            "tags": []
          },
          "execution_count": 77
        }
      ]
    },
    {
      "cell_type": "code",
      "metadata": {
        "id": "eVdXapq9gCsk",
        "colab_type": "code",
        "outputId": "cdee7741-8d4e-4a36-d6f1-bc564a90c1a9",
        "colab": {
          "base_uri": "https://localhost:8080/",
          "height": 202
        }
      },
      "source": [
        "# reading an excel file with pd.ExcelFile\n",
        "\n",
        "fin = pd.ExcelFile(url)\n",
        "countres = fin.parse(sheet_name = 'dictionary')\n",
        "countries.head()"
      ],
      "execution_count": 78,
      "outputs": [
        {
          "output_type": "execute_result",
          "data": {
            "text/html": [
              "<div>\n",
              "<style scoped>\n",
              "    .dataframe tbody tr th:only-of-type {\n",
              "        vertical-align: middle;\n",
              "    }\n",
              "\n",
              "    .dataframe tbody tr th {\n",
              "        vertical-align: top;\n",
              "    }\n",
              "\n",
              "    .dataframe thead th {\n",
              "        text-align: right;\n",
              "    }\n",
              "</style>\n",
              "<table border=\"1\" class=\"dataframe\">\n",
              "  <thead>\n",
              "    <tr style=\"text-align: right;\">\n",
              "      <th></th>\n",
              "      <th>Country</th>\n",
              "      <th>Code</th>\n",
              "      <th>Population</th>\n",
              "      <th>GDP</th>\n",
              "    </tr>\n",
              "  </thead>\n",
              "  <tbody>\n",
              "    <tr>\n",
              "      <th>0</th>\n",
              "      <td>Afghanistan</td>\n",
              "      <td>AFG</td>\n",
              "      <td>32526562.0</td>\n",
              "      <td>1.933129e+10</td>\n",
              "    </tr>\n",
              "    <tr>\n",
              "      <th>1</th>\n",
              "      <td>Albania</td>\n",
              "      <td>ALB</td>\n",
              "      <td>2889167.0</td>\n",
              "      <td>1.139839e+10</td>\n",
              "    </tr>\n",
              "    <tr>\n",
              "      <th>2</th>\n",
              "      <td>Algeria</td>\n",
              "      <td>ALG</td>\n",
              "      <td>39666519.0</td>\n",
              "      <td>1.668386e+11</td>\n",
              "    </tr>\n",
              "    <tr>\n",
              "      <th>3</th>\n",
              "      <td>American Samoa*</td>\n",
              "      <td>ASA</td>\n",
              "      <td>55538.0</td>\n",
              "      <td>NaN</td>\n",
              "    </tr>\n",
              "    <tr>\n",
              "      <th>4</th>\n",
              "      <td>Andorra</td>\n",
              "      <td>AND</td>\n",
              "      <td>70473.0</td>\n",
              "      <td>NaN</td>\n",
              "    </tr>\n",
              "  </tbody>\n",
              "</table>\n",
              "</div>"
            ],
            "text/plain": [
              "           Country Code  Population           GDP\n",
              "0      Afghanistan  AFG  32526562.0  1.933129e+10\n",
              "1          Albania  ALB   2889167.0  1.139839e+10\n",
              "2          Algeria  ALG  39666519.0  1.668386e+11\n",
              "3  American Samoa*  ASA     55538.0           NaN\n",
              "4          Andorra  AND     70473.0           NaN"
            ]
          },
          "metadata": {
            "tags": []
          },
          "execution_count": 78
        }
      ]
    },
    {
      "cell_type": "code",
      "metadata": {
        "id": "rmOGSOqhgmud",
        "colab_type": "code",
        "colab": {}
      },
      "source": [
        "# writing to a CSV file\n",
        "\n",
        "courses.to_csv(\"output.csv\", index = True)\n",
        " # writes the following to \"output.csv\":\n",
        "\n",
        "# Course,Enrollment,Avg_GPA,Large\n",
        "# CS2316,150.0,3.15,0.0\n",
        "# CS1331,850.0,2.91,1.0\n",
        "# ISyE2027,200.0,2.86,1.0\n",
        "# ISyE2028,200.0,3.11,1.0\n",
        "# MATH2603,100.0,3.15,0.0\n",
        "# CS2803,50.0,,0.0\n",
        "# ISyE3803,50.0,,0.0"
      ],
      "execution_count": 0,
      "outputs": []
    },
    {
      "cell_type": "code",
      "metadata": {
        "id": "4hh-ZtdshF7B",
        "colab_type": "code",
        "colab": {}
      },
      "source": [
        "# writing to a Excel file\n",
        "\n",
        "# first, create a writer object\n",
        "\n",
        "writer = pd.ExcelWriter(\"output.xlsx\")\n",
        "\n",
        "# use df.to_excel() to write to an excel file\n",
        "\n",
        "summer.to_excel(writer)\n",
        "\n",
        "# you can add multiple sheets at once\n",
        "\n",
        "countries.to_excel(writer, sheet_name = \"dictionary\")\n",
        "summer.to_excel(writer, sheet_name = \"summer\")"
      ],
      "execution_count": 0,
      "outputs": []
    },
    {
      "cell_type": "code",
      "metadata": {
        "id": "-aPttO8Lh73H",
        "colab_type": "code",
        "outputId": "7574fd45-1b66-4e64-cdcd-1a7eca1ccbde",
        "colab": {
          "base_uri": "https://localhost:8080/",
          "height": 140
        }
      },
      "source": [
        "# doing operations on DataFrames\n",
        "\n",
        "# for the following examples, we will use the following DataFrame\n",
        "\n",
        "grades = {\n",
        "              'Exam 1': \\\n",
        "                  {'George B.': 90, 'Calvin J.': 79, 'Chris P.': 98},\\\n",
        "              'Exam 2': \\\n",
        "                 {'George B.': 87, 'Calvin J.': 100, 'Chris P.': 60},\\\n",
        "              'Exam 3': \\\n",
        "                  {'George B.': 96, 'Calvin J.': 92, 'Chris P.': 74},\\\n",
        "         }\n",
        "grades = pd.DataFrame(data = grades)\n",
        "grades"
      ],
      "execution_count": 81,
      "outputs": [
        {
          "output_type": "execute_result",
          "data": {
            "text/html": [
              "<div>\n",
              "<style scoped>\n",
              "    .dataframe tbody tr th:only-of-type {\n",
              "        vertical-align: middle;\n",
              "    }\n",
              "\n",
              "    .dataframe tbody tr th {\n",
              "        vertical-align: top;\n",
              "    }\n",
              "\n",
              "    .dataframe thead th {\n",
              "        text-align: right;\n",
              "    }\n",
              "</style>\n",
              "<table border=\"1\" class=\"dataframe\">\n",
              "  <thead>\n",
              "    <tr style=\"text-align: right;\">\n",
              "      <th></th>\n",
              "      <th>Exam 1</th>\n",
              "      <th>Exam 2</th>\n",
              "      <th>Exam 3</th>\n",
              "    </tr>\n",
              "  </thead>\n",
              "  <tbody>\n",
              "    <tr>\n",
              "      <th>George B.</th>\n",
              "      <td>90</td>\n",
              "      <td>87</td>\n",
              "      <td>96</td>\n",
              "    </tr>\n",
              "    <tr>\n",
              "      <th>Calvin J.</th>\n",
              "      <td>79</td>\n",
              "      <td>100</td>\n",
              "      <td>92</td>\n",
              "    </tr>\n",
              "    <tr>\n",
              "      <th>Chris P.</th>\n",
              "      <td>98</td>\n",
              "      <td>60</td>\n",
              "      <td>74</td>\n",
              "    </tr>\n",
              "  </tbody>\n",
              "</table>\n",
              "</div>"
            ],
            "text/plain": [
              "           Exam 1  Exam 2  Exam 3\n",
              "George B.      90      87      96\n",
              "Calvin J.      79     100      92\n",
              "Chris P.       98      60      74"
            ]
          },
          "metadata": {
            "tags": []
          },
          "execution_count": 81
        }
      ]
    },
    {
      "cell_type": "code",
      "metadata": {
        "id": "A2rIXCUGiPR0",
        "colab_type": "code",
        "outputId": "ea3807bc-913c-40b1-9295-0d0897225b1a",
        "colab": {
          "base_uri": "https://localhost:8080/",
          "height": 140
        }
      },
      "source": [
        "# you can apply aggregate functions to DataFrames\n",
        "\n",
        "# the following finds the mean of each row\n",
        "\n",
        "grades[\"Final Grade\"] = grades.mean(axis = 1).round(2)\n",
        "grades"
      ],
      "execution_count": 82,
      "outputs": [
        {
          "output_type": "execute_result",
          "data": {
            "text/html": [
              "<div>\n",
              "<style scoped>\n",
              "    .dataframe tbody tr th:only-of-type {\n",
              "        vertical-align: middle;\n",
              "    }\n",
              "\n",
              "    .dataframe tbody tr th {\n",
              "        vertical-align: top;\n",
              "    }\n",
              "\n",
              "    .dataframe thead th {\n",
              "        text-align: right;\n",
              "    }\n",
              "</style>\n",
              "<table border=\"1\" class=\"dataframe\">\n",
              "  <thead>\n",
              "    <tr style=\"text-align: right;\">\n",
              "      <th></th>\n",
              "      <th>Exam 1</th>\n",
              "      <th>Exam 2</th>\n",
              "      <th>Exam 3</th>\n",
              "      <th>Final Grade</th>\n",
              "    </tr>\n",
              "  </thead>\n",
              "  <tbody>\n",
              "    <tr>\n",
              "      <th>George B.</th>\n",
              "      <td>90</td>\n",
              "      <td>87</td>\n",
              "      <td>96</td>\n",
              "      <td>91.00</td>\n",
              "    </tr>\n",
              "    <tr>\n",
              "      <th>Calvin J.</th>\n",
              "      <td>79</td>\n",
              "      <td>100</td>\n",
              "      <td>92</td>\n",
              "      <td>90.33</td>\n",
              "    </tr>\n",
              "    <tr>\n",
              "      <th>Chris P.</th>\n",
              "      <td>98</td>\n",
              "      <td>60</td>\n",
              "      <td>74</td>\n",
              "      <td>77.33</td>\n",
              "    </tr>\n",
              "  </tbody>\n",
              "</table>\n",
              "</div>"
            ],
            "text/plain": [
              "           Exam 1  Exam 2  Exam 3  Final Grade\n",
              "George B.      90      87      96        91.00\n",
              "Calvin J.      79     100      92        90.33\n",
              "Chris P.       98      60      74        77.33"
            ]
          },
          "metadata": {
            "tags": []
          },
          "execution_count": 82
        }
      ]
    },
    {
      "cell_type": "code",
      "metadata": {
        "id": "R856UUaAieVE",
        "colab_type": "code",
        "outputId": "fff0e689-6da1-4482-b9db-cacab7624020",
        "colab": {
          "base_uri": "https://localhost:8080/",
          "height": 171
        }
      },
      "source": [
        "# computing the average for all columns\n",
        "\n",
        "grades.loc[\"Average Grade\"] = grades.mean(axis=0).round(2)\n",
        "grades"
      ],
      "execution_count": 83,
      "outputs": [
        {
          "output_type": "execute_result",
          "data": {
            "text/html": [
              "<div>\n",
              "<style scoped>\n",
              "    .dataframe tbody tr th:only-of-type {\n",
              "        vertical-align: middle;\n",
              "    }\n",
              "\n",
              "    .dataframe tbody tr th {\n",
              "        vertical-align: top;\n",
              "    }\n",
              "\n",
              "    .dataframe thead th {\n",
              "        text-align: right;\n",
              "    }\n",
              "</style>\n",
              "<table border=\"1\" class=\"dataframe\">\n",
              "  <thead>\n",
              "    <tr style=\"text-align: right;\">\n",
              "      <th></th>\n",
              "      <th>Exam 1</th>\n",
              "      <th>Exam 2</th>\n",
              "      <th>Exam 3</th>\n",
              "      <th>Final Grade</th>\n",
              "    </tr>\n",
              "  </thead>\n",
              "  <tbody>\n",
              "    <tr>\n",
              "      <th>George B.</th>\n",
              "      <td>90.0</td>\n",
              "      <td>87.00</td>\n",
              "      <td>96.00</td>\n",
              "      <td>91.00</td>\n",
              "    </tr>\n",
              "    <tr>\n",
              "      <th>Calvin J.</th>\n",
              "      <td>79.0</td>\n",
              "      <td>100.00</td>\n",
              "      <td>92.00</td>\n",
              "      <td>90.33</td>\n",
              "    </tr>\n",
              "    <tr>\n",
              "      <th>Chris P.</th>\n",
              "      <td>98.0</td>\n",
              "      <td>60.00</td>\n",
              "      <td>74.00</td>\n",
              "      <td>77.33</td>\n",
              "    </tr>\n",
              "    <tr>\n",
              "      <th>Average Grade</th>\n",
              "      <td>89.0</td>\n",
              "      <td>82.33</td>\n",
              "      <td>87.33</td>\n",
              "      <td>86.22</td>\n",
              "    </tr>\n",
              "  </tbody>\n",
              "</table>\n",
              "</div>"
            ],
            "text/plain": [
              "               Exam 1  Exam 2  Exam 3  Final Grade\n",
              "George B.        90.0   87.00   96.00        91.00\n",
              "Calvin J.        79.0  100.00   92.00        90.33\n",
              "Chris P.         98.0   60.00   74.00        77.33\n",
              "Average Grade    89.0   82.33   87.33        86.22"
            ]
          },
          "metadata": {
            "tags": []
          },
          "execution_count": 83
        }
      ]
    },
    {
      "cell_type": "code",
      "metadata": {
        "id": "g3emFyfFjA9O",
        "colab_type": "code",
        "outputId": "21089a45-0fe6-458d-d8a9-e76cbae2d97d",
        "colab": {
          "base_uri": "https://localhost:8080/",
          "height": 171
        }
      },
      "source": [
        "# you can use .apply function to perform manipulations to DataFrames\n",
        "\n",
        "# for example, let's create a function for us to use\n",
        "\n",
        "def letter_grade(final_grade):\n",
        "  if final_grade >= 90:\n",
        "    return \"A\"\n",
        "  elif final_grade >= 80: \n",
        "    return \"B\"\n",
        "  elif final_grade >= 70: \n",
        "    return \"C\"\n",
        "  elif final_grade >= 60: \n",
        "    return \"D\"\n",
        "  return \"F\"\n",
        "\n",
        "# we can now apply our letter_grade() function to .apply\n",
        "\n",
        "grades[\"Letter Grade\"] = grades.apply(lambda x : letter_grade(x[\"Final Grade\"]), axis = 1)\n",
        "grades"
      ],
      "execution_count": 84,
      "outputs": [
        {
          "output_type": "execute_result",
          "data": {
            "text/html": [
              "<div>\n",
              "<style scoped>\n",
              "    .dataframe tbody tr th:only-of-type {\n",
              "        vertical-align: middle;\n",
              "    }\n",
              "\n",
              "    .dataframe tbody tr th {\n",
              "        vertical-align: top;\n",
              "    }\n",
              "\n",
              "    .dataframe thead th {\n",
              "        text-align: right;\n",
              "    }\n",
              "</style>\n",
              "<table border=\"1\" class=\"dataframe\">\n",
              "  <thead>\n",
              "    <tr style=\"text-align: right;\">\n",
              "      <th></th>\n",
              "      <th>Exam 1</th>\n",
              "      <th>Exam 2</th>\n",
              "      <th>Exam 3</th>\n",
              "      <th>Final Grade</th>\n",
              "      <th>Letter Grade</th>\n",
              "    </tr>\n",
              "  </thead>\n",
              "  <tbody>\n",
              "    <tr>\n",
              "      <th>George B.</th>\n",
              "      <td>90.0</td>\n",
              "      <td>87.00</td>\n",
              "      <td>96.00</td>\n",
              "      <td>91.00</td>\n",
              "      <td>A</td>\n",
              "    </tr>\n",
              "    <tr>\n",
              "      <th>Calvin J.</th>\n",
              "      <td>79.0</td>\n",
              "      <td>100.00</td>\n",
              "      <td>92.00</td>\n",
              "      <td>90.33</td>\n",
              "      <td>A</td>\n",
              "    </tr>\n",
              "    <tr>\n",
              "      <th>Chris P.</th>\n",
              "      <td>98.0</td>\n",
              "      <td>60.00</td>\n",
              "      <td>74.00</td>\n",
              "      <td>77.33</td>\n",
              "      <td>C</td>\n",
              "    </tr>\n",
              "    <tr>\n",
              "      <th>Average Grade</th>\n",
              "      <td>89.0</td>\n",
              "      <td>82.33</td>\n",
              "      <td>87.33</td>\n",
              "      <td>86.22</td>\n",
              "      <td>B</td>\n",
              "    </tr>\n",
              "  </tbody>\n",
              "</table>\n",
              "</div>"
            ],
            "text/plain": [
              "               Exam 1  Exam 2  Exam 3  Final Grade Letter Grade\n",
              "George B.        90.0   87.00   96.00        91.00            A\n",
              "Calvin J.        79.0  100.00   92.00        90.33            A\n",
              "Chris P.         98.0   60.00   74.00        77.33            C\n",
              "Average Grade    89.0   82.33   87.33        86.22            B"
            ]
          },
          "metadata": {
            "tags": []
          },
          "execution_count": 84
        }
      ]
    },
    {
      "cell_type": "code",
      "metadata": {
        "id": "mkLxEezjkWf8",
        "colab_type": "code",
        "outputId": "4b35316e-1f13-4b71-d7e5-a71a5d6adca1",
        "colab": {
          "base_uri": "https://localhost:8080/",
          "height": 86
        }
      },
      "source": [
        "# we can compute the frequency with each letter grade with .value_counts()\n",
        "\n",
        "grades[\"Letter Grade\"].value_counts()"
      ],
      "execution_count": 85,
      "outputs": [
        {
          "output_type": "execute_result",
          "data": {
            "text/plain": [
              "A    2\n",
              "C    1\n",
              "B    1\n",
              "Name: Letter Grade, dtype: int64"
            ]
          },
          "metadata": {
            "tags": []
          },
          "execution_count": 85
        }
      ]
    },
    {
      "cell_type": "code",
      "metadata": {
        "id": "gMTdhGXWkiWc",
        "colab_type": "code",
        "outputId": "5f496521-4ad3-4902-b718-48efc052f25d",
        "colab": {
          "base_uri": "https://localhost:8080/",
          "height": 34
        }
      },
      "source": [
        "# you can reset the index of a DataFrame\n",
        "\n",
        "grades = grades.reset_index()\n",
        "grades.columns"
      ],
      "execution_count": 86,
      "outputs": [
        {
          "output_type": "execute_result",
          "data": {
            "text/plain": [
              "Index(['index', 'Exam 1', 'Exam 2', 'Exam 3', 'Final Grade', 'Letter Grade'], dtype='object')"
            ]
          },
          "metadata": {
            "tags": []
          },
          "execution_count": 86
        }
      ]
    },
    {
      "cell_type": "code",
      "metadata": {
        "id": "7z2Bog5rlYbt",
        "colab_type": "code",
        "outputId": "b8414be4-d0eb-424b-bb15-93aa158daeb2",
        "colab": {
          "base_uri": "https://localhost:8080/",
          "height": 171
        }
      },
      "source": [
        "# renames the columns\n",
        "\n",
        "grades.rename(columns = {\"index\" : \"Name\"}, inplace = True)\n",
        "grades"
      ],
      "execution_count": 87,
      "outputs": [
        {
          "output_type": "execute_result",
          "data": {
            "text/html": [
              "<div>\n",
              "<style scoped>\n",
              "    .dataframe tbody tr th:only-of-type {\n",
              "        vertical-align: middle;\n",
              "    }\n",
              "\n",
              "    .dataframe tbody tr th {\n",
              "        vertical-align: top;\n",
              "    }\n",
              "\n",
              "    .dataframe thead th {\n",
              "        text-align: right;\n",
              "    }\n",
              "</style>\n",
              "<table border=\"1\" class=\"dataframe\">\n",
              "  <thead>\n",
              "    <tr style=\"text-align: right;\">\n",
              "      <th></th>\n",
              "      <th>Name</th>\n",
              "      <th>Exam 1</th>\n",
              "      <th>Exam 2</th>\n",
              "      <th>Exam 3</th>\n",
              "      <th>Final Grade</th>\n",
              "      <th>Letter Grade</th>\n",
              "    </tr>\n",
              "  </thead>\n",
              "  <tbody>\n",
              "    <tr>\n",
              "      <th>0</th>\n",
              "      <td>George B.</td>\n",
              "      <td>90.0</td>\n",
              "      <td>87.00</td>\n",
              "      <td>96.00</td>\n",
              "      <td>91.00</td>\n",
              "      <td>A</td>\n",
              "    </tr>\n",
              "    <tr>\n",
              "      <th>1</th>\n",
              "      <td>Calvin J.</td>\n",
              "      <td>79.0</td>\n",
              "      <td>100.00</td>\n",
              "      <td>92.00</td>\n",
              "      <td>90.33</td>\n",
              "      <td>A</td>\n",
              "    </tr>\n",
              "    <tr>\n",
              "      <th>2</th>\n",
              "      <td>Chris P.</td>\n",
              "      <td>98.0</td>\n",
              "      <td>60.00</td>\n",
              "      <td>74.00</td>\n",
              "      <td>77.33</td>\n",
              "      <td>C</td>\n",
              "    </tr>\n",
              "    <tr>\n",
              "      <th>3</th>\n",
              "      <td>Average Grade</td>\n",
              "      <td>89.0</td>\n",
              "      <td>82.33</td>\n",
              "      <td>87.33</td>\n",
              "      <td>86.22</td>\n",
              "      <td>B</td>\n",
              "    </tr>\n",
              "  </tbody>\n",
              "</table>\n",
              "</div>"
            ],
            "text/plain": [
              "            Name  Exam 1  Exam 2  Exam 3  Final Grade Letter Grade\n",
              "0      George B.    90.0   87.00   96.00        91.00            A\n",
              "1      Calvin J.    79.0  100.00   92.00        90.33            A\n",
              "2       Chris P.    98.0   60.00   74.00        77.33            C\n",
              "3  Average Grade    89.0   82.33   87.33        86.22            B"
            ]
          },
          "metadata": {
            "tags": []
          },
          "execution_count": 87
        }
      ]
    },
    {
      "cell_type": "code",
      "metadata": {
        "id": "rivYXt4tl2Wz",
        "colab_type": "code",
        "outputId": "dfd05718-d170-4d71-d54f-25b34e3d9093",
        "colab": {
          "base_uri": "https://localhost:8080/",
          "height": 103
        }
      },
      "source": [
        "# how to use string methods on DataFrames\n",
        "\n",
        "grades['Name'].str.split(\" \")"
      ],
      "execution_count": 88,
      "outputs": [
        {
          "output_type": "execute_result",
          "data": {
            "text/plain": [
              "0        [George, B.]\n",
              "1        [Calvin, J.]\n",
              "2         [Chris, P.]\n",
              "3    [Average, Grade]\n",
              "Name: Name, dtype: object"
            ]
          },
          "metadata": {
            "tags": []
          },
          "execution_count": 88
        }
      ]
    },
    {
      "cell_type": "code",
      "metadata": {
        "id": "algKl-Tmmmop",
        "colab_type": "code",
        "outputId": "ffb07e09-395d-4ac8-cf8c-890318a45bf5",
        "colab": {
          "base_uri": "https://localhost:8080/",
          "height": 171
        }
      },
      "source": [
        "# Notice that each value is now a list within the Series values which isn’t exactly what we wanted. We do the following\n",
        "\n",
        "names = grades[\"Name\"].str.split(\" \", expand = True)\n",
        "names"
      ],
      "execution_count": 89,
      "outputs": [
        {
          "output_type": "execute_result",
          "data": {
            "text/html": [
              "<div>\n",
              "<style scoped>\n",
              "    .dataframe tbody tr th:only-of-type {\n",
              "        vertical-align: middle;\n",
              "    }\n",
              "\n",
              "    .dataframe tbody tr th {\n",
              "        vertical-align: top;\n",
              "    }\n",
              "\n",
              "    .dataframe thead th {\n",
              "        text-align: right;\n",
              "    }\n",
              "</style>\n",
              "<table border=\"1\" class=\"dataframe\">\n",
              "  <thead>\n",
              "    <tr style=\"text-align: right;\">\n",
              "      <th></th>\n",
              "      <th>0</th>\n",
              "      <th>1</th>\n",
              "    </tr>\n",
              "  </thead>\n",
              "  <tbody>\n",
              "    <tr>\n",
              "      <th>0</th>\n",
              "      <td>George</td>\n",
              "      <td>B.</td>\n",
              "    </tr>\n",
              "    <tr>\n",
              "      <th>1</th>\n",
              "      <td>Calvin</td>\n",
              "      <td>J.</td>\n",
              "    </tr>\n",
              "    <tr>\n",
              "      <th>2</th>\n",
              "      <td>Chris</td>\n",
              "      <td>P.</td>\n",
              "    </tr>\n",
              "    <tr>\n",
              "      <th>3</th>\n",
              "      <td>Average</td>\n",
              "      <td>Grade</td>\n",
              "    </tr>\n",
              "  </tbody>\n",
              "</table>\n",
              "</div>"
            ],
            "text/plain": [
              "         0      1\n",
              "0   George     B.\n",
              "1   Calvin     J.\n",
              "2    Chris     P.\n",
              "3  Average  Grade"
            ]
          },
          "metadata": {
            "tags": []
          },
          "execution_count": 89
        }
      ]
    },
    {
      "cell_type": "code",
      "metadata": {
        "id": "a7XHvPe7ncBb",
        "colab_type": "code",
        "outputId": "fbf57700-feed-49a2-a960-59109170699c",
        "colab": {
          "base_uri": "https://localhost:8080/",
          "height": 171
        }
      },
      "source": [
        "# we can replace string values\n",
        "\n",
        "names[1] = names[1].str.replace(r\"\\.\",\"\")\n",
        "names"
      ],
      "execution_count": 90,
      "outputs": [
        {
          "output_type": "execute_result",
          "data": {
            "text/html": [
              "<div>\n",
              "<style scoped>\n",
              "    .dataframe tbody tr th:only-of-type {\n",
              "        vertical-align: middle;\n",
              "    }\n",
              "\n",
              "    .dataframe tbody tr th {\n",
              "        vertical-align: top;\n",
              "    }\n",
              "\n",
              "    .dataframe thead th {\n",
              "        text-align: right;\n",
              "    }\n",
              "</style>\n",
              "<table border=\"1\" class=\"dataframe\">\n",
              "  <thead>\n",
              "    <tr style=\"text-align: right;\">\n",
              "      <th></th>\n",
              "      <th>0</th>\n",
              "      <th>1</th>\n",
              "    </tr>\n",
              "  </thead>\n",
              "  <tbody>\n",
              "    <tr>\n",
              "      <th>0</th>\n",
              "      <td>George</td>\n",
              "      <td>B</td>\n",
              "    </tr>\n",
              "    <tr>\n",
              "      <th>1</th>\n",
              "      <td>Calvin</td>\n",
              "      <td>J</td>\n",
              "    </tr>\n",
              "    <tr>\n",
              "      <th>2</th>\n",
              "      <td>Chris</td>\n",
              "      <td>P</td>\n",
              "    </tr>\n",
              "    <tr>\n",
              "      <th>3</th>\n",
              "      <td>Average</td>\n",
              "      <td>Grade</td>\n",
              "    </tr>\n",
              "  </tbody>\n",
              "</table>\n",
              "</div>"
            ],
            "text/plain": [
              "         0      1\n",
              "0   George      B\n",
              "1   Calvin      J\n",
              "2    Chris      P\n",
              "3  Average  Grade"
            ]
          },
          "metadata": {
            "tags": []
          },
          "execution_count": 90
        }
      ]
    },
    {
      "cell_type": "code",
      "metadata": {
        "id": "swV1BZf6oc_l",
        "colab_type": "code",
        "outputId": "7ed63aa0-eb4c-4304-de1f-d7b1a324ee36",
        "colab": {
          "base_uri": "https://localhost:8080/",
          "height": 171
        }
      },
      "source": [
        "# create the \"First Name\" and \"Last Name\" columns to the DataFrame\n",
        "\n",
        "grades[\"First Name\"], grades[\"Last Name\"] = names.values.T\n",
        "grades"
      ],
      "execution_count": 91,
      "outputs": [
        {
          "output_type": "execute_result",
          "data": {
            "text/html": [
              "<div>\n",
              "<style scoped>\n",
              "    .dataframe tbody tr th:only-of-type {\n",
              "        vertical-align: middle;\n",
              "    }\n",
              "\n",
              "    .dataframe tbody tr th {\n",
              "        vertical-align: top;\n",
              "    }\n",
              "\n",
              "    .dataframe thead th {\n",
              "        text-align: right;\n",
              "    }\n",
              "</style>\n",
              "<table border=\"1\" class=\"dataframe\">\n",
              "  <thead>\n",
              "    <tr style=\"text-align: right;\">\n",
              "      <th></th>\n",
              "      <th>Name</th>\n",
              "      <th>Exam 1</th>\n",
              "      <th>Exam 2</th>\n",
              "      <th>Exam 3</th>\n",
              "      <th>Final Grade</th>\n",
              "      <th>Letter Grade</th>\n",
              "      <th>First Name</th>\n",
              "      <th>Last Name</th>\n",
              "    </tr>\n",
              "  </thead>\n",
              "  <tbody>\n",
              "    <tr>\n",
              "      <th>0</th>\n",
              "      <td>George B.</td>\n",
              "      <td>90.0</td>\n",
              "      <td>87.00</td>\n",
              "      <td>96.00</td>\n",
              "      <td>91.00</td>\n",
              "      <td>A</td>\n",
              "      <td>George</td>\n",
              "      <td>B</td>\n",
              "    </tr>\n",
              "    <tr>\n",
              "      <th>1</th>\n",
              "      <td>Calvin J.</td>\n",
              "      <td>79.0</td>\n",
              "      <td>100.00</td>\n",
              "      <td>92.00</td>\n",
              "      <td>90.33</td>\n",
              "      <td>A</td>\n",
              "      <td>Calvin</td>\n",
              "      <td>J</td>\n",
              "    </tr>\n",
              "    <tr>\n",
              "      <th>2</th>\n",
              "      <td>Chris P.</td>\n",
              "      <td>98.0</td>\n",
              "      <td>60.00</td>\n",
              "      <td>74.00</td>\n",
              "      <td>77.33</td>\n",
              "      <td>C</td>\n",
              "      <td>Chris</td>\n",
              "      <td>P</td>\n",
              "    </tr>\n",
              "    <tr>\n",
              "      <th>3</th>\n",
              "      <td>Average Grade</td>\n",
              "      <td>89.0</td>\n",
              "      <td>82.33</td>\n",
              "      <td>87.33</td>\n",
              "      <td>86.22</td>\n",
              "      <td>B</td>\n",
              "      <td>Average</td>\n",
              "      <td>Grade</td>\n",
              "    </tr>\n",
              "  </tbody>\n",
              "</table>\n",
              "</div>"
            ],
            "text/plain": [
              "            Name  Exam 1  Exam 2  ...  Letter Grade  First Name Last Name\n",
              "0      George B.    90.0   87.00  ...             A      George         B\n",
              "1      Calvin J.    79.0  100.00  ...             A      Calvin         J\n",
              "2       Chris P.    98.0   60.00  ...             C       Chris         P\n",
              "3  Average Grade    89.0   82.33  ...             B     Average     Grade\n",
              "\n",
              "[4 rows x 8 columns]"
            ]
          },
          "metadata": {
            "tags": []
          },
          "execution_count": 91
        }
      ]
    },
    {
      "cell_type": "code",
      "metadata": {
        "id": "sofV83TOpvOH",
        "colab_type": "code",
        "outputId": "43b179be-63f3-4dae-d6f4-339ba38ae00b",
        "colab": {
          "base_uri": "https://localhost:8080/",
          "height": 69
        }
      },
      "source": [
        "# you can also perform groupby operations on DataFrames\n",
        "\n",
        "# here is our DataFrame\n",
        "\n",
        "summer.columns"
      ],
      "execution_count": 92,
      "outputs": [
        {
          "output_type": "execute_result",
          "data": {
            "text/plain": [
              "Index(['Year', 'City', 'Sport', 'Discipline', 'Athlete', 'Country', 'Gender',\n",
              "       'Event', 'Medal'],\n",
              "      dtype='object')"
            ]
          },
          "metadata": {
            "tags": []
          },
          "execution_count": 92
        }
      ]
    },
    {
      "cell_type": "code",
      "metadata": {
        "id": "F1RAGS_GbdFG",
        "colab_type": "code",
        "outputId": "a2a7a630-e8f9-4f6b-9445-4fe1988ad972",
        "colab": {
          "base_uri": "https://localhost:8080/",
          "height": 202
        }
      },
      "source": [
        "summer.head()"
      ],
      "execution_count": 93,
      "outputs": [
        {
          "output_type": "execute_result",
          "data": {
            "text/html": [
              "<div>\n",
              "<style scoped>\n",
              "    .dataframe tbody tr th:only-of-type {\n",
              "        vertical-align: middle;\n",
              "    }\n",
              "\n",
              "    .dataframe tbody tr th {\n",
              "        vertical-align: top;\n",
              "    }\n",
              "\n",
              "    .dataframe thead th {\n",
              "        text-align: right;\n",
              "    }\n",
              "</style>\n",
              "<table border=\"1\" class=\"dataframe\">\n",
              "  <thead>\n",
              "    <tr style=\"text-align: right;\">\n",
              "      <th></th>\n",
              "      <th>Year</th>\n",
              "      <th>City</th>\n",
              "      <th>Sport</th>\n",
              "      <th>Discipline</th>\n",
              "      <th>Athlete</th>\n",
              "      <th>Country</th>\n",
              "      <th>Gender</th>\n",
              "      <th>Event</th>\n",
              "      <th>Medal</th>\n",
              "    </tr>\n",
              "  </thead>\n",
              "  <tbody>\n",
              "    <tr>\n",
              "      <th>0</th>\n",
              "      <td>1896</td>\n",
              "      <td>Athens</td>\n",
              "      <td>Aquatics</td>\n",
              "      <td>Swimming</td>\n",
              "      <td>HAJOS, Alfred</td>\n",
              "      <td>HUN</td>\n",
              "      <td>Men</td>\n",
              "      <td>100M Freestyle</td>\n",
              "      <td>Gold</td>\n",
              "    </tr>\n",
              "    <tr>\n",
              "      <th>1</th>\n",
              "      <td>1896</td>\n",
              "      <td>Athens</td>\n",
              "      <td>Aquatics</td>\n",
              "      <td>Swimming</td>\n",
              "      <td>HERSCHMANN, Otto</td>\n",
              "      <td>AUT</td>\n",
              "      <td>Men</td>\n",
              "      <td>100M Freestyle</td>\n",
              "      <td>Silver</td>\n",
              "    </tr>\n",
              "    <tr>\n",
              "      <th>2</th>\n",
              "      <td>1896</td>\n",
              "      <td>Athens</td>\n",
              "      <td>Aquatics</td>\n",
              "      <td>Swimming</td>\n",
              "      <td>DRIVAS, Dimitrios</td>\n",
              "      <td>GRE</td>\n",
              "      <td>Men</td>\n",
              "      <td>100M Freestyle For Sailors</td>\n",
              "      <td>Bronze</td>\n",
              "    </tr>\n",
              "    <tr>\n",
              "      <th>3</th>\n",
              "      <td>1896</td>\n",
              "      <td>Athens</td>\n",
              "      <td>Aquatics</td>\n",
              "      <td>Swimming</td>\n",
              "      <td>MALOKINIS, Ioannis</td>\n",
              "      <td>GRE</td>\n",
              "      <td>Men</td>\n",
              "      <td>100M Freestyle For Sailors</td>\n",
              "      <td>Gold</td>\n",
              "    </tr>\n",
              "    <tr>\n",
              "      <th>4</th>\n",
              "      <td>1896</td>\n",
              "      <td>Athens</td>\n",
              "      <td>Aquatics</td>\n",
              "      <td>Swimming</td>\n",
              "      <td>CHASAPIS, Spiridon</td>\n",
              "      <td>GRE</td>\n",
              "      <td>Men</td>\n",
              "      <td>100M Freestyle For Sailors</td>\n",
              "      <td>Silver</td>\n",
              "    </tr>\n",
              "  </tbody>\n",
              "</table>\n",
              "</div>"
            ],
            "text/plain": [
              "   Year    City     Sport  ... Gender                       Event   Medal\n",
              "0  1896  Athens  Aquatics  ...    Men              100M Freestyle    Gold\n",
              "1  1896  Athens  Aquatics  ...    Men              100M Freestyle  Silver\n",
              "2  1896  Athens  Aquatics  ...    Men  100M Freestyle For Sailors  Bronze\n",
              "3  1896  Athens  Aquatics  ...    Men  100M Freestyle For Sailors    Gold\n",
              "4  1896  Athens  Aquatics  ...    Men  100M Freestyle For Sailors  Silver\n",
              "\n",
              "[5 rows x 9 columns]"
            ]
          },
          "metadata": {
            "tags": []
          },
          "execution_count": 93
        }
      ]
    },
    {
      "cell_type": "code",
      "metadata": {
        "id": "8P57URiIbdUq",
        "colab_type": "code",
        "outputId": "a343ea35-3fec-461b-8921-3cffff1c6380",
        "colab": {
          "base_uri": "https://localhost:8080/",
          "height": 242
        }
      },
      "source": [
        "# we can group by \"Country\" first, and then find all the medal counts for each country\n",
        "\n",
        "total_medals = summer.groupby(\"Country\")[\"Medal\"].count()\n",
        "\n",
        "total_medals.sort_values(ascending = False)"
      ],
      "execution_count": 94,
      "outputs": [
        {
          "output_type": "execute_result",
          "data": {
            "text/plain": [
              "Country\n",
              "USA    4585\n",
              "URS    2049\n",
              "GBR    1720\n",
              "FRA    1396\n",
              "GER    1305\n",
              "       ... \n",
              "GUY       1\n",
              "GUA       1\n",
              "DJI       1\n",
              "GRN       1\n",
              "BRN       1\n",
              "Name: Medal, Length: 147, dtype: int64"
            ]
          },
          "metadata": {
            "tags": []
          },
          "execution_count": 94
        }
      ]
    },
    {
      "cell_type": "code",
      "metadata": {
        "id": "g07DctHxbdZ2",
        "colab_type": "code",
        "outputId": "8fea2587-11d4-4226-bd8f-7b75c134cdb0",
        "colab": {
          "base_uri": "https://localhost:8080/",
          "height": 138
        }
      },
      "source": [
        "# groupby with multiple columns\n",
        "\n",
        "total_medals = summer.groupby([\"Country\",\"Gender\"])[\"Medal\"].count()\n",
        "total_medals.iloc[35:40]"
      ],
      "execution_count": 95,
      "outputs": [
        {
          "output_type": "execute_result",
          "data": {
            "text/plain": [
              "Country  Gender\n",
              "CHI      Men        32\n",
              "         Women       1\n",
              "CHN      Men       270\n",
              "         Women     537\n",
              "CIV      Men         1\n",
              "Name: Medal, dtype: int64"
            ]
          },
          "metadata": {
            "tags": []
          },
          "execution_count": 95
        }
      ]
    },
    {
      "cell_type": "code",
      "metadata": {
        "id": "oe7NcbvvbdTY",
        "colab_type": "code",
        "outputId": "38240221-1d15-495a-bd4b-fb04a1cf3b4b",
        "colab": {
          "base_uri": "https://localhost:8080/",
          "height": 242
        }
      },
      "source": [
        "# sort in descending orderr\n",
        "\n",
        "total_medals.sort_values(ascending = False)"
      ],
      "execution_count": 96,
      "outputs": [
        {
          "output_type": "execute_result",
          "data": {
            "text/plain": [
              "Country  Gender\n",
              "USA      Men       3208\n",
              "URS      Men       1476\n",
              "GBR      Men       1412\n",
              "USA      Women     1377\n",
              "FRA      Men       1254\n",
              "                   ... \n",
              "BRN      Women        1\n",
              "SIN      Men          1\n",
              "BOT      Men          1\n",
              "BOH      Women        1\n",
              "GAB      Men          1\n",
              "Name: Medal, Length: 236, dtype: int64"
            ]
          },
          "metadata": {
            "tags": []
          },
          "execution_count": 96
        }
      ]
    },
    {
      "cell_type": "code",
      "metadata": {
        "id": "7jTfrrIObdQ-",
        "colab_type": "code",
        "outputId": "a7bc5357-ec30-4d33-a96b-a5483da4363c",
        "colab": {
          "base_uri": "https://localhost:8080/",
          "height": 415
        }
      },
      "source": [
        "# find the average number of medals for each gender using the previous total_medals DataFrame\n",
        "\n",
        "df = total_medals.reset_index()\n",
        "df"
      ],
      "execution_count": 97,
      "outputs": [
        {
          "output_type": "execute_result",
          "data": {
            "text/html": [
              "<div>\n",
              "<style scoped>\n",
              "    .dataframe tbody tr th:only-of-type {\n",
              "        vertical-align: middle;\n",
              "    }\n",
              "\n",
              "    .dataframe tbody tr th {\n",
              "        vertical-align: top;\n",
              "    }\n",
              "\n",
              "    .dataframe thead th {\n",
              "        text-align: right;\n",
              "    }\n",
              "</style>\n",
              "<table border=\"1\" class=\"dataframe\">\n",
              "  <thead>\n",
              "    <tr style=\"text-align: right;\">\n",
              "      <th></th>\n",
              "      <th>Country</th>\n",
              "      <th>Gender</th>\n",
              "      <th>Medal</th>\n",
              "    </tr>\n",
              "  </thead>\n",
              "  <tbody>\n",
              "    <tr>\n",
              "      <th>0</th>\n",
              "      <td>AFG</td>\n",
              "      <td>Men</td>\n",
              "      <td>2</td>\n",
              "    </tr>\n",
              "    <tr>\n",
              "      <th>1</th>\n",
              "      <td>AHO</td>\n",
              "      <td>Men</td>\n",
              "      <td>1</td>\n",
              "    </tr>\n",
              "    <tr>\n",
              "      <th>2</th>\n",
              "      <td>ALG</td>\n",
              "      <td>Men</td>\n",
              "      <td>12</td>\n",
              "    </tr>\n",
              "    <tr>\n",
              "      <th>3</th>\n",
              "      <td>ALG</td>\n",
              "      <td>Women</td>\n",
              "      <td>3</td>\n",
              "    </tr>\n",
              "    <tr>\n",
              "      <th>4</th>\n",
              "      <td>ANZ</td>\n",
              "      <td>Men</td>\n",
              "      <td>27</td>\n",
              "    </tr>\n",
              "    <tr>\n",
              "      <th>...</th>\n",
              "      <td>...</td>\n",
              "      <td>...</td>\n",
              "      <td>...</td>\n",
              "    </tr>\n",
              "    <tr>\n",
              "      <th>231</th>\n",
              "      <td>YUG</td>\n",
              "      <td>Women</td>\n",
              "      <td>62</td>\n",
              "    </tr>\n",
              "    <tr>\n",
              "      <th>232</th>\n",
              "      <td>ZAM</td>\n",
              "      <td>Men</td>\n",
              "      <td>2</td>\n",
              "    </tr>\n",
              "    <tr>\n",
              "      <th>233</th>\n",
              "      <td>ZIM</td>\n",
              "      <td>Women</td>\n",
              "      <td>23</td>\n",
              "    </tr>\n",
              "    <tr>\n",
              "      <th>234</th>\n",
              "      <td>ZZX</td>\n",
              "      <td>Men</td>\n",
              "      <td>45</td>\n",
              "    </tr>\n",
              "    <tr>\n",
              "      <th>235</th>\n",
              "      <td>ZZX</td>\n",
              "      <td>Women</td>\n",
              "      <td>3</td>\n",
              "    </tr>\n",
              "  </tbody>\n",
              "</table>\n",
              "<p>236 rows × 3 columns</p>\n",
              "</div>"
            ],
            "text/plain": [
              "    Country Gender  Medal\n",
              "0       AFG    Men      2\n",
              "1       AHO    Men      1\n",
              "2       ALG    Men     12\n",
              "3       ALG  Women      3\n",
              "4       ANZ    Men     27\n",
              "..      ...    ...    ...\n",
              "231     YUG  Women     62\n",
              "232     ZAM    Men      2\n",
              "233     ZIM  Women     23\n",
              "234     ZZX    Men     45\n",
              "235     ZZX  Women      3\n",
              "\n",
              "[236 rows x 3 columns]"
            ]
          },
          "metadata": {
            "tags": []
          },
          "execution_count": 97
        }
      ]
    },
    {
      "cell_type": "code",
      "metadata": {
        "id": "zF66yIPrbdOU",
        "colab_type": "code",
        "outputId": "2144bdf6-ddda-4bfd-f3ee-ea7e64c4c881",
        "colab": {
          "base_uri": "https://localhost:8080/",
          "height": 86
        }
      },
      "source": [
        "df.groupby(\"Gender\")[\"Medal\"].mean()"
      ],
      "execution_count": 98,
      "outputs": [
        {
          "output_type": "execute_result",
          "data": {
            "text/plain": [
              "Gender\n",
              "Men      161.304965\n",
              "Women     88.600000\n",
              "Name: Medal, dtype: float64"
            ]
          },
          "metadata": {
            "tags": []
          },
          "execution_count": 98
        }
      ]
    },
    {
      "cell_type": "code",
      "metadata": {
        "id": "CGnm8qAabdME",
        "colab_type": "code",
        "outputId": "7dacf19d-75b3-4cec-db34-9ba8257ba503",
        "colab": {
          "base_uri": "https://localhost:8080/",
          "height": 140
        }
      },
      "source": [
        "# find the average number of medals for each gender as well as the total number of countries represented by each gender\n",
        "\n",
        "df.groupby(\"Gender\").aggregate({\"Medal\":\"mean\", \"Country\" : \"count\"})"
      ],
      "execution_count": 99,
      "outputs": [
        {
          "output_type": "execute_result",
          "data": {
            "text/html": [
              "<div>\n",
              "<style scoped>\n",
              "    .dataframe tbody tr th:only-of-type {\n",
              "        vertical-align: middle;\n",
              "    }\n",
              "\n",
              "    .dataframe tbody tr th {\n",
              "        vertical-align: top;\n",
              "    }\n",
              "\n",
              "    .dataframe thead th {\n",
              "        text-align: right;\n",
              "    }\n",
              "</style>\n",
              "<table border=\"1\" class=\"dataframe\">\n",
              "  <thead>\n",
              "    <tr style=\"text-align: right;\">\n",
              "      <th></th>\n",
              "      <th>Medal</th>\n",
              "      <th>Country</th>\n",
              "    </tr>\n",
              "    <tr>\n",
              "      <th>Gender</th>\n",
              "      <th></th>\n",
              "      <th></th>\n",
              "    </tr>\n",
              "  </thead>\n",
              "  <tbody>\n",
              "    <tr>\n",
              "      <th>Men</th>\n",
              "      <td>161.304965</td>\n",
              "      <td>141</td>\n",
              "    </tr>\n",
              "    <tr>\n",
              "      <th>Women</th>\n",
              "      <td>88.600000</td>\n",
              "      <td>95</td>\n",
              "    </tr>\n",
              "  </tbody>\n",
              "</table>\n",
              "</div>"
            ],
            "text/plain": [
              "             Medal  Country\n",
              "Gender                     \n",
              "Men     161.304965      141\n",
              "Women    88.600000       95"
            ]
          },
          "metadata": {
            "tags": []
          },
          "execution_count": 99
        }
      ]
    },
    {
      "cell_type": "code",
      "metadata": {
        "id": "36JB-EI2xb-s",
        "colab_type": "code",
        "outputId": "890c128c-8cb3-40f4-f898-8c9a76be4966",
        "colab": {
          "base_uri": "https://localhost:8080/",
          "height": 484
        }
      },
      "source": [
        "# concatenating lists for a DataFrame\n",
        "\n",
        "dfs = []\n",
        "for day in range(1, 32):\n",
        "  day = str(day) if day > 9 else \"0\" + str(day)\n",
        "  URL = f\"https://raw.githubusercontent.com/j-on-son/Data/master/ISyE3803/Relay%20Bikes/March%20Data%20for%20rentals%20in%20vs.%20out%20by%20station/hub_stats_relay_bike_share_03_{day}_2018-03_{day}_2018.csv\"\n",
        "  df = pd.read_csv(URL)\n",
        "  df[\"Day\"] = day\n",
        "  dfs.append(df)\n",
        "\n",
        "pd.concat(dfs, axis = 0)"
      ],
      "execution_count": 100,
      "outputs": [
        {
          "output_type": "execute_result",
          "data": {
            "text/html": [
              "<div>\n",
              "<style scoped>\n",
              "    .dataframe tbody tr th:only-of-type {\n",
              "        vertical-align: middle;\n",
              "    }\n",
              "\n",
              "    .dataframe tbody tr th {\n",
              "        vertical-align: top;\n",
              "    }\n",
              "\n",
              "    .dataframe thead th {\n",
              "        text-align: right;\n",
              "    }\n",
              "</style>\n",
              "<table border=\"1\" class=\"dataframe\">\n",
              "  <thead>\n",
              "    <tr style=\"text-align: right;\">\n",
              "      <th></th>\n",
              "      <th>Name</th>\n",
              "      <th>Rentals total</th>\n",
              "      <th>Rentals out</th>\n",
              "      <th>Rentals in</th>\n",
              "      <th>00:00 - 11:00 out</th>\n",
              "      <th>00:00 - 11:00 in</th>\n",
              "      <th>11:00 - 15:00 out</th>\n",
              "      <th>11:00 - 15:00 in</th>\n",
              "      <th>15:00 - 19:00 out</th>\n",
              "      <th>15:00 - 19:00 in</th>\n",
              "      <th>19:00 - 23:59 out</th>\n",
              "      <th>19:00 - 23:59 in</th>\n",
              "      <th>Time low [%]</th>\n",
              "      <th>Time full [%]</th>\n",
              "      <th>Median bikes</th>\n",
              "      <th>Day</th>\n",
              "    </tr>\n",
              "  </thead>\n",
              "  <tbody>\n",
              "    <tr>\n",
              "      <th>0</th>\n",
              "      <td>VIRTUAL HUB - ATLANTA BICYCLE COALITION</td>\n",
              "      <td>0</td>\n",
              "      <td>0</td>\n",
              "      <td>0</td>\n",
              "      <td>0</td>\n",
              "      <td>0</td>\n",
              "      <td>0</td>\n",
              "      <td>0</td>\n",
              "      <td>0</td>\n",
              "      <td>0</td>\n",
              "      <td>0</td>\n",
              "      <td>0</td>\n",
              "      <td>0.00</td>\n",
              "      <td>100.0</td>\n",
              "      <td>0.0</td>\n",
              "      <td>01</td>\n",
              "    </tr>\n",
              "    <tr>\n",
              "      <th>1</th>\n",
              "      <td>VIRTUAL HUB - CANDLER PARK</td>\n",
              "      <td>0</td>\n",
              "      <td>0</td>\n",
              "      <td>0</td>\n",
              "      <td>0</td>\n",
              "      <td>0</td>\n",
              "      <td>0</td>\n",
              "      <td>0</td>\n",
              "      <td>0</td>\n",
              "      <td>0</td>\n",
              "      <td>0</td>\n",
              "      <td>0</td>\n",
              "      <td>0.00</td>\n",
              "      <td>0.0</td>\n",
              "      <td>0.0</td>\n",
              "      <td>01</td>\n",
              "    </tr>\n",
              "    <tr>\n",
              "      <th>2</th>\n",
              "      <td>VIRTUAL HUB - BROWNWOOD PARK RECREATION CENTER</td>\n",
              "      <td>0</td>\n",
              "      <td>0</td>\n",
              "      <td>0</td>\n",
              "      <td>0</td>\n",
              "      <td>0</td>\n",
              "      <td>0</td>\n",
              "      <td>0</td>\n",
              "      <td>0</td>\n",
              "      <td>0</td>\n",
              "      <td>0</td>\n",
              "      <td>0</td>\n",
              "      <td>0.00</td>\n",
              "      <td>0.0</td>\n",
              "      <td>0.0</td>\n",
              "      <td>01</td>\n",
              "    </tr>\n",
              "    <tr>\n",
              "      <th>3</th>\n",
              "      <td>TWO WHEEL VALET-CARE WALK IN HER SHOES- VIRTUA...</td>\n",
              "      <td>0</td>\n",
              "      <td>0</td>\n",
              "      <td>0</td>\n",
              "      <td>0</td>\n",
              "      <td>0</td>\n",
              "      <td>0</td>\n",
              "      <td>0</td>\n",
              "      <td>0</td>\n",
              "      <td>0</td>\n",
              "      <td>0</td>\n",
              "      <td>0</td>\n",
              "      <td>0.00</td>\n",
              "      <td>0.0</td>\n",
              "      <td>0.0</td>\n",
              "      <td>01</td>\n",
              "    </tr>\n",
              "    <tr>\n",
              "      <th>4</th>\n",
              "      <td>BROAD &amp; MITCHELL</td>\n",
              "      <td>0</td>\n",
              "      <td>0</td>\n",
              "      <td>0</td>\n",
              "      <td>0</td>\n",
              "      <td>0</td>\n",
              "      <td>0</td>\n",
              "      <td>0</td>\n",
              "      <td>0</td>\n",
              "      <td>0</td>\n",
              "      <td>0</td>\n",
              "      <td>0</td>\n",
              "      <td>0.00</td>\n",
              "      <td>0.0</td>\n",
              "      <td>2.0</td>\n",
              "      <td>01</td>\n",
              "    </tr>\n",
              "    <tr>\n",
              "      <th>...</th>\n",
              "      <td>...</td>\n",
              "      <td>...</td>\n",
              "      <td>...</td>\n",
              "      <td>...</td>\n",
              "      <td>...</td>\n",
              "      <td>...</td>\n",
              "      <td>...</td>\n",
              "      <td>...</td>\n",
              "      <td>...</td>\n",
              "      <td>...</td>\n",
              "      <td>...</td>\n",
              "      <td>...</td>\n",
              "      <td>...</td>\n",
              "      <td>...</td>\n",
              "      <td>...</td>\n",
              "      <td>...</td>\n",
              "    </tr>\n",
              "    <tr>\n",
              "      <th>118</th>\n",
              "      <td>VIRGINIA-HIGHLAND</td>\n",
              "      <td>13</td>\n",
              "      <td>7</td>\n",
              "      <td>6</td>\n",
              "      <td>0</td>\n",
              "      <td>1</td>\n",
              "      <td>4</td>\n",
              "      <td>1</td>\n",
              "      <td>3</td>\n",
              "      <td>4</td>\n",
              "      <td>0</td>\n",
              "      <td>0</td>\n",
              "      <td>6.14</td>\n",
              "      <td>0.0</td>\n",
              "      <td>3.5</td>\n",
              "      <td>31</td>\n",
              "    </tr>\n",
              "    <tr>\n",
              "      <th>119</th>\n",
              "      <td>INMAN PARK VILLAGE</td>\n",
              "      <td>2</td>\n",
              "      <td>0</td>\n",
              "      <td>2</td>\n",
              "      <td>0</td>\n",
              "      <td>0</td>\n",
              "      <td>0</td>\n",
              "      <td>0</td>\n",
              "      <td>0</td>\n",
              "      <td>2</td>\n",
              "      <td>0</td>\n",
              "      <td>0</td>\n",
              "      <td>0.00</td>\n",
              "      <td>0.0</td>\n",
              "      <td>2.5</td>\n",
              "      <td>31</td>\n",
              "    </tr>\n",
              "    <tr>\n",
              "      <th>120</th>\n",
              "      <td>GRANT PARK</td>\n",
              "      <td>8</td>\n",
              "      <td>4</td>\n",
              "      <td>4</td>\n",
              "      <td>0</td>\n",
              "      <td>0</td>\n",
              "      <td>3</td>\n",
              "      <td>1</td>\n",
              "      <td>1</td>\n",
              "      <td>3</td>\n",
              "      <td>0</td>\n",
              "      <td>0</td>\n",
              "      <td>0.00</td>\n",
              "      <td>0.0</td>\n",
              "      <td>9.0</td>\n",
              "      <td>31</td>\n",
              "    </tr>\n",
              "    <tr>\n",
              "      <th>121</th>\n",
              "      <td>HIGHLAND - FREEDOM TRAIL</td>\n",
              "      <td>13</td>\n",
              "      <td>8</td>\n",
              "      <td>5</td>\n",
              "      <td>0</td>\n",
              "      <td>0</td>\n",
              "      <td>3</td>\n",
              "      <td>1</td>\n",
              "      <td>5</td>\n",
              "      <td>2</td>\n",
              "      <td>0</td>\n",
              "      <td>2</td>\n",
              "      <td>0.00</td>\n",
              "      <td>58.0</td>\n",
              "      <td>7.0</td>\n",
              "      <td>31</td>\n",
              "    </tr>\n",
              "    <tr>\n",
              "      <th>122</th>\n",
              "      <td>PONCE - HIGHLAND</td>\n",
              "      <td>4</td>\n",
              "      <td>1</td>\n",
              "      <td>3</td>\n",
              "      <td>0</td>\n",
              "      <td>1</td>\n",
              "      <td>1</td>\n",
              "      <td>1</td>\n",
              "      <td>0</td>\n",
              "      <td>1</td>\n",
              "      <td>0</td>\n",
              "      <td>0</td>\n",
              "      <td>0.00</td>\n",
              "      <td>0.0</td>\n",
              "      <td>10.0</td>\n",
              "      <td>31</td>\n",
              "    </tr>\n",
              "  </tbody>\n",
              "</table>\n",
              "<p>3813 rows × 16 columns</p>\n",
              "</div>"
            ],
            "text/plain": [
              "                                                  Name  ...  Day\n",
              "0              VIRTUAL HUB - ATLANTA BICYCLE COALITION  ...   01\n",
              "1                          VIRTUAL HUB - CANDLER PARK   ...   01\n",
              "2       VIRTUAL HUB - BROWNWOOD PARK RECREATION CENTER  ...   01\n",
              "3    TWO WHEEL VALET-CARE WALK IN HER SHOES- VIRTUA...  ...   01\n",
              "4                                     BROAD & MITCHELL  ...   01\n",
              "..                                                 ...  ...  ...\n",
              "118                                  VIRGINIA-HIGHLAND  ...   31\n",
              "119                                 INMAN PARK VILLAGE  ...   31\n",
              "120                                        GRANT PARK   ...   31\n",
              "121                           HIGHLAND - FREEDOM TRAIL  ...   31\n",
              "122                                   PONCE - HIGHLAND  ...   31\n",
              "\n",
              "[3813 rows x 16 columns]"
            ]
          },
          "metadata": {
            "tags": []
          },
          "execution_count": 100
        }
      ]
    },
    {
      "cell_type": "code",
      "metadata": {
        "id": "o5mGWe6xxcMT",
        "colab_type": "code",
        "outputId": "426184c1-5c40-4a10-d714-09f0b49f7143",
        "colab": {
          "base_uri": "https://localhost:8080/",
          "height": 263
        }
      },
      "source": [
        "# in the example below we will show how to perform an inner join on the courses DataFrame defined previously\n",
        "\n",
        "a = pd.Series([0, 1, 2, 3, 4, 5, 6])\n",
        "df = courses.reset_index()\n",
        "df"
      ],
      "execution_count": 101,
      "outputs": [
        {
          "output_type": "execute_result",
          "data": {
            "text/html": [
              "<div>\n",
              "<style scoped>\n",
              "    .dataframe tbody tr th:only-of-type {\n",
              "        vertical-align: middle;\n",
              "    }\n",
              "\n",
              "    .dataframe tbody tr th {\n",
              "        vertical-align: top;\n",
              "    }\n",
              "\n",
              "    .dataframe thead th {\n",
              "        text-align: right;\n",
              "    }\n",
              "</style>\n",
              "<table border=\"1\" class=\"dataframe\">\n",
              "  <thead>\n",
              "    <tr style=\"text-align: right;\">\n",
              "      <th></th>\n",
              "      <th>Course</th>\n",
              "      <th>Enrollment</th>\n",
              "      <th>Avg_GPA</th>\n",
              "      <th>Large</th>\n",
              "    </tr>\n",
              "  </thead>\n",
              "  <tbody>\n",
              "    <tr>\n",
              "      <th>0</th>\n",
              "      <td>CS2316</td>\n",
              "      <td>150.0</td>\n",
              "      <td>3.15</td>\n",
              "      <td>0.0</td>\n",
              "    </tr>\n",
              "    <tr>\n",
              "      <th>1</th>\n",
              "      <td>CS1331</td>\n",
              "      <td>850.0</td>\n",
              "      <td>2.91</td>\n",
              "      <td>1.0</td>\n",
              "    </tr>\n",
              "    <tr>\n",
              "      <th>2</th>\n",
              "      <td>ISyE2027</td>\n",
              "      <td>200.0</td>\n",
              "      <td>2.86</td>\n",
              "      <td>1.0</td>\n",
              "    </tr>\n",
              "    <tr>\n",
              "      <th>3</th>\n",
              "      <td>ISyE2028</td>\n",
              "      <td>200.0</td>\n",
              "      <td>3.11</td>\n",
              "      <td>1.0</td>\n",
              "    </tr>\n",
              "    <tr>\n",
              "      <th>4</th>\n",
              "      <td>MATH2603</td>\n",
              "      <td>100.0</td>\n",
              "      <td>3.15</td>\n",
              "      <td>0.0</td>\n",
              "    </tr>\n",
              "    <tr>\n",
              "      <th>5</th>\n",
              "      <td>CS2803</td>\n",
              "      <td>50.0</td>\n",
              "      <td>NaN</td>\n",
              "      <td>0.0</td>\n",
              "    </tr>\n",
              "    <tr>\n",
              "      <th>6</th>\n",
              "      <td>ISyE3803</td>\n",
              "      <td>50.0</td>\n",
              "      <td>NaN</td>\n",
              "      <td>0.0</td>\n",
              "    </tr>\n",
              "  </tbody>\n",
              "</table>\n",
              "</div>"
            ],
            "text/plain": [
              "     Course  Enrollment  Avg_GPA  Large\n",
              "0    CS2316       150.0     3.15    0.0\n",
              "1    CS1331       850.0     2.91    1.0\n",
              "2  ISyE2027       200.0     2.86    1.0\n",
              "3  ISyE2028       200.0     3.11    1.0\n",
              "4  MATH2603       100.0     3.15    0.0\n",
              "5    CS2803        50.0      NaN    0.0\n",
              "6  ISyE3803        50.0      NaN    0.0"
            ]
          },
          "metadata": {
            "tags": []
          },
          "execution_count": 101
        }
      ]
    },
    {
      "cell_type": "code",
      "metadata": {
        "id": "kJ7Ze6w2xccF",
        "colab_type": "code",
        "outputId": "c66fe479-bb2e-4a80-9007-9ccf4e276ee9",
        "colab": {
          "base_uri": "https://localhost:8080/",
          "height": 263
        }
      },
      "source": [
        "# First let’s construct a department column using material we learned previously\n",
        "\n",
        "df[\"Department\"] = df[\"Course\"].str.replace(r\"\\d{4}\",\"\")\n",
        "df"
      ],
      "execution_count": 102,
      "outputs": [
        {
          "output_type": "execute_result",
          "data": {
            "text/html": [
              "<div>\n",
              "<style scoped>\n",
              "    .dataframe tbody tr th:only-of-type {\n",
              "        vertical-align: middle;\n",
              "    }\n",
              "\n",
              "    .dataframe tbody tr th {\n",
              "        vertical-align: top;\n",
              "    }\n",
              "\n",
              "    .dataframe thead th {\n",
              "        text-align: right;\n",
              "    }\n",
              "</style>\n",
              "<table border=\"1\" class=\"dataframe\">\n",
              "  <thead>\n",
              "    <tr style=\"text-align: right;\">\n",
              "      <th></th>\n",
              "      <th>Course</th>\n",
              "      <th>Enrollment</th>\n",
              "      <th>Avg_GPA</th>\n",
              "      <th>Large</th>\n",
              "      <th>Department</th>\n",
              "    </tr>\n",
              "  </thead>\n",
              "  <tbody>\n",
              "    <tr>\n",
              "      <th>0</th>\n",
              "      <td>CS2316</td>\n",
              "      <td>150.0</td>\n",
              "      <td>3.15</td>\n",
              "      <td>0.0</td>\n",
              "      <td>CS</td>\n",
              "    </tr>\n",
              "    <tr>\n",
              "      <th>1</th>\n",
              "      <td>CS1331</td>\n",
              "      <td>850.0</td>\n",
              "      <td>2.91</td>\n",
              "      <td>1.0</td>\n",
              "      <td>CS</td>\n",
              "    </tr>\n",
              "    <tr>\n",
              "      <th>2</th>\n",
              "      <td>ISyE2027</td>\n",
              "      <td>200.0</td>\n",
              "      <td>2.86</td>\n",
              "      <td>1.0</td>\n",
              "      <td>ISyE</td>\n",
              "    </tr>\n",
              "    <tr>\n",
              "      <th>3</th>\n",
              "      <td>ISyE2028</td>\n",
              "      <td>200.0</td>\n",
              "      <td>3.11</td>\n",
              "      <td>1.0</td>\n",
              "      <td>ISyE</td>\n",
              "    </tr>\n",
              "    <tr>\n",
              "      <th>4</th>\n",
              "      <td>MATH2603</td>\n",
              "      <td>100.0</td>\n",
              "      <td>3.15</td>\n",
              "      <td>0.0</td>\n",
              "      <td>MATH</td>\n",
              "    </tr>\n",
              "    <tr>\n",
              "      <th>5</th>\n",
              "      <td>CS2803</td>\n",
              "      <td>50.0</td>\n",
              "      <td>NaN</td>\n",
              "      <td>0.0</td>\n",
              "      <td>CS</td>\n",
              "    </tr>\n",
              "    <tr>\n",
              "      <th>6</th>\n",
              "      <td>ISyE3803</td>\n",
              "      <td>50.0</td>\n",
              "      <td>NaN</td>\n",
              "      <td>0.0</td>\n",
              "      <td>ISyE</td>\n",
              "    </tr>\n",
              "  </tbody>\n",
              "</table>\n",
              "</div>"
            ],
            "text/plain": [
              "     Course  Enrollment  Avg_GPA  Large Department\n",
              "0    CS2316       150.0     3.15    0.0         CS\n",
              "1    CS1331       850.0     2.91    1.0         CS\n",
              "2  ISyE2027       200.0     2.86    1.0       ISyE\n",
              "3  ISyE2028       200.0     3.11    1.0       ISyE\n",
              "4  MATH2603       100.0     3.15    0.0       MATH\n",
              "5    CS2803        50.0      NaN    0.0         CS\n",
              "6  ISyE3803        50.0      NaN    0.0       ISyE"
            ]
          },
          "metadata": {
            "tags": []
          },
          "execution_count": 102
        }
      ]
    },
    {
      "cell_type": "code",
      "metadata": {
        "id": "WRIG2YsJxcZU",
        "colab_type": "code",
        "outputId": "6ffc9775-053e-44cc-ea4c-cb9c71830d2d",
        "colab": {
          "base_uri": "https://localhost:8080/",
          "height": 140
        }
      },
      "source": [
        "# now suppose we have a DataFrame mapping the department abbreviation to the department name and enrollment\n",
        "\n",
        "departments = pd.DataFrame({'Department': {'CS': 'Computer Science',\n",
        "  'ISyE': 'Industrial and Systems Engineering',\n",
        "  'MATH': 'Mathematics'},\n",
        " 'Total Enrollment': {'CS': 4000, 'ISyE': 1500, 'MATH': 900}}\n",
        ")\n",
        "departments"
      ],
      "execution_count": 103,
      "outputs": [
        {
          "output_type": "execute_result",
          "data": {
            "text/html": [
              "<div>\n",
              "<style scoped>\n",
              "    .dataframe tbody tr th:only-of-type {\n",
              "        vertical-align: middle;\n",
              "    }\n",
              "\n",
              "    .dataframe tbody tr th {\n",
              "        vertical-align: top;\n",
              "    }\n",
              "\n",
              "    .dataframe thead th {\n",
              "        text-align: right;\n",
              "    }\n",
              "</style>\n",
              "<table border=\"1\" class=\"dataframe\">\n",
              "  <thead>\n",
              "    <tr style=\"text-align: right;\">\n",
              "      <th></th>\n",
              "      <th>Department</th>\n",
              "      <th>Total Enrollment</th>\n",
              "    </tr>\n",
              "  </thead>\n",
              "  <tbody>\n",
              "    <tr>\n",
              "      <th>CS</th>\n",
              "      <td>Computer Science</td>\n",
              "      <td>4000</td>\n",
              "    </tr>\n",
              "    <tr>\n",
              "      <th>ISyE</th>\n",
              "      <td>Industrial and Systems Engineering</td>\n",
              "      <td>1500</td>\n",
              "    </tr>\n",
              "    <tr>\n",
              "      <th>MATH</th>\n",
              "      <td>Mathematics</td>\n",
              "      <td>900</td>\n",
              "    </tr>\n",
              "  </tbody>\n",
              "</table>\n",
              "</div>"
            ],
            "text/plain": [
              "                              Department  Total Enrollment\n",
              "CS                      Computer Science              4000\n",
              "ISyE  Industrial and Systems Engineering              1500\n",
              "MATH                         Mathematics               900"
            ]
          },
          "metadata": {
            "tags": []
          },
          "execution_count": 103
        }
      ]
    },
    {
      "cell_type": "code",
      "metadata": {
        "id": "azd3vf5N0NNc",
        "colab_type": "code",
        "outputId": "7bf9d585-db96-4491-fc28-69114d041ffd",
        "colab": {
          "base_uri": "https://localhost:8080/",
          "height": 207
        }
      },
      "source": [
        "# Every Pandas Series and DataFrame has the .plot method which is used to visualize patterns in the data. The parameters of interest are x, y, and kind. \n",
        "# Below we will highlight some of the basic plots that may be helpful for simple data visualization. \n",
        "# But first, let’s define a Series with uniformly distributed random values indexed by dates\n",
        "\n",
        "aSeries = pd.Series(index = pd.date_range(\"20200408\", periods = 10), data = np.random.randint(1,7, 10))\n",
        "aSeries"
      ],
      "execution_count": 104,
      "outputs": [
        {
          "output_type": "execute_result",
          "data": {
            "text/plain": [
              "2020-04-08    5\n",
              "2020-04-09    4\n",
              "2020-04-10    5\n",
              "2020-04-11    1\n",
              "2020-04-12    6\n",
              "2020-04-13    4\n",
              "2020-04-14    5\n",
              "2020-04-15    3\n",
              "2020-04-16    6\n",
              "2020-04-17    6\n",
              "Freq: D, dtype: int64"
            ]
          },
          "metadata": {
            "tags": []
          },
          "execution_count": 104
        }
      ]
    },
    {
      "cell_type": "code",
      "metadata": {
        "id": "z_HXZfpT0Nbr",
        "colab_type": "code",
        "outputId": "89e0fe9b-fefb-4507-9da8-c88d4686b9ce",
        "colab": {
          "base_uri": "https://localhost:8080/",
          "height": 306
        }
      },
      "source": [
        "# plotting lines\n",
        "\n",
        "aSeries.plot(x = aSeries.index, y = aSeries.values)"
      ],
      "execution_count": 105,
      "outputs": [
        {
          "output_type": "execute_result",
          "data": {
            "text/plain": [
              "<matplotlib.axes._subplots.AxesSubplot at 0x7f4fae762780>"
            ]
          },
          "metadata": {
            "tags": []
          },
          "execution_count": 105
        },
        {
          "output_type": "display_data",
          "data": {
            "image/png": "[encoded data removed]",
            "text/plain": [
              "<Figure size 432x288 with 1 Axes>"
            ]
          },
          "metadata": {
            "tags": [],
            "needs_background": "light"
          }
        }
      ]
    },
    {
      "cell_type": "code",
      "metadata": {
        "id": "CQy5yKbE0NsH",
        "colab_type": "code",
        "outputId": "8d8d8c98-a1be-4a61-9f6c-3c2be50f9afc",
        "colab": {
          "base_uri": "https://localhost:8080/",
          "height": 377
        }
      },
      "source": [
        "# plotting bars\n",
        "\n",
        "aSeries.plot(x = aSeries.index, y = aSeries.values, kind=\"bar\")"
      ],
      "execution_count": 106,
      "outputs": [
        {
          "output_type": "execute_result",
          "data": {
            "text/plain": [
              "<matplotlib.axes._subplots.AxesSubplot at 0x7f4fae7d0eb8>"
            ]
          },
          "metadata": {
            "tags": []
          },
          "execution_count": 106
        },
        {
          "output_type": "display_data",
          "data": {
            "image/png": "[encoded data removed]",
            "text/plain": [
              "<Figure size 432x288 with 1 Axes>"
            ]
          },
          "metadata": {
            "tags": [],
            "needs_background": "light"
          }
        }
      ]
    },
    {
      "cell_type": "code",
      "metadata": {
        "id": "f_wK5Y560Npd",
        "colab_type": "code",
        "outputId": "77eb1967-f788-47c8-ff21-9ece10e75f85",
        "colab": {
          "base_uri": "https://localhost:8080/",
          "height": 282
        }
      },
      "source": [
        "# plotting horizontal bars\n",
        "\n",
        "aSeries.plot(x = aSeries.index, y = aSeries.values, kind=\"barh\")"
      ],
      "execution_count": 107,
      "outputs": [
        {
          "output_type": "execute_result",
          "data": {
            "text/plain": [
              "<matplotlib.axes._subplots.AxesSubplot at 0x7f4fae66b048>"
            ]
          },
          "metadata": {
            "tags": []
          },
          "execution_count": 107
        },
        {
          "output_type": "display_data",
          "data": {
            "image/png": "[encoded data removed]",
            "text/plain": [
              "<Figure size 432x288 with 1 Axes>"
            ]
          },
          "metadata": {
            "tags": [],
            "needs_background": "light"
          }
        }
      ]
    },
    {
      "cell_type": "code",
      "metadata": {
        "id": "AUDI_xga022o",
        "colab_type": "code",
        "outputId": "cfc778d5-b8cd-44ee-da30-af8223a0f5a5",
        "colab": {
          "base_uri": "https://localhost:8080/",
          "height": 282
        }
      },
      "source": [
        "# plotting histograms\n",
        "\n",
        "aSeries.plot(x = aSeries.index, y = aSeries.values, kind=\"hist\")"
      ],
      "execution_count": 108,
      "outputs": [
        {
          "output_type": "execute_result",
          "data": {
            "text/plain": [
              "<matplotlib.axes._subplots.AxesSubplot at 0x7f4fae68ceb8>"
            ]
          },
          "metadata": {
            "tags": []
          },
          "execution_count": 108
        },
        {
          "output_type": "display_data",
          "data": {
            "image/png": "[encoded data removed]",
            "text/plain": [
              "<Figure size 432x288 with 1 Axes>"
            ]
          },
          "metadata": {
            "tags": [],
            "needs_background": "light"
          }
        }
      ]
    },
    {
      "cell_type": "code",
      "metadata": {
        "id": "Z_GBJSDJ03FF",
        "colab_type": "code",
        "outputId": "c3a1f48a-236b-4481-8957-cc51eb4c698a",
        "colab": {
          "base_uri": "https://localhost:8080/",
          "height": 282
        }
      },
      "source": [
        "# plotting box-and-whiskers\n",
        "\n",
        "aSeries.plot(x = aSeries.index, y = aSeries.values, kind=\"box\")"
      ],
      "execution_count": 109,
      "outputs": [
        {
          "output_type": "execute_result",
          "data": {
            "text/plain": [
              "<matplotlib.axes._subplots.AxesSubplot at 0x7f4fae5e10f0>"
            ]
          },
          "metadata": {
            "tags": []
          },
          "execution_count": 109
        },
        {
          "output_type": "display_data",
          "data": {
            "image/png": "[encoded data removed]",
            "text/plain": [
              "<Figure size 432x288 with 1 Axes>"
            ]
          },
          "metadata": {
            "tags": [],
            "needs_background": "light"
          }
        }
      ]
    },
    {
      "cell_type": "code",
      "metadata": {
        "id": "FViApGqP03TP",
        "colab_type": "code",
        "outputId": "773db830-dbdc-4df3-f1c9-0e26b10c19b3",
        "colab": {
          "base_uri": "https://localhost:8080/",
          "height": 265
        }
      },
      "source": [
        "# plotting pie graphs\n",
        "\n",
        "percent_occurances = aSeries.value_counts()/10 * 100\n",
        "percent_occurances.plot(kind = \"pie\")"
      ],
      "execution_count": 110,
      "outputs": [
        {
          "output_type": "execute_result",
          "data": {
            "text/plain": [
              "<matplotlib.axes._subplots.AxesSubplot at 0x7f4fae5a2828>"
            ]
          },
          "metadata": {
            "tags": []
          },
          "execution_count": 110
        },
        {
          "output_type": "display_data",
          "data": {
            "image/png": "[encoded data removed]",
            "text/plain": [
              "<Figure size 432x288 with 1 Axes>"
            ]
          },
          "metadata": {
            "tags": []
          }
        }
      ]
    }
  ]
}