{
  "nbformat": 4,
  "nbformat_minor": 0,
  "metadata": {
    "colab": {
      "name": "Data Cleaning",
      "provenance": [],
      "collapsed_sections": [],
      "include_colab_link": true
    },
    "kernelspec": {
      "name": "python3",
      "display_name": "Python 3"
    }
  },
  "cells": [
    {
      "cell_type": "markdown",
      "metadata": {
        "id": "view-in-github",
        "colab_type": "text"
      },
      "source": [
        "<a href=\"https://colab.research.google.com/github/j-on-son/Data/blob/master/Data_Cleaning.ipynb\" target=\"_parent\"><img src=\"https://colab.research.google.com/assets/colab-badge.svg\" alt=\"Open In Colab\"/></a>"
      ]
    },
    {
      "cell_type": "code",
      "metadata": {
        "id": "5p36qc_oj3TD",
        "colab_type": "code",
        "colab": {}
      },
      "source": [
        "import pandas as pd\n",
        "import numpy as np\n",
        "import re"
      ],
      "execution_count": 0,
      "outputs": []
    },
    {
      "cell_type": "code",
      "metadata": {
        "id": "lu_dQTs3kMrt",
        "colab_type": "code",
        "colab": {}
      },
      "source": [
        "df = pd.read_csv(\"https://raw.githubusercontent.com/j-on-son/Data/master/ISyE3803/Relay%20Bikes/Station%20Capacities.csv\")\n",
        "df.Station = df.Station.apply(lambda x : re.sub(r\"(\\w)&(\\w)\", r\"\\1 & \\2\", x.upper().strip()))\n",
        "df.Station = df.Station.apply(lambda x : re.sub(r\"(\\w) ?- ?(\\w)\", r\"\\1 - \\2\", x))\n",
        "df.Station = np.where(df.Station == \"CENTINNIAL OLYMPIC PARK\", \"CENTENNIAL OLYMPIC PARK\",\n",
        "                np.where(df.Station == \"FEDERAL RESERVE BANK OF AMERICA\", \"FEDERAL RESERVE BANK OF ATLANTA\",\n",
        "                    np.where(df.Station == 'GEORGIA TECH - WEST CAMPUS HOUSING', \"WEST CAMPUS\",\n",
        "                        np.where(df.Station == 'GORDON-WHITE PARK', \"GORON - WHITE PARK\",\n",
        "                            np.where(df.Station == 'GREENWOD AVE BELTLINE', \"GREENWOOD AVE BELTLINE\",\n",
        "                                np.where(df.Station == \"IRWIN & EAST SIDE BELTLINE\", \"IRWIN & EASTSIDE BELTLINE\",\n",
        "                                    np.where(df.Station ==\"JUNIPER & 14TH STREET\", \"JUNIPER & 14TH ST\", \n",
        "                                        np.where(df.Station == \"MARTS - MIDTOWN(NORTH)\", \"MARTA MIDTOWN (NORTH)\", \n",
        "                                           np.where(df.Station == 'RANDOPH & EDGEWOOD', 'RANDOLPH & EDGEWOOD', \n",
        "                                              np.where(df.Station == \"TECH SQAURE\", \"TECH SQUARE\",\n",
        "                                                  np.where(df.Station == \"THE COCA COLA COMPANY\", \"THE COCA-COLA COMPANY\", df.Station)))))))))))"
      ],
      "execution_count": 0,
      "outputs": []
    },
    {
      "cell_type": "code",
      "metadata": {
        "id": "HD0ca6pXkv3d",
        "colab_type": "code",
        "colab": {}
      },
      "source": [
        "odf = pd.read_csv(\"https://github.com/j-on-son/Data/blob/master/ISyE3803/Relay%20Bikes/Relay%20Trips.csv?raw=true\")"
      ],
      "execution_count": 0,
      "outputs": []
    },
    {
      "cell_type": "code",
      "metadata": {
        "id": "6JhKrgswBXn3",
        "colab_type": "code",
        "colab": {}
      },
      "source": [
        "odf[\"Start Hub\"] = odf[\"Start Hub\"].apply(lambda x : x if x is np.nan else re.sub(r\"(\\w) ?- ?(\\w)\", r\"\\1 - \\2\", x.strip()))\n",
        "odf[\"End Hub\"] = odf[\"End Hub\"].apply(lambda x : x if x is np.nan else re.sub(r\"(\\w) ?- ?(\\w)\", r\"\\1 - \\2\", x.strip()))\n",
        "for i in [\"Start Hub\", \"End Hub\"]:\n",
        "  odf[i] = np.where(odf[i] == \"GREENWOD AVE BELTLINE\", 'GREENWOOD AVE BELTLINE', \n",
        "              np.where(odf[i] == \"GEORGIA TECH - CRC\", 'CRC', \n",
        "                  np.where(odf[i] == \"GEORGIA TECH - TRANSIT HUB\", 'TRANSIT  HUB', \n",
        "                      np.where(odf[i] == \"GEORGIA TECH - WEST CAMPUS HOUSING\", 'WEST CAMPUS', \n",
        "                          np.where(odf[i] == \"GORDON-WHITE PARK\", \"GORDON - WHITE PARK\",\n",
        "                              np.where(odf[i] == \"IRWIN & EASTSIDE BELTLINE\", \"GORDON - WHITE PARK\", \n",
        "                                 np.where(odf[i] == \"MARTA - MIDTOWN  (NORTH)\", \"MARTA MIDTOWN (NORTH)\", \n",
        "                                    np.where(odf[i] == 'MARTA - NORTH AVE', \"MARTA NORTH AVE\", \n",
        "                                        np.where(odf[i] == \"GEORGIA TECH - CLOUGH BUILDING\", \"CLOUGH\", \n",
        "                                            np.where(odf[i] == \"GEORGIA TECH - BOBBY DODD STADIUM\", \"BOBBY DODD STADIUM\", \n",
        "                                                np.where(odf[i] == 'PIEDMONT &  AUBURN', 'PIEDMONT AND AUBURN', \n",
        "                                                    np.where(odf[i] == 'THE COCA - COLA COMPANY', \"THE COCA-COLA COMPANY\", \n",
        "                                                        np.where(odf[i] == \"HISTORIC WESTSIDE VILLAGE\", \"WESTSIDE VILLAGE\", odf[i])))))))))))))\n"
      ],
      "execution_count": 0,
      "outputs": []
    },
    {
      "cell_type": "code",
      "metadata": {
        "id": "nPJ9RVirK-Ze",
        "colab_type": "code",
        "outputId": "7b1b2cc8-1723-41b8-c597-18084e630d40",
        "colab": {
          "base_uri": "https://localhost:8080/",
          "height": 34
        }
      },
      "source": [
        "oodf = set(odf[\"Start Hub\"].values)\n",
        "ddf = set(df.Station.values)\n",
        "ddf - oodf"
      ],
      "execution_count": 0,
      "outputs": [
        {
          "output_type": "execute_result",
          "data": {
            "text/plain": [
              "{'IRWIN & EASTSIDE BELTLINE', 'THE COCA - COLA COMPANY'}"
            ]
          },
          "metadata": {
            "tags": []
          },
          "execution_count": 5
        }
      ]
    },
    {
      "cell_type": "code",
      "metadata": {
        "id": "_TRUxqDxPdJT",
        "colab_type": "code",
        "colab": {}
      },
      "source": [
        "odf.to_csv(\"Relay Trips.csv\",index=False);df.to_csv(\"Station Capacities.csv\",index=False)"
      ],
      "execution_count": 0,
      "outputs": []
    },
    {
      "cell_type": "code",
      "metadata": {
        "id": "vd7f8x9OLJ1x",
        "colab_type": "code",
        "outputId": "eb84f08c-ab16-4ee1-cd3e-881ac595dc87",
        "colab": {
          "base_uri": "https://localhost:8080/",
          "height": 329
        }
      },
      "source": [
        "from google.colab import files\n",
        "files.download(\"Relay Trips.csv\");files.download(\"Station Capacities.csv\")"
      ],
      "execution_count": 0,
      "outputs": [
        {
          "output_type": "error",
          "ename": "KeyboardInterrupt",
          "evalue": "ignored",
          "traceback": [
            "\u001b[0;31m---------------------------------------------------------------------------\u001b[0m",
            "\u001b[0;31mKeyboardInterrupt\u001b[0m                         Traceback (most recent call last)",
            "\u001b[0;32m<ipython-input-16-4497cf407773>\u001b[0m in \u001b[0;36m<module>\u001b[0;34m()\u001b[0m\n\u001b[1;32m      1\u001b[0m \u001b[0;32mfrom\u001b[0m \u001b[0mgoogle\u001b[0m\u001b[0;34m.\u001b[0m\u001b[0mcolab\u001b[0m \u001b[0;32mimport\u001b[0m \u001b[0mfiles\u001b[0m\u001b[0;34m\u001b[0m\u001b[0;34m\u001b[0m\u001b[0m\n\u001b[0;32m----> 2\u001b[0;31m \u001b[0mfiles\u001b[0m\u001b[0;34m.\u001b[0m\u001b[0mdownload\u001b[0m\u001b[0;34m(\u001b[0m\u001b[0;34m\"Relay Trips.csv\"\u001b[0m\u001b[0;34m)\u001b[0m\u001b[0;34m;\u001b[0m\u001b[0mfiles\u001b[0m\u001b[0;34m.\u001b[0m\u001b[0mdownload\u001b[0m\u001b[0;34m(\u001b[0m\u001b[0;34m\"Station Capacities.csv\"\u001b[0m\u001b[0;34m)\u001b[0m\u001b[0;34m\u001b[0m\u001b[0;34m\u001b[0m\u001b[0m\n\u001b[0m",
            "\u001b[0;32m/usr/local/lib/python3.6/dist-packages/google/colab/files.py\u001b[0m in \u001b[0;36mdownload\u001b[0;34m(filename)\u001b[0m\n\u001b[1;32m    176\u001b[0m       \u001b[0;34m'port'\u001b[0m\u001b[0;34m:\u001b[0m \u001b[0mport\u001b[0m\u001b[0;34m,\u001b[0m\u001b[0;34m\u001b[0m\u001b[0;34m\u001b[0m\u001b[0m\n\u001b[1;32m    177\u001b[0m       \u001b[0;34m'path'\u001b[0m\u001b[0;34m:\u001b[0m \u001b[0m_os\u001b[0m\u001b[0;34m.\u001b[0m\u001b[0mpath\u001b[0m\u001b[0;34m.\u001b[0m\u001b[0mabspath\u001b[0m\u001b[0;34m(\u001b[0m\u001b[0mfilename\u001b[0m\u001b[0;34m)\u001b[0m\u001b[0;34m,\u001b[0m\u001b[0;34m\u001b[0m\u001b[0;34m\u001b[0m\u001b[0m\n\u001b[0;32m--> 178\u001b[0;31m       \u001b[0;34m'name'\u001b[0m\u001b[0;34m:\u001b[0m \u001b[0m_os\u001b[0m\u001b[0;34m.\u001b[0m\u001b[0mpath\u001b[0m\u001b[0;34m.\u001b[0m\u001b[0mbasename\u001b[0m\u001b[0;34m(\u001b[0m\u001b[0mfilename\u001b[0m\u001b[0;34m)\u001b[0m\u001b[0;34m,\u001b[0m\u001b[0;34m\u001b[0m\u001b[0;34m\u001b[0m\u001b[0m\n\u001b[0m\u001b[1;32m    179\u001b[0m   })\n",
            "\u001b[0;32m/usr/local/lib/python3.6/dist-packages/google/colab/output/_js.py\u001b[0m in \u001b[0;36meval_js\u001b[0;34m(script, ignore_result)\u001b[0m\n\u001b[1;32m     37\u001b[0m   \u001b[0;32mif\u001b[0m \u001b[0mignore_result\u001b[0m\u001b[0;34m:\u001b[0m\u001b[0;34m\u001b[0m\u001b[0;34m\u001b[0m\u001b[0m\n\u001b[1;32m     38\u001b[0m     \u001b[0;32mreturn\u001b[0m\u001b[0;34m\u001b[0m\u001b[0;34m\u001b[0m\u001b[0m\n\u001b[0;32m---> 39\u001b[0;31m   \u001b[0;32mreturn\u001b[0m \u001b[0m_message\u001b[0m\u001b[0;34m.\u001b[0m\u001b[0mread_reply_from_input\u001b[0m\u001b[0;34m(\u001b[0m\u001b[0mrequest_id\u001b[0m\u001b[0;34m)\u001b[0m\u001b[0;34m\u001b[0m\u001b[0;34m\u001b[0m\u001b[0m\n\u001b[0m\u001b[1;32m     40\u001b[0m \u001b[0;34m\u001b[0m\u001b[0m\n\u001b[1;32m     41\u001b[0m \u001b[0;34m\u001b[0m\u001b[0m\n",
            "\u001b[0;32m/usr/local/lib/python3.6/dist-packages/google/colab/_message.py\u001b[0m in \u001b[0;36mread_reply_from_input\u001b[0;34m(message_id, timeout_sec)\u001b[0m\n\u001b[1;32m     99\u001b[0m     \u001b[0mreply\u001b[0m \u001b[0;34m=\u001b[0m \u001b[0m_read_next_input_message\u001b[0m\u001b[0;34m(\u001b[0m\u001b[0;34m)\u001b[0m\u001b[0;34m\u001b[0m\u001b[0;34m\u001b[0m\u001b[0m\n\u001b[1;32m    100\u001b[0m     \u001b[0;32mif\u001b[0m \u001b[0mreply\u001b[0m \u001b[0;34m==\u001b[0m \u001b[0m_NOT_READY\u001b[0m \u001b[0;32mor\u001b[0m \u001b[0;32mnot\u001b[0m \u001b[0misinstance\u001b[0m\u001b[0;34m(\u001b[0m\u001b[0mreply\u001b[0m\u001b[0;34m,\u001b[0m \u001b[0mdict\u001b[0m\u001b[0;34m)\u001b[0m\u001b[0;34m:\u001b[0m\u001b[0;34m\u001b[0m\u001b[0;34m\u001b[0m\u001b[0m\n\u001b[0;32m--> 101\u001b[0;31m       \u001b[0mtime\u001b[0m\u001b[0;34m.\u001b[0m\u001b[0msleep\u001b[0m\u001b[0;34m(\u001b[0m\u001b[0;36m0.025\u001b[0m\u001b[0;34m)\u001b[0m\u001b[0;34m\u001b[0m\u001b[0;34m\u001b[0m\u001b[0m\n\u001b[0m\u001b[1;32m    102\u001b[0m       \u001b[0;32mcontinue\u001b[0m\u001b[0;34m\u001b[0m\u001b[0;34m\u001b[0m\u001b[0m\n\u001b[1;32m    103\u001b[0m     if (reply.get('type') == 'colab_reply' and\n",
            "\u001b[0;31mKeyboardInterrupt\u001b[0m: "
          ]
        }
      ]
    },
    {
      "cell_type": "code",
      "metadata": {
        "id": "hl6qweFvP7FS",
        "colab_type": "code",
        "colab": {}
      },
      "source": [
        "ls"
      ],
      "execution_count": 0,
      "outputs": []
    },
    {
      "cell_type": "code",
      "metadata": {
        "id": "0g5l_o18P8bt",
        "colab_type": "code",
        "outputId": "4f6b5946-67dc-401b-e14a-2a9eb8f4a472",
        "colab": {
          "base_uri": "https://localhost:8080/",
          "height": 660
        }
      },
      "source": [
        "odf"
      ],
      "execution_count": 0,
      "outputs": [
        {
          "output_type": "execute_result",
          "data": {
            "text/html": [
              "<div>\n",
              "<style scoped>\n",
              "    .dataframe tbody tr th:only-of-type {\n",
              "        vertical-align: middle;\n",
              "    }\n",
              "\n",
              "    .dataframe tbody tr th {\n",
              "        vertical-align: top;\n",
              "    }\n",
              "\n",
              "    .dataframe thead th {\n",
              "        text-align: right;\n",
              "    }\n",
              "</style>\n",
              "<table border=\"1\" class=\"dataframe\">\n",
              "  <thead>\n",
              "    <tr style=\"text-align: right;\">\n",
              "      <th></th>\n",
              "      <th>User ID</th>\n",
              "      <th>Route ID</th>\n",
              "      <th>Payment Plan</th>\n",
              "      <th>Start Hub</th>\n",
              "      <th>Start Latitude</th>\n",
              "      <th>Start Longitude</th>\n",
              "      <th>Start Date</th>\n",
              "      <th>Start Time</th>\n",
              "      <th>End Hub</th>\n",
              "      <th>End Latitude</th>\n",
              "      <th>End Longitude</th>\n",
              "      <th>End Date</th>\n",
              "      <th>End Time</th>\n",
              "      <th>Trip Type</th>\n",
              "      <th>Bike ID</th>\n",
              "      <th>Distance [Miles]</th>\n",
              "      <th>Duration</th>\n",
              "      <th>Rental Access Path</th>\n",
              "      <th>Multiple Rental</th>\n",
              "      <th>Ride cost</th>\n",
              "      <th>Fees</th>\n",
              "      <th>Bonuses</th>\n",
              "      <th>Total cost</th>\n",
              "    </tr>\n",
              "  </thead>\n",
              "  <tbody>\n",
              "    <tr>\n",
              "      <th>0</th>\n",
              "      <td>378572</td>\n",
              "      <td>3043976</td>\n",
              "      <td>PAY AS YOU GO</td>\n",
              "      <td>14TH &amp; HOWELL MILL</td>\n",
              "      <td>33.785835</td>\n",
              "      <td>-84.4108166666666</td>\n",
              "      <td>2017-06-01</td>\n",
              "      <td>01:43:00</td>\n",
              "      <td>STATE &amp; 11TH</td>\n",
              "      <td>33.7832433333333</td>\n",
              "      <td>-84.3989533333333</td>\n",
              "      <td>2017-06-01</td>\n",
              "      <td>02:02:00</td>\n",
              "      <td>NaN</td>\n",
              "      <td>12388</td>\n",
              "      <td>0.94</td>\n",
              "      <td>00:18:54</td>\n",
              "      <td>keypad</td>\n",
              "      <td>True</td>\n",
              "      <td>0.00</td>\n",
              "      <td>0.0</td>\n",
              "      <td>0</td>\n",
              "      <td>0.00</td>\n",
              "    </tr>\n",
              "    <tr>\n",
              "      <th>1</th>\n",
              "      <td>378572</td>\n",
              "      <td>3043984</td>\n",
              "      <td>PAY AS YOU GO</td>\n",
              "      <td>14TH &amp; HOWELL MILL</td>\n",
              "      <td>33.7859066666666</td>\n",
              "      <td>-84.4106783333333</td>\n",
              "      <td>2017-06-01</td>\n",
              "      <td>01:43:00</td>\n",
              "      <td>STATE &amp; 11TH</td>\n",
              "      <td>33.7832966666666</td>\n",
              "      <td>-84.3989833333333</td>\n",
              "      <td>2017-06-01</td>\n",
              "      <td>01:50:00</td>\n",
              "      <td>NaN</td>\n",
              "      <td>11753</td>\n",
              "      <td>0.90</td>\n",
              "      <td>00:06:24</td>\n",
              "      <td>keypad</td>\n",
              "      <td>True</td>\n",
              "      <td>1.05</td>\n",
              "      <td>0.0</td>\n",
              "      <td>0</td>\n",
              "      <td>1.05</td>\n",
              "    </tr>\n",
              "    <tr>\n",
              "      <th>2</th>\n",
              "      <td>378588</td>\n",
              "      <td>3044258</td>\n",
              "      <td>PAY AS YOU GO</td>\n",
              "      <td>HARDY IVY PARK</td>\n",
              "      <td>33.763075</td>\n",
              "      <td>-84.3875183333333</td>\n",
              "      <td>2017-06-01</td>\n",
              "      <td>02:21:00</td>\n",
              "      <td>HARDY IVY PARK</td>\n",
              "      <td>33.7626733333333</td>\n",
              "      <td>-84.387395</td>\n",
              "      <td>2017-06-01</td>\n",
              "      <td>04:09:00</td>\n",
              "      <td>NaN</td>\n",
              "      <td>12553</td>\n",
              "      <td>4.03</td>\n",
              "      <td>01:47:48</td>\n",
              "      <td>mobile</td>\n",
              "      <td>False</td>\n",
              "      <td>11.70</td>\n",
              "      <td>0.0</td>\n",
              "      <td>0</td>\n",
              "      <td>11.70</td>\n",
              "    </tr>\n",
              "    <tr>\n",
              "      <th>3</th>\n",
              "      <td>378609</td>\n",
              "      <td>3044376</td>\n",
              "      <td>PAY AS YOU GO</td>\n",
              "      <td>NaN</td>\n",
              "      <td>33.759085</td>\n",
              "      <td>-84.388945</td>\n",
              "      <td>2017-06-01</td>\n",
              "      <td>02:35:00</td>\n",
              "      <td>HARDY IVY PARK</td>\n",
              "      <td>33.76273</td>\n",
              "      <td>-84.387375</td>\n",
              "      <td>2017-06-01</td>\n",
              "      <td>04:09:00</td>\n",
              "      <td>NaN</td>\n",
              "      <td>10859</td>\n",
              "      <td>3.22</td>\n",
              "      <td>01:34:14</td>\n",
              "      <td>keypad</td>\n",
              "      <td>False</td>\n",
              "      <td>9.75</td>\n",
              "      <td>0.0</td>\n",
              "      <td>-1</td>\n",
              "      <td>8.75</td>\n",
              "    </tr>\n",
              "    <tr>\n",
              "      <th>4</th>\n",
              "      <td>378610</td>\n",
              "      <td>3044393</td>\n",
              "      <td>PAY AS YOU GO</td>\n",
              "      <td>NaN</td>\n",
              "      <td>33.7588866666666</td>\n",
              "      <td>-84.3889433333333</td>\n",
              "      <td>2017-06-01</td>\n",
              "      <td>02:36:00</td>\n",
              "      <td>HARDY IVY PARK</td>\n",
              "      <td>33.7626533333333</td>\n",
              "      <td>-84.387395</td>\n",
              "      <td>2017-06-01</td>\n",
              "      <td>04:08:00</td>\n",
              "      <td>NaN</td>\n",
              "      <td>12494</td>\n",
              "      <td>3.17</td>\n",
              "      <td>01:32:22</td>\n",
              "      <td>keypad</td>\n",
              "      <td>False</td>\n",
              "      <td>9.45</td>\n",
              "      <td>0.0</td>\n",
              "      <td>-1</td>\n",
              "      <td>8.45</td>\n",
              "    </tr>\n",
              "    <tr>\n",
              "      <th>...</th>\n",
              "      <td>...</td>\n",
              "      <td>...</td>\n",
              "      <td>...</td>\n",
              "      <td>...</td>\n",
              "      <td>...</td>\n",
              "      <td>...</td>\n",
              "      <td>...</td>\n",
              "      <td>...</td>\n",
              "      <td>...</td>\n",
              "      <td>...</td>\n",
              "      <td>...</td>\n",
              "      <td>...</td>\n",
              "      <td>...</td>\n",
              "      <td>...</td>\n",
              "      <td>...</td>\n",
              "      <td>...</td>\n",
              "      <td>...</td>\n",
              "      <td>...</td>\n",
              "      <td>...</td>\n",
              "      <td>...</td>\n",
              "      <td>...</td>\n",
              "      <td>...</td>\n",
              "      <td>...</td>\n",
              "    </tr>\n",
              "    <tr>\n",
              "      <th>91508</th>\n",
              "      <td>276632</td>\n",
              "      <td>6168281</td>\n",
              "      <td>NaN</td>\n",
              "      <td>GREENWOOD AVE BELTLINE</td>\n",
              "      <td>33.776705</td>\n",
              "      <td>-84.3651966666666</td>\n",
              "      <td>2018-04-03</td>\n",
              "      <td>11:18:00</td>\n",
              "      <td>GREENWOOD AVE BELTLINE</td>\n",
              "      <td>33.776705</td>\n",
              "      <td>-84.3651966666666</td>\n",
              "      <td>2018-04-03</td>\n",
              "      <td>11:18:00</td>\n",
              "      <td>NaN</td>\n",
              "      <td>12636</td>\n",
              "      <td>0.00</td>\n",
              "      <td>00:00:06</td>\n",
              "      <td>keypad</td>\n",
              "      <td>False</td>\n",
              "      <td>0.00</td>\n",
              "      <td>0.0</td>\n",
              "      <td>0</td>\n",
              "      <td>0.00</td>\n",
              "    </tr>\n",
              "    <tr>\n",
              "      <th>91509</th>\n",
              "      <td>602164</td>\n",
              "      <td>6168407</td>\n",
              "      <td>NaN</td>\n",
              "      <td>NaN</td>\n",
              "      <td>33.73751</td>\n",
              "      <td>-84.4090083333333</td>\n",
              "      <td>2018-04-03</td>\n",
              "      <td>11:24:00</td>\n",
              "      <td>NaN</td>\n",
              "      <td>33.7374033333333</td>\n",
              "      <td>-84.409025</td>\n",
              "      <td>2018-04-03</td>\n",
              "      <td>11:30:00</td>\n",
              "      <td>NaN</td>\n",
              "      <td>12495</td>\n",
              "      <td>0.02</td>\n",
              "      <td>00:05:56</td>\n",
              "      <td>keypad_rfid_card</td>\n",
              "      <td>True</td>\n",
              "      <td>0.00</td>\n",
              "      <td>0.0</td>\n",
              "      <td>0</td>\n",
              "      <td>0.00</td>\n",
              "    </tr>\n",
              "    <tr>\n",
              "      <th>91510</th>\n",
              "      <td>602164</td>\n",
              "      <td>6168410</td>\n",
              "      <td>NaN</td>\n",
              "      <td>NaN</td>\n",
              "      <td>33.737495</td>\n",
              "      <td>-84.4090233333333</td>\n",
              "      <td>2018-04-03</td>\n",
              "      <td>11:25:00</td>\n",
              "      <td>NaN</td>\n",
              "      <td>33.7374216666666</td>\n",
              "      <td>-84.409025</td>\n",
              "      <td>2018-04-03</td>\n",
              "      <td>11:29:00</td>\n",
              "      <td>NaN</td>\n",
              "      <td>11726</td>\n",
              "      <td>0.02</td>\n",
              "      <td>00:04:37</td>\n",
              "      <td>keypad_rfid_card</td>\n",
              "      <td>True</td>\n",
              "      <td>0.00</td>\n",
              "      <td>0.0</td>\n",
              "      <td>0</td>\n",
              "      <td>0.00</td>\n",
              "    </tr>\n",
              "    <tr>\n",
              "      <th>91511</th>\n",
              "      <td>276632</td>\n",
              "      <td>6168636</td>\n",
              "      <td>NaN</td>\n",
              "      <td>GREENWOOD AVE BELTLINE</td>\n",
              "      <td>33.77665</td>\n",
              "      <td>-84.3651566666666</td>\n",
              "      <td>2018-04-03</td>\n",
              "      <td>11:38:00</td>\n",
              "      <td>GREENWOOD AVE BELTLINE</td>\n",
              "      <td>33.7767283333333</td>\n",
              "      <td>-84.365215</td>\n",
              "      <td>2018-04-03</td>\n",
              "      <td>11:39:00</td>\n",
              "      <td>NaN</td>\n",
              "      <td>10865</td>\n",
              "      <td>0.01</td>\n",
              "      <td>00:00:23</td>\n",
              "      <td>keypad</td>\n",
              "      <td>False</td>\n",
              "      <td>0.00</td>\n",
              "      <td>0.0</td>\n",
              "      <td>0</td>\n",
              "      <td>0.00</td>\n",
              "    </tr>\n",
              "    <tr>\n",
              "      <th>91512</th>\n",
              "      <td>585021</td>\n",
              "      <td>6168723</td>\n",
              "      <td>SNAP PASS SUBSCRIPTION</td>\n",
              "      <td>MARTA - INMAN PARK</td>\n",
              "      <td>33.7573883333333</td>\n",
              "      <td>-84.3538383333333</td>\n",
              "      <td>2018-04-03</td>\n",
              "      <td>11:43:00</td>\n",
              "      <td>LITTLE FIVE POINTS</td>\n",
              "      <td>33.7641783333333</td>\n",
              "      <td>-84.350685</td>\n",
              "      <td>2018-04-03</td>\n",
              "      <td>11:47:00</td>\n",
              "      <td>NaN</td>\n",
              "      <td>12698</td>\n",
              "      <td>0.65</td>\n",
              "      <td>00:04:07</td>\n",
              "      <td>mobile</td>\n",
              "      <td>False</td>\n",
              "      <td>0.00</td>\n",
              "      <td>0.0</td>\n",
              "      <td>0</td>\n",
              "      <td>0.00</td>\n",
              "    </tr>\n",
              "  </tbody>\n",
              "</table>\n",
              "<p>91513 rows × 23 columns</p>\n",
              "</div>"
            ],
            "text/plain": [
              "       User ID  Route ID            Payment Plan  ... Fees Bonuses Total cost\n",
              "0       378572   3043976           PAY AS YOU GO  ...  0.0       0       0.00\n",
              "1       378572   3043984           PAY AS YOU GO  ...  0.0       0       1.05\n",
              "2       378588   3044258           PAY AS YOU GO  ...  0.0       0      11.70\n",
              "3       378609   3044376           PAY AS YOU GO  ...  0.0      -1       8.75\n",
              "4       378610   3044393           PAY AS YOU GO  ...  0.0      -1       8.45\n",
              "...        ...       ...                     ...  ...  ...     ...        ...\n",
              "91508   276632   6168281                     NaN  ...  0.0       0       0.00\n",
              "91509   602164   6168407                     NaN  ...  0.0       0       0.00\n",
              "91510   602164   6168410                     NaN  ...  0.0       0       0.00\n",
              "91511   276632   6168636                     NaN  ...  0.0       0       0.00\n",
              "91512   585021   6168723  SNAP PASS SUBSCRIPTION  ...  0.0       0       0.00\n",
              "\n",
              "[91513 rows x 23 columns]"
            ]
          },
          "metadata": {
            "tags": []
          },
          "execution_count": 11
        }
      ]
    },
    {
      "cell_type": "code",
      "metadata": {
        "id": "7o7TA610TchU",
        "colab_type": "code",
        "outputId": "86dcdd42-e4b0-4777-dc06-e829dbad9ab6",
        "colab": {
          "base_uri": "https://localhost:8080/",
          "height": 281
        }
      },
      "source": [
        "a = np.array([i for i in odf[\"End Hub\"].unique() if i is not np.nan and \"VIRTUAL\" not in i])\n",
        "b = odf.dropna()\n",
        "b[\"End Latitude\"] = b[\"End Latitude\"].astype(float)\n",
        "b[\"End Longitude\"] = b[\"End Longitude\"].astype(float)\n",
        "c = b.groupby([\"End Hub\"])[\"End Latitude\", \"End Longitude\"].mean()"
      ],
      "execution_count": 0,
      "outputs": [
        {
          "output_type": "stream",
          "text": [
            "/usr/local/lib/python3.6/dist-packages/ipykernel_launcher.py:3: SettingWithCopyWarning: \n",
            "A value is trying to be set on a copy of a slice from a DataFrame.\n",
            "Try using .loc[row_indexer,col_indexer] = value instead\n",
            "\n",
            "See the caveats in the documentation: https://pandas.pydata.org/pandas-docs/stable/user_guide/indexing.html#returning-a-view-versus-a-copy\n",
            "  This is separate from the ipykernel package so we can avoid doing imports until\n",
            "/usr/local/lib/python3.6/dist-packages/ipykernel_launcher.py:4: SettingWithCopyWarning: \n",
            "A value is trying to be set on a copy of a slice from a DataFrame.\n",
            "Try using .loc[row_indexer,col_indexer] = value instead\n",
            "\n",
            "See the caveats in the documentation: https://pandas.pydata.org/pandas-docs/stable/user_guide/indexing.html#returning-a-view-versus-a-copy\n",
            "  after removing the cwd from sys.path.\n",
            "/usr/local/lib/python3.6/dist-packages/ipykernel_launcher.py:5: FutureWarning: Indexing with multiple keys (implicitly converted to a tuple of keys) will be deprecated, use a list instead.\n",
            "  \"\"\"\n"
          ],
          "name": "stderr"
        }
      ]
    },
    {
      "cell_type": "code",
      "metadata": {
        "id": "iwiorYN0D41I",
        "colab_type": "code",
        "colab": {}
      },
      "source": [
        "c.to_csv(\"hub_lat_long.csv\", index=True)"
      ],
      "execution_count": 0,
      "outputs": []
    },
    {
      "cell_type": "code",
      "metadata": {
        "id": "0e37QM1mGU-x",
        "colab_type": "code",
        "outputId": "72c9ce3b-8437-49f7-fa30-676951daf373",
        "colab": {
          "base_uri": "https://localhost:8080/",
          "height": 34
        }
      },
      "source": [
        "ls"
      ],
      "execution_count": 0,
      "outputs": [
        {
          "output_type": "stream",
          "text": [
            " hub_lat_long.csv  'Relay Trips.csv'   \u001b[0m\u001b[01;34msample_data\u001b[0m/  'Station Capacities.csv'\n"
          ],
          "name": "stdout"
        }
      ]
    },
    {
      "cell_type": "code",
      "metadata": {
        "id": "gE0-41eCGZW9",
        "colab_type": "code",
        "colab": {}
      },
      "source": [
        "from google.colab import files\n",
        "files.download(\"hub_lat_long.csv\")"
      ],
      "execution_count": 0,
      "outputs": []
    },
    {
      "cell_type": "code",
      "metadata": {
        "id": "GJBVXnSiGdEf",
        "colab_type": "code",
        "colab": {}
      },
      "source": [
        ""
      ],
      "execution_count": 0,
      "outputs": []
    }
  ]
}